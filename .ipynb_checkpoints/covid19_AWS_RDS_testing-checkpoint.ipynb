{
 "cells": [
  {
   "cell_type": "markdown",
   "id": "4a11ff38",
   "metadata": {},
   "source": [
    "#### Create DB and table"
   ]
  },
  {
   "cell_type": "code",
   "execution_count": 4,
   "id": "34da54a0",
   "metadata": {},
   "outputs": [],
   "source": [
    "import aws_util\n",
    "import pandas as pd\n",
    "db_name = 'covid19_db'\n",
    "conn, cur = aws_util.conn_db(db_name)"
   ]
  },
  {
   "cell_type": "code",
   "execution_count": 6,
   "id": "fdc8c761",
   "metadata": {},
   "outputs": [],
   "source": [
    "cur.execute('GRANT rds_superuser TO cyan8388;')"
   ]
  },
  {
   "cell_type": "code",
   "execution_count": 14,
   "id": "7234e1f9",
   "metadata": {},
   "outputs": [],
   "source": [
    "df = pd.DataFrame({'A' : ['foo', 'bar', 'foo', 'bar',\n",
    "                          'foo', 'bar', 'foo', 'foo'],\n",
    "                   'B' : ['one', 'one', 'two', 'three',\n",
    "                          'two', 'two', 'one', 'three']})"
   ]
  },
  {
   "cell_type": "code",
   "execution_count": 25,
   "id": "0c8098a4",
   "metadata": {},
   "outputs": [
    {
     "data": {
      "text/plain": [
       "4"
      ]
     },
     "execution_count": 25,
     "metadata": {},
     "output_type": "execute_result"
    }
   ],
   "source": [
    "len(df)//2"
   ]
  },
  {
   "cell_type": "code",
   "execution_count": 22,
   "id": "5924b1f0",
   "metadata": {},
   "outputs": [],
   "source": [
    "df_test = pd.read_sql(\"SELECT distinct(location, vaccine) FROM vac WHERE vaccine like '%Oxford%'\", conn)"
   ]
  },
  {
   "cell_type": "code",
   "execution_count": 23,
   "id": "0a4ddc5a",
   "metadata": {},
   "outputs": [
    {
     "data": {
      "text/html": [
       "<div>\n",
       "<style scoped>\n",
       "    .dataframe tbody tr th:only-of-type {\n",
       "        vertical-align: middle;\n",
       "    }\n",
       "\n",
       "    .dataframe tbody tr th {\n",
       "        vertical-align: top;\n",
       "    }\n",
       "\n",
       "    .dataframe thead th {\n",
       "        text-align: right;\n",
       "    }\n",
       "</style>\n",
       "<table border=\"1\" class=\"dataframe\">\n",
       "  <thead>\n",
       "    <tr style=\"text-align: right;\">\n",
       "      <th></th>\n",
       "      <th>row</th>\n",
       "    </tr>\n",
       "  </thead>\n",
       "  <tbody>\n",
       "    <tr>\n",
       "      <th>0</th>\n",
       "      <td>(Afghanistan,Oxford/AstraZeneca)</td>\n",
       "    </tr>\n",
       "    <tr>\n",
       "      <th>1</th>\n",
       "      <td>(Albania,\"Oxford/AstraZeneca, Pfizer/BioNTech,...</td>\n",
       "    </tr>\n",
       "    <tr>\n",
       "      <th>2</th>\n",
       "      <td>(Andorra,\"Pfizer/BioNTech, Oxford/AstraZeneca\")</td>\n",
       "    </tr>\n",
       "    <tr>\n",
       "      <th>3</th>\n",
       "      <td>(Angola,Oxford/AstraZeneca)</td>\n",
       "    </tr>\n",
       "    <tr>\n",
       "      <th>4</th>\n",
       "      <td>(Anguilla,Oxford/AstraZeneca)</td>\n",
       "    </tr>\n",
       "    <tr>\n",
       "      <th>...</th>\n",
       "      <td>...</td>\n",
       "    </tr>\n",
       "    <tr>\n",
       "      <th>179</th>\n",
       "      <td>(Uzbekistan,Oxford/AstraZeneca)</td>\n",
       "    </tr>\n",
       "    <tr>\n",
       "      <th>180</th>\n",
       "      <td>(Vietnam,Oxford/AstraZeneca)</td>\n",
       "    </tr>\n",
       "    <tr>\n",
       "      <th>181</th>\n",
       "      <td>(Wales,\"Moderna, Oxford/AstraZeneca, Pfizer/Bi...</td>\n",
       "    </tr>\n",
       "    <tr>\n",
       "      <th>182</th>\n",
       "      <td>(Wales,\"Oxford/AstraZeneca, Pfizer/BioNTech\")</td>\n",
       "    </tr>\n",
       "    <tr>\n",
       "      <th>183</th>\n",
       "      <td>(Zambia,Oxford/AstraZeneca)</td>\n",
       "    </tr>\n",
       "  </tbody>\n",
       "</table>\n",
       "<p>184 rows × 1 columns</p>\n",
       "</div>"
      ],
      "text/plain": [
       "                                                   row\n",
       "0                     (Afghanistan,Oxford/AstraZeneca)\n",
       "1    (Albania,\"Oxford/AstraZeneca, Pfizer/BioNTech,...\n",
       "2      (Andorra,\"Pfizer/BioNTech, Oxford/AstraZeneca\")\n",
       "3                          (Angola,Oxford/AstraZeneca)\n",
       "4                        (Anguilla,Oxford/AstraZeneca)\n",
       "..                                                 ...\n",
       "179                    (Uzbekistan,Oxford/AstraZeneca)\n",
       "180                       (Vietnam,Oxford/AstraZeneca)\n",
       "181  (Wales,\"Moderna, Oxford/AstraZeneca, Pfizer/Bi...\n",
       "182      (Wales,\"Oxford/AstraZeneca, Pfizer/BioNTech\")\n",
       "183                        (Zambia,Oxford/AstraZeneca)\n",
       "\n",
       "[184 rows x 1 columns]"
      ]
     },
     "execution_count": 23,
     "metadata": {},
     "output_type": "execute_result"
    }
   ],
   "source": [
    "df_test"
   ]
  },
  {
   "cell_type": "code",
   "execution_count": 7,
   "id": "019cf6b6",
   "metadata": {},
   "outputs": [],
   "source": [
    "df_test = pd.read_sql('SELECT * from daily_case LIMIT 10', conn)"
   ]
  },
  {
   "cell_type": "code",
   "execution_count": 12,
   "id": "c75c574b",
   "metadata": {},
   "outputs": [
    {
     "name": "stdout",
     "output_type": "stream",
     "text": [
      "0\n",
      "0\n"
     ]
    }
   ],
   "source": [
    "print(df_test.shape[0])\n",
    "print(len(df_test))"
   ]
  },
  {
   "cell_type": "code",
   "execution_count": 2,
   "id": "be4e0133",
   "metadata": {},
   "outputs": [],
   "source": [
    "import create_table"
   ]
  },
  {
   "cell_type": "code",
   "execution_count": 2,
   "id": "099690ba",
   "metadata": {},
   "outputs": [
    {
     "name": "stdout",
     "output_type": "stream",
     "text": [
      "--- Creating database -----\n",
      "connecting to AWS RDS Postgres default_db\n",
      "Dropping database if exists...\n",
      "Creating database covid19_db...\n",
      "Connecting to AWS RDS database covid19_db...\n",
      "--- Finish creating database ---\n"
     ]
    }
   ],
   "source": [
    "# create_table.create_database()"
   ]
  },
  {
   "cell_type": "code",
   "execution_count": 5,
   "id": "4cef29e1",
   "metadata": {},
   "outputs": [
    {
     "name": "stdout",
     "output_type": "stream",
     "text": [
      "--- Creating tables in db ---\n",
      "--- Finish creating tables ---\n"
     ]
    }
   ],
   "source": [
    "create_table.create_tables(conn, cur)"
   ]
  },
  {
   "cell_type": "code",
   "execution_count": 8,
   "id": "daf6ba58",
   "metadata": {},
   "outputs": [],
   "source": [
    "# Get all the available tables\n",
    "cur.execute('''\n",
    "SELECT table_name\n",
    "  FROM information_schema.tables\n",
    " WHERE table_schema='public'\n",
    "   AND table_type='BASE TABLE';''')"
   ]
  },
  {
   "cell_type": "code",
   "execution_count": 9,
   "id": "7f10e682",
   "metadata": {},
   "outputs": [
    {
     "data": {
      "text/plain": [
       "[('daily_case',), ('vac',), ('country_loc',), ('dim_time',), ('csv_record',)]"
      ]
     },
     "execution_count": 9,
     "metadata": {},
     "output_type": "execute_result"
    }
   ],
   "source": [
    "cur.fetchall()"
   ]
  },
  {
   "cell_type": "markdown",
   "id": "2f7ece09",
   "metadata": {},
   "source": [
    "### Load a csv file from S3 to df"
   ]
  },
  {
   "cell_type": "code",
   "execution_count": 2,
   "id": "f3dd2324",
   "metadata": {},
   "outputs": [],
   "source": [
    "file_name = 'daily_case_data/01-01-2021.csv'"
   ]
  },
  {
   "cell_type": "code",
   "execution_count": 6,
   "id": "3ac7920d",
   "metadata": {},
   "outputs": [],
   "source": [
    "df = pd.read_aws_csv(file_name)"
   ]
  },
  {
   "cell_type": "markdown",
   "id": "08b493d6",
   "metadata": {},
   "source": [
    "### Perform ETL"
   ]
  },
  {
   "cell_type": "code",
   "execution_count": 1,
   "id": "aa09edf1",
   "metadata": {},
   "outputs": [],
   "source": [
    "import etl"
   ]
  },
  {
   "cell_type": "code",
   "execution_count": 7,
   "id": "d3758cf7",
   "metadata": {},
   "outputs": [],
   "source": [
    "# file_all = aws_util.list_files('daily_case_data/old_format/')"
   ]
  },
  {
   "cell_type": "code",
   "execution_count": 3,
   "id": "e9e0f4ea",
   "metadata": {},
   "outputs": [
    {
     "name": "stdout",
     "output_type": "stream",
     "text": [
      "[]\n"
     ]
    }
   ],
   "source": [
    "print(file_all)"
   ]
  },
  {
   "cell_type": "markdown",
   "id": "0fd654fd",
   "metadata": {},
   "source": [
    "##### Daily cases"
   ]
  },
  {
   "cell_type": "code",
   "execution_count": null,
   "id": "1ed09dab",
   "metadata": {},
   "outputs": [],
   "source": [
    "# If only want to update with the latest files that have not been processed before\n",
    "etl.process_case_data()"
   ]
  },
  {
   "cell_type": "code",
   "execution_count": 2,
   "id": "048952ca",
   "metadata": {},
   "outputs": [
    {
     "name": "stdout",
     "output_type": "stream",
     "text": [
      "----- Start processing daily case data -----\n",
      "Determining which daily case csv files to process based on csv_record table...\n",
      "Loading and processing daily case data...\n",
      "05-20-2021.csv\n",
      "05-21-2021.csv\n",
      "05-22-2021.csv\n",
      "05-23-2021.csv\n",
      "05-24-2021.csv\n",
      "05-25-2021.csv\n"
     ]
    },
    {
     "name": "stderr",
     "output_type": "stream",
     "text": [
      "C:\\John_folder\\github_projects\\vacquishcovid19_postgres\\etl.py:195: FutureWarning: Series.dt.weekofyear and Series.dt.week have been deprecated.  Please use Series.dt.isocalendar().week instead.\n",
      "  time_data = (t.dt.strftime('%Y-%m-%d %H:%M:%S'), t.dt.strftime('%Y-%m-%d'), t.dt.hour.values, t.dt.day.values, t.dt.weekofyear.values, t.dt.month.values, t.dt.year.values, t.dt.weekday.values)\n"
     ]
    },
    {
     "name": "stdout",
     "output_type": "stream",
     "text": [
      "Loading and processing old daily case data...\n",
      "Bulk inserting processed daily case data into daily case table...\n",
      "  FIPS Admin2 Province_State Country_Region date_string          Last_Update  \\\n",
      "0                               Afghanistan  2021-05-21  2021-05-21 04:20:43   \n",
      "1                                   Albania  2021-05-21  2021-05-21 04:20:43   \n",
      "2                                   Algeria  2021-05-21  2021-05-21 04:20:43   \n",
      "3                                   Andorra  2021-05-21  2021-05-21 04:20:43   \n",
      "4                                    Angola  2021-05-21  2021-05-21 04:20:43   \n",
      "\n",
      "  Confirmed Deaths Recovered Active  \n",
      "0     64575   2772     55687   6116  \n",
      "1    132118   2440    127869   1809  \n",
      "2    126156   3401     87902  34853  \n",
      "3     13569    127     13234    208  \n",
      "4     31661    704     26483   4474  \n",
      "Start bulk inserting...\n",
      "Successfully inserted chunk0 of 1000 rows\n",
      "Start bulk inserting...\n",
      "Successfully inserted chunk1 of 1000 rows\n",
      "Start bulk inserting...\n",
      "Successfully inserted chunk2 of 1000 rows\n",
      "Start bulk inserting...\n",
      "Successfully inserted chunk3 of 1000 rows\n",
      "Start bulk inserting...\n",
      "Successfully inserted chunk4 of 1000 rows\n",
      "Start bulk inserting...\n",
      "Successfully inserted chunk5 of 1000 rows\n",
      "Start bulk inserting...\n",
      "Successfully inserted chunk6 of 1000 rows\n",
      "Start bulk inserting...\n",
      "Successfully inserted chunk7 of 1000 rows\n",
      "Start bulk inserting...\n",
      "Successfully inserted chunk8 of 1000 rows\n",
      "Start bulk inserting...\n",
      "Successfully inserted chunk9 of 1000 rows\n",
      "Start bulk inserting...\n",
      "Successfully inserted chunk10 of 1000 rows\n",
      "Start bulk inserting...\n",
      "Successfully inserted chunk11 of 1000 rows\n",
      "Start bulk inserting...\n",
      "Successfully inserted chunk12 of 1000 rows\n",
      "Start bulk inserting...\n",
      "Successfully inserted chunk13 of 1000 rows\n",
      "Start bulk inserting...\n",
      "Successfully inserted chunk14 of 1000 rows\n",
      "Start bulk inserting...\n",
      "Successfully inserted chunk15 of 1000 rows\n",
      "Start bulk inserting...\n",
      "Successfully inserted chunk16 of 1000 rows\n",
      "Start bulk inserting...\n",
      "Successfully inserted chunk17 of 1000 rows\n",
      "Start bulk inserting...\n",
      "Successfully inserted chunk18 of 1000 rows\n",
      "Start bulk inserting...\n",
      "Successfully inserted chunk19 of 1000 rows\n",
      "Start bulk inserting...\n",
      "Successfully inserted chunk20 of 1000 rows\n",
      "Start bulk inserting...\n",
      "Successfully inserted chunk21 of 1000 rows\n",
      "Start bulk inserting...\n",
      "Successfully inserted chunk22 of 1000 rows\n",
      "Start bulk inserting...\n",
      "Successfully inserted chunk23 of 1000 rows\n",
      "Done bulk insert daily case data into daily case table\n",
      "Bulk inserting into dim_time table...\n",
      "Successfully inserted chunk0 of 1000 rows\n",
      "Done bulk insert dim_time table\n",
      "Bulk inserting csv records into csv_record table...\n",
      "Done bulk insert csv records into csv_record table\n"
     ]
    },
    {
     "data": {
      "text/plain": [
       "('Success', 'Success')"
      ]
     },
     "execution_count": 2,
     "metadata": {},
     "output_type": "execute_result"
    }
   ],
   "source": [
    "# If want to download files from specific date(s)\n",
    "file_date = ['2021-01-01', '2021-05-28'] # Specify the start and end dates of files to download\n",
    "etl.process_case_data(file_date=file_date)"
   ]
  },
  {
   "cell_type": "code",
   "execution_count": 10,
   "id": "9ae5be3f",
   "metadata": {},
   "outputs": [],
   "source": [
    "# If want to process all files\n",
    "# etl.process_case_data(process_all=True)"
   ]
  },
  {
   "cell_type": "markdown",
   "id": "89bae389",
   "metadata": {},
   "source": [
    "##### Vaccination"
   ]
  },
  {
   "cell_type": "code",
   "execution_count": 5,
   "id": "f8075007",
   "metadata": {},
   "outputs": [
    {
     "name": "stdout",
     "output_type": "stream",
     "text": [
      "----- Start processing vaccination data -----\n",
      "Loading and processing vaccination data...\n",
      "Afghanistan.csv\n",
      "Albania.csv\n",
      "Algeria.csv\n",
      "Andorra.csv\n",
      "Angola.csv\n",
      "Anguilla.csv\n",
      "Antigua and Barbuda.csv\n",
      "Argentina.csv\n",
      "Armenia.csv\n",
      "Aruba.csv\n",
      "Australia.csv\n",
      "Austria.csv\n",
      "Azerbaijan.csv\n",
      "Bahamas.csv\n",
      "Bahrain.csv\n",
      "Bangladesh.csv\n",
      "Barbados.csv\n",
      "Belarus.csv\n",
      "Belgium.csv\n",
      "Belize.csv\n",
      "Benin.csv\n",
      "Bermuda.csv\n",
      "Bhutan.csv\n",
      "Bolivia.csv\n",
      "Bonaire Sint Eustatius and Saba.csv\n",
      "Bosnia and Herzegovina.csv\n",
      "Botswana.csv\n",
      "Brazil.csv\n",
      "Brunei.csv\n",
      "Bulgaria.csv\n",
      "Cambodia.csv\n",
      "Cameroon.csv\n",
      "Canada.csv\n",
      "Cape Verde.csv\n",
      "Cayman Islands.csv\n",
      "Central African Republic.csv\n",
      "Chile.csv\n",
      "China.csv\n",
      "Colombia.csv\n",
      "Comoros.csv\n",
      "Congo.csv\n",
      "Costa Rica.csv\n",
      "Cote d'Ivoire.csv\n",
      "Croatia.csv\n",
      "Cuba.csv\n",
      "Curacao.csv\n",
      "Cyprus.csv\n",
      "Czechia.csv\n",
      "Democratic Republic of Congo.csv\n",
      "Denmark.csv\n",
      "Djibouti.csv\n",
      "Dominica.csv\n",
      "Dominican Republic.csv\n",
      "Ecuador.csv\n",
      "Egypt.csv\n",
      "El Salvador.csv\n",
      "England.csv\n",
      "Equatorial Guinea.csv\n",
      "Estonia.csv\n",
      "Eswatini.csv\n",
      "Ethiopia.csv\n",
      "Faeroe Islands.csv\n",
      "Falkland Islands.csv\n",
      "Fiji.csv\n",
      "Finland.csv\n",
      "France.csv\n",
      "French Polynesia.csv\n",
      "Gabon.csv\n",
      "Gambia.csv\n",
      "Georgia.csv\n",
      "Germany.csv\n",
      "Ghana.csv\n",
      "Gibraltar.csv\n",
      "Greece.csv\n",
      "Greenland.csv\n",
      "Grenada.csv\n",
      "Guatemala.csv\n",
      "Guernsey.csv\n",
      "Guinea-Bissau.csv\n",
      "Guinea.csv\n",
      "Guyana.csv\n",
      "Honduras.csv\n",
      "Hong Kong.csv\n",
      "Hungary.csv\n",
      "Iceland.csv\n",
      "India.csv\n",
      "Indonesia.csv\n",
      "Iran.csv\n",
      "Iraq.csv\n",
      "Ireland.csv\n",
      "Isle of Man.csv\n",
      "Israel.csv\n",
      "Italy.csv\n",
      "Jamaica.csv\n",
      "Japan.csv\n",
      "Jersey.csv\n",
      "Jordan.csv\n",
      "Kazakhstan.csv\n",
      "Kenya.csv\n",
      "Kosovo.csv\n",
      "Kuwait.csv\n",
      "Kyrgyzstan.csv\n",
      "Laos.csv\n",
      "Latvia.csv\n",
      "Lebanon.csv\n",
      "Lesotho.csv\n",
      "Liberia.csv\n",
      "Libya.csv\n",
      "Liechtenstein.csv\n",
      "Lithuania.csv\n",
      "Luxembourg.csv\n",
      "Macao.csv\n",
      "Madagascar.csv\n",
      "Malawi.csv\n",
      "Malaysia.csv\n",
      "Maldives.csv\n",
      "Mali.csv\n",
      "Malta.csv\n",
      "Mauritania.csv\n",
      "Mauritius.csv\n",
      "Mexico.csv\n",
      "Moldova.csv\n",
      "Monaco.csv\n",
      "Mongolia.csv\n",
      "Montenegro.csv\n",
      "Montserrat.csv\n",
      "Morocco.csv\n",
      "Mozambique.csv\n",
      "Myanmar.csv\n",
      "Namibia.csv\n",
      "Nauru.csv\n",
      "Nepal.csv\n",
      "Netherlands.csv\n",
      "New Caledonia.csv\n",
      "New Zealand.csv\n",
      "Nicaragua.csv\n",
      "Niger.csv\n",
      "Nigeria.csv\n",
      "North Macedonia.csv\n",
      "Northern Cyprus.csv\n",
      "Northern Ireland.csv\n",
      "Norway.csv\n",
      "Oman.csv\n",
      "Pakistan.csv\n",
      "Palau.csv\n",
      "Palestine.csv\n",
      "Panama.csv\n",
      "Papua New Guinea.csv\n",
      "Paraguay.csv\n",
      "Peru.csv\n",
      "Philippines.csv\n",
      "Poland.csv\n",
      "Portugal.csv\n",
      "Qatar.csv\n",
      "Romania.csv\n",
      "Russia.csv\n",
      "Rwanda.csv\n",
      "Saint Helena.csv\n",
      "Saint Kitts and Nevis.csv\n",
      "Saint Lucia.csv\n",
      "Saint Vincent and the Grenadines.csv\n",
      "Samoa.csv\n",
      "San Marino.csv\n",
      "Sao Tome and Principe.csv\n",
      "Saudi Arabia.csv\n",
      "Scotland.csv\n",
      "Senegal.csv\n",
      "Serbia.csv\n",
      "Seychelles.csv\n",
      "Sierra Leone.csv\n",
      "Singapore.csv\n",
      "Sint Maarten (Dutch part).csv\n",
      "Slovakia.csv\n",
      "Slovenia.csv\n",
      "Solomon Islands.csv\n",
      "Somalia.csv\n",
      "South Africa.csv\n",
      "South Korea.csv\n",
      "South Sudan.csv\n",
      "Spain.csv\n",
      "Sri Lanka.csv\n",
      "Sudan.csv\n",
      "Suriname.csv\n",
      "Sweden.csv\n",
      "Switzerland.csv\n",
      "Syria.csv\n",
      "Taiwan.csv\n",
      "Tajikistan.csv\n",
      "Thailand.csv\n",
      "Timor.csv\n",
      "Togo.csv\n",
      "Tonga.csv\n",
      "Trinidad and Tobago.csv\n",
      "Tunisia.csv\n",
      "Turkey.csv\n",
      "Turkmenistan.csv\n",
      "Turks and Caicos Islands.csv\n",
      "Tuvalu.csv\n",
      "Uganda.csv\n",
      "Ukraine.csv\n",
      "United Arab Emirates.csv\n",
      "United Kingdom.csv\n",
      "United States.csv\n",
      "Uruguay.csv\n",
      "Uzbekistan.csv\n",
      "Venezuela.csv\n",
      "Vietnam.csv\n",
      "Wales.csv\n",
      "Wallis and Futuna.csv\n",
      "Yemen.csv\n",
      "Zambia.csv\n",
      "Zimbabwe.csv\n",
      "Bulk inserting processed vaccination data into vaccination table...\n",
      "      location date_string    date_org             vaccine total_vaccinations  \\\n",
      "0  Afghanistan  2021-02-22  2021-02-22  Oxford/AstraZeneca                  0   \n",
      "1  Afghanistan  2021-02-28  2021-02-28  Oxford/AstraZeneca               8200   \n",
      "2  Afghanistan  2021-03-16  2021-03-16  Oxford/AstraZeneca              54000   \n",
      "3  Afghanistan  2021-04-07  2021-04-07  Oxford/AstraZeneca             120000   \n",
      "4  Afghanistan  2021-04-22  2021-04-22  Oxford/AstraZeneca             240000   \n",
      "\n",
      "  people_vaccinated people_fully_vaccinated  \n",
      "0                 0                    None  \n",
      "1              8200                    None  \n",
      "2             54000                    None  \n",
      "3            120000                    None  \n",
      "4            240000                    None  \n",
      "Done bulk insert vaccination data into vaccination table\n",
      "Bulk inserting csv records into csv_record table...\n",
      "(%s, %s, %s)\n",
      "Done bulk insert csv records into csv_record table\n",
      "----- Successfully process vaccination data and insert into vaccination table -----\n",
      "---------------------------------------\n"
     ]
    }
   ],
   "source": [
    "etl.process_vaccine_data()"
   ]
  },
  {
   "cell_type": "code",
   "execution_count": 2,
   "id": "bdb49e5b",
   "metadata": {},
   "outputs": [],
   "source": [
    "# list_files = aws_util.list_files('daily_case_data/')"
   ]
  },
  {
   "cell_type": "code",
   "execution_count": 5,
   "id": "ae23765a",
   "metadata": {},
   "outputs": [],
   "source": [
    "# df_test = pd.read_sql(\"select * from vac where location = 'Israel'\", conn)\n",
    "df_test = pd.read_sql(\"\"\"select * from daily_case where Country_Region = 'France' \n",
    "                      and date_string >= '2021-05-22'\n",
    "                      and province_state = ''\n",
    "                      order by date_string\"\"\", conn)"
   ]
  },
  {
   "cell_type": "code",
   "execution_count": 6,
   "id": "9e611776",
   "metadata": {},
   "outputs": [
    {
     "data": {
      "text/html": [
       "<div>\n",
       "<style scoped>\n",
       "    .dataframe tbody tr th:only-of-type {\n",
       "        vertical-align: middle;\n",
       "    }\n",
       "\n",
       "    .dataframe tbody tr th {\n",
       "        vertical-align: top;\n",
       "    }\n",
       "\n",
       "    .dataframe thead th {\n",
       "        text-align: right;\n",
       "    }\n",
       "</style>\n",
       "<table border=\"1\" class=\"dataframe\">\n",
       "  <thead>\n",
       "    <tr style=\"text-align: right;\">\n",
       "      <th></th>\n",
       "      <th>fips</th>\n",
       "      <th>admin2</th>\n",
       "      <th>province_state</th>\n",
       "      <th>country_region</th>\n",
       "      <th>date_string</th>\n",
       "      <th>last_update</th>\n",
       "      <th>confirmed</th>\n",
       "      <th>deaths</th>\n",
       "      <th>recovered</th>\n",
       "      <th>active</th>\n",
       "    </tr>\n",
       "  </thead>\n",
       "  <tbody>\n",
       "    <tr>\n",
       "      <th>0</th>\n",
       "      <td></td>\n",
       "      <td></td>\n",
       "      <td></td>\n",
       "      <td>France</td>\n",
       "      <td>2021-05-22</td>\n",
       "      <td>2021-05-22 04:20:45</td>\n",
       "      <td>5526555</td>\n",
       "      <td>107645</td>\n",
       "      <td>324444</td>\n",
       "      <td>5092326</td>\n",
       "    </tr>\n",
       "    <tr>\n",
       "      <th>1</th>\n",
       "      <td></td>\n",
       "      <td></td>\n",
       "      <td></td>\n",
       "      <td>France</td>\n",
       "      <td>2021-05-23</td>\n",
       "      <td>2021-05-23 04:20:51</td>\n",
       "      <td>5538938</td>\n",
       "      <td>107732</td>\n",
       "      <td>324444</td>\n",
       "      <td>5103831</td>\n",
       "    </tr>\n",
       "    <tr>\n",
       "      <th>2</th>\n",
       "      <td></td>\n",
       "      <td></td>\n",
       "      <td></td>\n",
       "      <td>France</td>\n",
       "      <td>2021-05-24</td>\n",
       "      <td>2021-05-24 04:20:53</td>\n",
       "      <td>5547914</td>\n",
       "      <td>107789</td>\n",
       "      <td>324444</td>\n",
       "      <td>5112446</td>\n",
       "    </tr>\n",
       "    <tr>\n",
       "      <th>3</th>\n",
       "      <td></td>\n",
       "      <td></td>\n",
       "      <td></td>\n",
       "      <td>France</td>\n",
       "      <td>2021-05-25</td>\n",
       "      <td>2021-05-25 04:21:08</td>\n",
       "      <td>5550143</td>\n",
       "      <td>107851</td>\n",
       "      <td>327886</td>\n",
       "      <td>5114406</td>\n",
       "    </tr>\n",
       "    <tr>\n",
       "      <th>4</th>\n",
       "      <td></td>\n",
       "      <td></td>\n",
       "      <td></td>\n",
       "      <td>France</td>\n",
       "      <td>2021-05-26</td>\n",
       "      <td>2021-05-26 04:20:35</td>\n",
       "      <td>5552977</td>\n",
       "      <td>108071</td>\n",
       "      <td>327636</td>\n",
       "      <td>5117270</td>\n",
       "    </tr>\n",
       "    <tr>\n",
       "      <th>5</th>\n",
       "      <td></td>\n",
       "      <td></td>\n",
       "      <td></td>\n",
       "      <td>France</td>\n",
       "      <td>2021-05-27</td>\n",
       "      <td>2021-05-27 04:20:59</td>\n",
       "      <td>5564217</td>\n",
       "      <td>108201</td>\n",
       "      <td>328943</td>\n",
       "      <td>5127073</td>\n",
       "    </tr>\n",
       "    <tr>\n",
       "      <th>6</th>\n",
       "      <td></td>\n",
       "      <td></td>\n",
       "      <td></td>\n",
       "      <td>France</td>\n",
       "      <td>2021-05-28</td>\n",
       "      <td>2021-05-28 04:20:36</td>\n",
       "      <td>5578150</td>\n",
       "      <td>108343</td>\n",
       "      <td>329920</td>\n",
       "      <td>5139887</td>\n",
       "    </tr>\n",
       "    <tr>\n",
       "      <th>7</th>\n",
       "      <td></td>\n",
       "      <td></td>\n",
       "      <td></td>\n",
       "      <td>France</td>\n",
       "      <td>2021-05-29</td>\n",
       "      <td>2021-05-29 04:20:41</td>\n",
       "      <td>5588981</td>\n",
       "      <td>108466</td>\n",
       "      <td>331006</td>\n",
       "      <td>5149509</td>\n",
       "    </tr>\n",
       "  </tbody>\n",
       "</table>\n",
       "</div>"
      ],
      "text/plain": [
       "  fips admin2 province_state country_region date_string          last_update  \\\n",
       "0                                    France  2021-05-22  2021-05-22 04:20:45   \n",
       "1                                    France  2021-05-23  2021-05-23 04:20:51   \n",
       "2                                    France  2021-05-24  2021-05-24 04:20:53   \n",
       "3                                    France  2021-05-25  2021-05-25 04:21:08   \n",
       "4                                    France  2021-05-26  2021-05-26 04:20:35   \n",
       "5                                    France  2021-05-27  2021-05-27 04:20:59   \n",
       "6                                    France  2021-05-28  2021-05-28 04:20:36   \n",
       "7                                    France  2021-05-29  2021-05-29 04:20:41   \n",
       "\n",
       "   confirmed  deaths  recovered   active  \n",
       "0    5526555  107645     324444  5092326  \n",
       "1    5538938  107732     324444  5103831  \n",
       "2    5547914  107789     324444  5112446  \n",
       "3    5550143  107851     327886  5114406  \n",
       "4    5552977  108071     327636  5117270  \n",
       "5    5564217  108201     328943  5127073  \n",
       "6    5578150  108343     329920  5139887  \n",
       "7    5588981  108466     331006  5149509  "
      ]
     },
     "execution_count": 6,
     "metadata": {},
     "output_type": "execute_result"
    }
   ],
   "source": [
    "df_test.tail(20)"
   ]
  },
  {
   "cell_type": "code",
   "execution_count": null,
   "id": "a8cdb894",
   "metadata": {},
   "outputs": [],
   "source": []
  }
 ],
 "metadata": {
  "kernelspec": {
   "display_name": "Python 3",
   "language": "python",
   "name": "python3"
  },
  "language_info": {
   "codemirror_mode": {
    "name": "ipython",
    "version": 3
   },
   "file_extension": ".py",
   "mimetype": "text/x-python",
   "name": "python",
   "nbconvert_exporter": "python",
   "pygments_lexer": "ipython3",
   "version": "3.8.8"
  }
 },
 "nbformat": 4,
 "nbformat_minor": 5
}
