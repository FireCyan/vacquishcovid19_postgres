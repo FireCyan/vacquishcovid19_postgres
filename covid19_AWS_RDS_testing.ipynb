{
 "cells": [
  {
   "cell_type": "markdown",
   "id": "4a11ff38",
   "metadata": {},
   "source": [
    "#### Create DB and table"
   ]
  },
  {
   "cell_type": "code",
   "execution_count": 3,
   "id": "34da54a0",
   "metadata": {},
   "outputs": [],
   "source": [
    "import aws_util\n",
    "import pandas as pd\n",
    "db_name = 'covid19_db'\n",
    "conn, cur = aws_util.conn_db(db_name)"
   ]
  },
  {
   "cell_type": "code",
   "execution_count": 6,
   "id": "fdc8c761",
   "metadata": {},
   "outputs": [],
   "source": [
    "cur.execute('GRANT rds_superuser TO cyan8388;')"
   ]
  },
  {
   "cell_type": "code",
   "execution_count": 14,
   "id": "7234e1f9",
   "metadata": {},
   "outputs": [],
   "source": [
    "df = pd.DataFrame({'A' : ['foo', 'bar', 'foo', 'bar',\n",
    "                          'foo', 'bar', 'foo', 'foo'],\n",
    "                   'B' : ['one', 'one', 'two', 'three',\n",
    "                          'two', 'two', 'one', 'three']})"
   ]
  },
  {
   "cell_type": "code",
   "execution_count": 25,
   "id": "0c8098a4",
   "metadata": {},
   "outputs": [
    {
     "data": {
      "text/plain": [
       "4"
      ]
     },
     "execution_count": 25,
     "metadata": {},
     "output_type": "execute_result"
    }
   ],
   "source": [
    "len(df)//2"
   ]
  },
  {
   "cell_type": "code",
   "execution_count": 20,
   "id": "5924b1f0",
   "metadata": {},
   "outputs": [],
   "source": [
    "df_test = pd.read_sql(\"\"\"\n",
    "SELECT country_region, date_string, sum(Confirmed)\n",
    "FROM daily_case\n",
    "WHERE (country_region = 'US')\n",
    "group by country_region, date_string\n",
    "order by date_string asc\n",
    "\"\"\", conn)"
   ]
  },
  {
   "cell_type": "code",
   "execution_count": 14,
   "id": "9673850c",
   "metadata": {},
   "outputs": [],
   "source": [
    "df_test = pd.read_sql(\"\"\"\n",
    "SELECT country_region, date_string, last_update\n",
    "FROM daily_case\n",
    "WHERE (country_region = 'US') and (province_state = 'Nebraska') and (date_string = '2021-06-01')\n",
    "order by date_string asc\n",
    "\"\"\", conn)"
   ]
  },
  {
   "cell_type": "code",
   "execution_count": 13,
   "id": "a0c4fa96",
   "metadata": {},
   "outputs": [],
   "source": [
    "# Drop specific records\n",
    "# sql_delete_us_records = \"\"\"\n",
    "# DELETE FROM daily_case where (country_region = 'US') and (date_string = '2021-06-01')\n",
    "# \"\"\"\n",
    "# cur.execute(sql_delete_us_records)\n",
    "# conn.commit()"
   ]
  },
  {
   "cell_type": "code",
   "execution_count": 21,
   "id": "0a4ddc5a",
   "metadata": {},
   "outputs": [
    {
     "data": {
      "text/html": [
       "<div>\n",
       "<style scoped>\n",
       "    .dataframe tbody tr th:only-of-type {\n",
       "        vertical-align: middle;\n",
       "    }\n",
       "\n",
       "    .dataframe tbody tr th {\n",
       "        vertical-align: top;\n",
       "    }\n",
       "\n",
       "    .dataframe thead th {\n",
       "        text-align: right;\n",
       "    }\n",
       "</style>\n",
       "<table border=\"1\" class=\"dataframe\">\n",
       "  <thead>\n",
       "    <tr style=\"text-align: right;\">\n",
       "      <th></th>\n",
       "      <th>country_region</th>\n",
       "      <th>date_string</th>\n",
       "      <th>sum</th>\n",
       "    </tr>\n",
       "  </thead>\n",
       "  <tbody>\n",
       "    <tr>\n",
       "      <th>468</th>\n",
       "      <td>US</td>\n",
       "      <td>2021-05-19</td>\n",
       "      <td>33000887</td>\n",
       "    </tr>\n",
       "    <tr>\n",
       "      <th>469</th>\n",
       "      <td>US</td>\n",
       "      <td>2021-05-20</td>\n",
       "      <td>33030181</td>\n",
       "    </tr>\n",
       "    <tr>\n",
       "      <th>470</th>\n",
       "      <td>US</td>\n",
       "      <td>2021-05-21</td>\n",
       "      <td>33060387</td>\n",
       "    </tr>\n",
       "    <tr>\n",
       "      <th>471</th>\n",
       "      <td>US</td>\n",
       "      <td>2021-05-22</td>\n",
       "      <td>33088339</td>\n",
       "    </tr>\n",
       "    <tr>\n",
       "      <th>472</th>\n",
       "      <td>US</td>\n",
       "      <td>2021-05-23</td>\n",
       "      <td>33108139</td>\n",
       "    </tr>\n",
       "    <tr>\n",
       "      <th>473</th>\n",
       "      <td>US</td>\n",
       "      <td>2021-05-24</td>\n",
       "      <td>33121005</td>\n",
       "    </tr>\n",
       "    <tr>\n",
       "      <th>474</th>\n",
       "      <td>US</td>\n",
       "      <td>2021-05-25</td>\n",
       "      <td>33146824</td>\n",
       "    </tr>\n",
       "    <tr>\n",
       "      <th>475</th>\n",
       "      <td>US</td>\n",
       "      <td>2021-05-26</td>\n",
       "      <td>33169563</td>\n",
       "    </tr>\n",
       "    <tr>\n",
       "      <th>476</th>\n",
       "      <td>US</td>\n",
       "      <td>2021-05-27</td>\n",
       "      <td>33193535</td>\n",
       "    </tr>\n",
       "    <tr>\n",
       "      <th>477</th>\n",
       "      <td>US</td>\n",
       "      <td>2021-05-28</td>\n",
       "      <td>33220989</td>\n",
       "    </tr>\n",
       "    <tr>\n",
       "      <th>478</th>\n",
       "      <td>US</td>\n",
       "      <td>2021-05-29</td>\n",
       "      <td>33242854</td>\n",
       "    </tr>\n",
       "    <tr>\n",
       "      <th>479</th>\n",
       "      <td>US</td>\n",
       "      <td>2021-05-30</td>\n",
       "      <td>33254839</td>\n",
       "    </tr>\n",
       "    <tr>\n",
       "      <th>480</th>\n",
       "      <td>US</td>\n",
       "      <td>2021-05-31</td>\n",
       "      <td>33261572</td>\n",
       "    </tr>\n",
       "    <tr>\n",
       "      <th>481</th>\n",
       "      <td>US</td>\n",
       "      <td>2021-06-01</td>\n",
       "      <td>33267348</td>\n",
       "    </tr>\n",
       "    <tr>\n",
       "      <th>482</th>\n",
       "      <td>US</td>\n",
       "      <td>2021-06-02</td>\n",
       "      <td>33290298</td>\n",
       "    </tr>\n",
       "    <tr>\n",
       "      <th>483</th>\n",
       "      <td>US</td>\n",
       "      <td>2021-06-03</td>\n",
       "      <td>33307211</td>\n",
       "    </tr>\n",
       "    <tr>\n",
       "      <th>484</th>\n",
       "      <td>US</td>\n",
       "      <td>2021-06-04</td>\n",
       "      <td>33326285</td>\n",
       "    </tr>\n",
       "    <tr>\n",
       "      <th>485</th>\n",
       "      <td>US</td>\n",
       "      <td>2021-06-05</td>\n",
       "      <td>33343145</td>\n",
       "    </tr>\n",
       "    <tr>\n",
       "      <th>486</th>\n",
       "      <td>US</td>\n",
       "      <td>2021-06-06</td>\n",
       "      <td>33357053</td>\n",
       "    </tr>\n",
       "    <tr>\n",
       "      <th>487</th>\n",
       "      <td>US</td>\n",
       "      <td>2021-06-07</td>\n",
       "      <td>33362448</td>\n",
       "    </tr>\n",
       "  </tbody>\n",
       "</table>\n",
       "</div>"
      ],
      "text/plain": [
       "    country_region date_string       sum\n",
       "468             US  2021-05-19  33000887\n",
       "469             US  2021-05-20  33030181\n",
       "470             US  2021-05-21  33060387\n",
       "471             US  2021-05-22  33088339\n",
       "472             US  2021-05-23  33108139\n",
       "473             US  2021-05-24  33121005\n",
       "474             US  2021-05-25  33146824\n",
       "475             US  2021-05-26  33169563\n",
       "476             US  2021-05-27  33193535\n",
       "477             US  2021-05-28  33220989\n",
       "478             US  2021-05-29  33242854\n",
       "479             US  2021-05-30  33254839\n",
       "480             US  2021-05-31  33261572\n",
       "481             US  2021-06-01  33267348\n",
       "482             US  2021-06-02  33290298\n",
       "483             US  2021-06-03  33307211\n",
       "484             US  2021-06-04  33326285\n",
       "485             US  2021-06-05  33343145\n",
       "486             US  2021-06-06  33357053\n",
       "487             US  2021-06-07  33362448"
      ]
     },
     "execution_count": 21,
     "metadata": {},
     "output_type": "execute_result"
    }
   ],
   "source": [
    "df_test.tail(20)"
   ]
  },
  {
   "cell_type": "code",
   "execution_count": 7,
   "id": "019cf6b6",
   "metadata": {},
   "outputs": [],
   "source": [
    "df_test = pd.read_sql('SELECT * from daily_case LIMIT 10', conn)"
   ]
  },
  {
   "cell_type": "code",
   "execution_count": 12,
   "id": "c75c574b",
   "metadata": {},
   "outputs": [
    {
     "name": "stdout",
     "output_type": "stream",
     "text": [
      "0\n",
      "0\n"
     ]
    }
   ],
   "source": [
    "print(df_test.shape[0])\n",
    "print(len(df_test))"
   ]
  },
  {
   "cell_type": "code",
   "execution_count": 2,
   "id": "be4e0133",
   "metadata": {},
   "outputs": [],
   "source": [
    "import create_table"
   ]
  },
  {
   "cell_type": "code",
   "execution_count": 2,
   "id": "099690ba",
   "metadata": {},
   "outputs": [
    {
     "name": "stdout",
     "output_type": "stream",
     "text": [
      "--- Creating database -----\n",
      "connecting to AWS RDS Postgres default_db\n",
      "Dropping database if exists...\n",
      "Creating database covid19_db...\n",
      "Connecting to AWS RDS database covid19_db...\n",
      "--- Finish creating database ---\n"
     ]
    }
   ],
   "source": [
    "# create_table.create_database()"
   ]
  },
  {
   "cell_type": "code",
   "execution_count": 5,
   "id": "4cef29e1",
   "metadata": {},
   "outputs": [
    {
     "name": "stdout",
     "output_type": "stream",
     "text": [
      "--- Creating tables in db ---\n",
      "--- Finish creating tables ---\n"
     ]
    }
   ],
   "source": [
    "create_table.create_tables(conn, cur)"
   ]
  },
  {
   "cell_type": "code",
   "execution_count": 8,
   "id": "daf6ba58",
   "metadata": {},
   "outputs": [],
   "source": [
    "# Get all the available tables\n",
    "cur.execute('''\n",
    "SELECT table_name\n",
    "  FROM information_schema.tables\n",
    " WHERE table_schema='public'\n",
    "   AND table_type='BASE TABLE';''')"
   ]
  },
  {
   "cell_type": "code",
   "execution_count": 9,
   "id": "7f10e682",
   "metadata": {},
   "outputs": [
    {
     "data": {
      "text/plain": [
       "[('daily_case',), ('vac',), ('country_loc',), ('dim_time',), ('csv_record',)]"
      ]
     },
     "execution_count": 9,
     "metadata": {},
     "output_type": "execute_result"
    }
   ],
   "source": [
    "cur.fetchall()"
   ]
  },
  {
   "cell_type": "markdown",
   "id": "2f7ece09",
   "metadata": {},
   "source": [
    "### Load a csv file from S3 to df"
   ]
  },
  {
   "cell_type": "code",
   "execution_count": 2,
   "id": "f3dd2324",
   "metadata": {},
   "outputs": [],
   "source": [
    "file_name = 'daily_case_data/01-01-2021.csv'"
   ]
  },
  {
   "cell_type": "code",
   "execution_count": 6,
   "id": "3ac7920d",
   "metadata": {},
   "outputs": [],
   "source": [
    "df = pd.read_aws_csv(file_name)"
   ]
  },
  {
   "cell_type": "markdown",
   "id": "08b493d6",
   "metadata": {},
   "source": [
    "### Perform ETL"
   ]
  },
  {
   "cell_type": "code",
   "execution_count": 1,
   "id": "aa09edf1",
   "metadata": {},
   "outputs": [],
   "source": [
    "import etl"
   ]
  },
  {
   "cell_type": "code",
   "execution_count": 7,
   "id": "d3758cf7",
   "metadata": {},
   "outputs": [],
   "source": [
    "# file_all = aws_util.list_files('daily_case_data/old_format/')"
   ]
  },
  {
   "cell_type": "code",
   "execution_count": 3,
   "id": "e9e0f4ea",
   "metadata": {},
   "outputs": [
    {
     "name": "stdout",
     "output_type": "stream",
     "text": [
      "[]\n"
     ]
    }
   ],
   "source": [
    "print(file_all)"
   ]
  },
  {
   "cell_type": "markdown",
   "id": "17cfb07b",
   "metadata": {},
   "source": [
    "##### Daily cases"
   ]
  },
  {
   "cell_type": "code",
   "execution_count": null,
   "id": "c2bb1565",
   "metadata": {},
   "outputs": [],
   "source": [
    "# If only want to update with the latest files that have not been processed before\n",
    "etl.process_case_data()"
   ]
  },
  {
   "cell_type": "code",
   "execution_count": 16,
   "id": "d0dd9a9f",
   "metadata": {},
   "outputs": [
    {
     "name": "stdout",
     "output_type": "stream",
     "text": [
      "----- Start processing daily case data -----\n",
      "Determining which daily case csv files to process based on csv_record table...\n",
      "Loading and processing daily case data...\n",
      "05-30-2021.csv\n",
      "05-31-2021.csv\n",
      "06-01-2021.csv\n",
      "processing 06-01-2021.csv Nebraska date problem\n",
      "06-02-2021.csv\n"
     ]
    },
    {
     "name": "stderr",
     "output_type": "stream",
     "text": [
      "C:\\John_folder\\github_projects\\vacquishcovid19_postgres\\etl.py:199: FutureWarning: Series.dt.weekofyear and Series.dt.week have been deprecated.  Please use Series.dt.isocalendar().week instead.\n",
      "  time_data = (t.dt.strftime('%Y-%m-%d %H:%M:%S'), t.dt.strftime('%Y-%m-%d'), t.dt.hour.values, t.dt.day.values, t.dt.weekofyear.values, t.dt.month.values, t.dt.year.values, t.dt.weekday.values)\n"
     ]
    },
    {
     "name": "stdout",
     "output_type": "stream",
     "text": [
      "Loading and processing old daily case data...\n",
      "Bulk inserting processed daily case data into daily case table...\n",
      "  FIPS Admin2 Province_State Country_Region date_string          Last_Update  \\\n",
      "0                               Afghanistan  2021-05-31  2021-05-31 03:08:59   \n",
      "1                                   Albania  2021-05-31  2021-05-31 03:08:59   \n",
      "2                                   Algeria  2021-05-31  2021-05-31 03:08:59   \n",
      "3                                   Andorra  2021-05-31  2021-05-31 03:08:59   \n",
      "4                                    Angola  2021-05-31  2021-05-31 03:08:59   \n",
      "\n",
      "  Confirmed Deaths Recovered Active  \n",
      "0     70761   2919     57450  10392  \n",
      "1    132309   2450    129308    551  \n",
      "2    128725   3465     89625  35635  \n",
      "3     13693    127     13416    150  \n",
      "4     34366    764     27766   5836  \n",
      "Start bulk inserting...\n",
      "Successfully inserted chunk0 of 1000 rows\n",
      "Start bulk inserting...\n",
      "Successfully inserted chunk1 of 1000 rows\n",
      "Start bulk inserting...\n",
      "Successfully inserted chunk2 of 1000 rows\n",
      "Start bulk inserting...\n",
      "Successfully inserted chunk3 of 1000 rows\n",
      "Start bulk inserting...\n",
      "Successfully inserted chunk4 of 1000 rows\n",
      "Start bulk inserting...\n",
      "Successfully inserted chunk5 of 1000 rows\n",
      "Start bulk inserting...\n",
      "Successfully inserted chunk6 of 1000 rows\n",
      "Start bulk inserting...\n",
      "Successfully inserted chunk7 of 1000 rows\n",
      "Start bulk inserting...\n",
      "Successfully inserted chunk8 of 1000 rows\n",
      "Start bulk inserting...\n",
      "Successfully inserted chunk9 of 1000 rows\n",
      "Start bulk inserting...\n",
      "Successfully inserted chunk10 of 1000 rows\n",
      "Start bulk inserting...\n",
      "Successfully inserted chunk11 of 1000 rows\n",
      "Start bulk inserting...\n",
      "Successfully inserted chunk12 of 1000 rows\n",
      "Start bulk inserting...\n",
      "Successfully inserted chunk13 of 1000 rows\n",
      "Start bulk inserting...\n",
      "Successfully inserted chunk14 of 1000 rows\n",
      "Start bulk inserting...\n",
      "Successfully inserted chunk15 of 1000 rows\n",
      "Done bulk insert daily case data into daily case table\n",
      "Bulk inserting into dim_time table...\n",
      "Successfully inserted chunk0 of 1000 rows\n",
      "Done bulk insert dim_time table\n",
      "Bulk inserting csv records into csv_record table...\n",
      "Done bulk insert csv records into csv_record table\n"
     ]
    },
    {
     "data": {
      "text/plain": [
       "('Success', 'Success')"
      ]
     },
     "execution_count": 16,
     "metadata": {},
     "output_type": "execute_result"
    }
   ],
   "source": [
    "# If want to download files from specific date(s)\n",
    "file_date = ['2021-05-30', '2021-06-02'] # Specify the start and end dates of files to download\n",
    "etl.process_case_data(file_date=file_date)"
   ]
  },
  {
   "cell_type": "code",
   "execution_count": 10,
   "id": "9ae5be3f",
   "metadata": {},
   "outputs": [],
   "source": [
    "# If want to process all files\n",
    "# etl.process_case_data(process_all=True)"
   ]
  },
  {
   "cell_type": "markdown",
   "id": "4ef8c5f4",
   "metadata": {},
   "source": [
    "##### Vaccination"
   ]
  },
  {
   "cell_type": "code",
   "execution_count": 5,
   "id": "f8075007",
   "metadata": {},
   "outputs": [
    {
     "name": "stdout",
     "output_type": "stream",
     "text": [
      "----- Start processing vaccination data -----\n",
      "Loading and processing vaccination data...\n",
      "Afghanistan.csv\n",
      "Albania.csv\n",
      "Algeria.csv\n",
      "Andorra.csv\n",
      "Angola.csv\n",
      "Anguilla.csv\n",
      "Antigua and Barbuda.csv\n",
      "Argentina.csv\n",
      "Armenia.csv\n",
      "Aruba.csv\n",
      "Australia.csv\n",
      "Austria.csv\n",
      "Azerbaijan.csv\n",
      "Bahamas.csv\n",
      "Bahrain.csv\n",
      "Bangladesh.csv\n",
      "Barbados.csv\n",
      "Belarus.csv\n",
      "Belgium.csv\n",
      "Belize.csv\n",
      "Benin.csv\n",
      "Bermuda.csv\n",
      "Bhutan.csv\n",
      "Bolivia.csv\n",
      "Bonaire Sint Eustatius and Saba.csv\n",
      "Bosnia and Herzegovina.csv\n",
      "Botswana.csv\n",
      "Brazil.csv\n",
      "Brunei.csv\n",
      "Bulgaria.csv\n",
      "Cambodia.csv\n",
      "Cameroon.csv\n",
      "Canada.csv\n",
      "Cape Verde.csv\n",
      "Cayman Islands.csv\n",
      "Central African Republic.csv\n",
      "Chile.csv\n",
      "China.csv\n",
      "Colombia.csv\n",
      "Comoros.csv\n",
      "Congo.csv\n",
      "Costa Rica.csv\n",
      "Cote d'Ivoire.csv\n",
      "Croatia.csv\n",
      "Cuba.csv\n",
      "Curacao.csv\n",
      "Cyprus.csv\n",
      "Czechia.csv\n",
      "Democratic Republic of Congo.csv\n",
      "Denmark.csv\n",
      "Djibouti.csv\n",
      "Dominica.csv\n",
      "Dominican Republic.csv\n",
      "Ecuador.csv\n",
      "Egypt.csv\n",
      "El Salvador.csv\n",
      "England.csv\n",
      "Equatorial Guinea.csv\n",
      "Estonia.csv\n",
      "Eswatini.csv\n",
      "Ethiopia.csv\n",
      "Faeroe Islands.csv\n",
      "Falkland Islands.csv\n",
      "Fiji.csv\n",
      "Finland.csv\n",
      "France.csv\n",
      "French Polynesia.csv\n",
      "Gabon.csv\n",
      "Gambia.csv\n",
      "Georgia.csv\n",
      "Germany.csv\n",
      "Ghana.csv\n",
      "Gibraltar.csv\n",
      "Greece.csv\n",
      "Greenland.csv\n",
      "Grenada.csv\n",
      "Guatemala.csv\n",
      "Guernsey.csv\n",
      "Guinea-Bissau.csv\n",
      "Guinea.csv\n",
      "Guyana.csv\n",
      "Honduras.csv\n",
      "Hong Kong.csv\n",
      "Hungary.csv\n",
      "Iceland.csv\n",
      "India.csv\n",
      "Indonesia.csv\n",
      "Iran.csv\n",
      "Iraq.csv\n",
      "Ireland.csv\n",
      "Isle of Man.csv\n",
      "Israel.csv\n",
      "Italy.csv\n",
      "Jamaica.csv\n",
      "Japan.csv\n",
      "Jersey.csv\n",
      "Jordan.csv\n",
      "Kazakhstan.csv\n",
      "Kenya.csv\n",
      "Kosovo.csv\n",
      "Kuwait.csv\n",
      "Kyrgyzstan.csv\n",
      "Laos.csv\n",
      "Latvia.csv\n",
      "Lebanon.csv\n",
      "Lesotho.csv\n",
      "Liberia.csv\n",
      "Libya.csv\n",
      "Liechtenstein.csv\n",
      "Lithuania.csv\n",
      "Luxembourg.csv\n",
      "Macao.csv\n",
      "Madagascar.csv\n",
      "Malawi.csv\n",
      "Malaysia.csv\n",
      "Maldives.csv\n",
      "Mali.csv\n",
      "Malta.csv\n",
      "Mauritania.csv\n",
      "Mauritius.csv\n",
      "Mexico.csv\n",
      "Moldova.csv\n",
      "Monaco.csv\n",
      "Mongolia.csv\n",
      "Montenegro.csv\n",
      "Montserrat.csv\n",
      "Morocco.csv\n",
      "Mozambique.csv\n",
      "Myanmar.csv\n",
      "Namibia.csv\n",
      "Nauru.csv\n",
      "Nepal.csv\n",
      "Netherlands.csv\n",
      "New Caledonia.csv\n",
      "New Zealand.csv\n",
      "Nicaragua.csv\n",
      "Niger.csv\n",
      "Nigeria.csv\n",
      "North Macedonia.csv\n",
      "Northern Cyprus.csv\n",
      "Northern Ireland.csv\n",
      "Norway.csv\n",
      "Oman.csv\n",
      "Pakistan.csv\n",
      "Palau.csv\n",
      "Palestine.csv\n",
      "Panama.csv\n",
      "Papua New Guinea.csv\n",
      "Paraguay.csv\n",
      "Peru.csv\n",
      "Philippines.csv\n",
      "Poland.csv\n",
      "Portugal.csv\n",
      "Qatar.csv\n",
      "Romania.csv\n",
      "Russia.csv\n",
      "Rwanda.csv\n",
      "Saint Helena.csv\n",
      "Saint Kitts and Nevis.csv\n",
      "Saint Lucia.csv\n",
      "Saint Vincent and the Grenadines.csv\n",
      "Samoa.csv\n",
      "San Marino.csv\n",
      "Sao Tome and Principe.csv\n",
      "Saudi Arabia.csv\n",
      "Scotland.csv\n",
      "Senegal.csv\n",
      "Serbia.csv\n",
      "Seychelles.csv\n",
      "Sierra Leone.csv\n",
      "Singapore.csv\n",
      "Sint Maarten (Dutch part).csv\n",
      "Slovakia.csv\n",
      "Slovenia.csv\n",
      "Solomon Islands.csv\n",
      "Somalia.csv\n",
      "South Africa.csv\n",
      "South Korea.csv\n",
      "South Sudan.csv\n",
      "Spain.csv\n",
      "Sri Lanka.csv\n",
      "Sudan.csv\n",
      "Suriname.csv\n",
      "Sweden.csv\n",
      "Switzerland.csv\n",
      "Syria.csv\n",
      "Taiwan.csv\n",
      "Tajikistan.csv\n",
      "Thailand.csv\n",
      "Timor.csv\n",
      "Togo.csv\n",
      "Tonga.csv\n",
      "Trinidad and Tobago.csv\n",
      "Tunisia.csv\n",
      "Turkey.csv\n",
      "Turkmenistan.csv\n",
      "Turks and Caicos Islands.csv\n",
      "Tuvalu.csv\n",
      "Uganda.csv\n",
      "Ukraine.csv\n",
      "United Arab Emirates.csv\n",
      "United Kingdom.csv\n",
      "United States.csv\n",
      "Uruguay.csv\n",
      "Uzbekistan.csv\n",
      "Venezuela.csv\n",
      "Vietnam.csv\n",
      "Wales.csv\n",
      "Wallis and Futuna.csv\n",
      "Yemen.csv\n",
      "Zambia.csv\n",
      "Zimbabwe.csv\n",
      "Bulk inserting processed vaccination data into vaccination table...\n",
      "      location date_string    date_org             vaccine total_vaccinations  \\\n",
      "0  Afghanistan  2021-02-22  2021-02-22  Oxford/AstraZeneca                  0   \n",
      "1  Afghanistan  2021-02-28  2021-02-28  Oxford/AstraZeneca               8200   \n",
      "2  Afghanistan  2021-03-16  2021-03-16  Oxford/AstraZeneca              54000   \n",
      "3  Afghanistan  2021-04-07  2021-04-07  Oxford/AstraZeneca             120000   \n",
      "4  Afghanistan  2021-04-22  2021-04-22  Oxford/AstraZeneca             240000   \n",
      "\n",
      "  people_vaccinated people_fully_vaccinated  \n",
      "0                 0                    None  \n",
      "1              8200                    None  \n",
      "2             54000                    None  \n",
      "3            120000                    None  \n",
      "4            240000                    None  \n",
      "Done bulk insert vaccination data into vaccination table\n",
      "Bulk inserting csv records into csv_record table...\n",
      "(%s, %s, %s)\n",
      "Done bulk insert csv records into csv_record table\n",
      "----- Successfully process vaccination data and insert into vaccination table -----\n",
      "---------------------------------------\n"
     ]
    }
   ],
   "source": [
    "etl.process_vaccine_data()"
   ]
  },
  {
   "cell_type": "code",
   "execution_count": 2,
   "id": "bdb49e5b",
   "metadata": {},
   "outputs": [],
   "source": [
    "# list_files = aws_util.list_files('daily_case_data/')"
   ]
  },
  {
   "cell_type": "code",
   "execution_count": 19,
   "id": "ae23765a",
   "metadata": {},
   "outputs": [],
   "source": [
    "# df_test = pd.read_sql(\"select * from vac where location = 'Israel'\", conn)\n",
    "df_test = pd.read_sql(\"\"\"select * from daily_case where Country_Region = 'China' \n",
    "                      and date_string between '2020-04-20' and '2020-04-30'\n",
    "                      order by date_string\"\"\", conn)"
   ]
  },
  {
   "cell_type": "code",
   "execution_count": 23,
   "id": "9e611776",
   "metadata": {},
   "outputs": [
    {
     "data": {
      "text/plain": [
       "country_region  date_string\n",
       "China           2020-04-20     74851\n",
       "                2020-04-21     75529\n",
       "                2020-04-22     76950\n",
       "                2020-04-23      1466\n",
       "                2020-04-24     77609\n",
       "                2020-04-25     75733\n",
       "                2020-04-26     74073\n",
       "                2020-04-27     75726\n",
       "                2020-04-28      5427\n",
       "                2020-04-29     83940\n",
       "                2020-04-30     83944\n",
       "Name: confirmed, dtype: int64"
      ]
     },
     "execution_count": 23,
     "metadata": {},
     "output_type": "execute_result"
    }
   ],
   "source": [
    "df_test.groupby(['country_region', 'date_string'])['confirmed'].sum()"
   ]
  },
  {
   "cell_type": "code",
   "execution_count": null,
   "id": "a8cdb894",
   "metadata": {},
   "outputs": [],
   "source": []
  }
 ],
 "metadata": {
  "kernelspec": {
   "display_name": "Python 3",
   "language": "python",
   "name": "python3"
  },
  "language_info": {
   "codemirror_mode": {
    "name": "ipython",
    "version": 3
   },
   "file_extension": ".py",
   "mimetype": "text/x-python",
   "name": "python",
   "nbconvert_exporter": "python",
   "pygments_lexer": "ipython3",
   "version": "3.8.8"
  }
 },
 "nbformat": 4,
 "nbformat_minor": 5
}
