{
 "cells": [
  {
   "cell_type": "code",
   "execution_count": 1,
   "id": "d026d7a9",
   "metadata": {},
   "outputs": [
    {
     "data": {
      "text/plain": [
       "['dl.cfg']"
      ]
     },
     "execution_count": 1,
     "metadata": {},
     "output_type": "execute_result"
    }
   ],
   "source": [
    "import etl\n",
    "import psycopg2\n",
    "from datetime import datetime, timedelta\n",
    "import pandas as pd\n",
    "import numpy as np\n",
    "import configparser\n",
    "import os\n",
    "import aws_util\n",
    "\n",
    "pd.options.mode.chained_assignment = None  # default='warn'\n",
    "\n",
    "# df_test = pd.DataFrame([datetime.now(), datetime.now()+timedelta(days=1)], columns=['date'])\n",
    "\n",
    "config = configparser.ConfigParser()\n",
    "config.read('dl.cfg')"
   ]
  },
  {
   "cell_type": "code",
   "execution_count": 2,
   "id": "coral-benchmark",
   "metadata": {},
   "outputs": [
    {
     "ename": "NameError",
     "evalue": "name 'conn' is not defined",
     "output_type": "error",
     "traceback": [
      "\u001b[1;31m---------------------------------------------------------------------------\u001b[0m",
      "\u001b[1;31mNameError\u001b[0m                                 Traceback (most recent call last)",
      "\u001b[1;32m<ipython-input-2-8dd0cd799055>\u001b[0m in \u001b[0;36m<module>\u001b[1;34m\u001b[0m\n\u001b[1;32m----> 1\u001b[1;33m \u001b[0mconn\u001b[0m\u001b[1;33m.\u001b[0m\u001b[0mclose\u001b[0m\u001b[1;33m(\u001b[0m\u001b[1;33m)\u001b[0m\u001b[1;33m\u001b[0m\u001b[1;33m\u001b[0m\u001b[0m\n\u001b[0m",
      "\u001b[1;31mNameError\u001b[0m: name 'conn' is not defined"
     ]
    }
   ],
   "source": [
    "conn.close()"
   ]
  },
  {
   "cell_type": "code",
   "execution_count": 3,
   "id": "1d275700",
   "metadata": {},
   "outputs": [],
   "source": [
    "# conn = psycopg2.connect(\"host=127.0.0.1 dbname=covid19_db user=postgres password=localtest\")\n",
    "# cur = conn.cursor()\n",
    "db_name = 'covid19_db'\n",
    "conn, cur = aws_util.conn_db(db_name)"
   ]
  },
  {
   "cell_type": "markdown",
   "id": "interesting-justice",
   "metadata": {},
   "source": [
    "#### Show columns"
   ]
  },
  {
   "cell_type": "code",
   "execution_count": 4,
   "id": "stainless-evidence",
   "metadata": {},
   "outputs": [],
   "source": [
    "sql_column = \"\"\"\n",
    "SELECT *\n",
    "FROM information_schema.columns\n",
    "WHERE (table_name = 'daily_case');\n",
    "\"\"\""
   ]
  },
  {
   "cell_type": "code",
   "execution_count": 5,
   "id": "democratic-childhood",
   "metadata": {},
   "outputs": [],
   "source": [
    "daily_case_columns = pd.read_sql(sql_column, conn)"
   ]
  },
  {
   "cell_type": "code",
   "execution_count": 6,
   "id": "efficient-checklist",
   "metadata": {},
   "outputs": [
    {
     "data": {
      "text/html": [
       "<div>\n",
       "<style scoped>\n",
       "    .dataframe tbody tr th:only-of-type {\n",
       "        vertical-align: middle;\n",
       "    }\n",
       "\n",
       "    .dataframe tbody tr th {\n",
       "        vertical-align: top;\n",
       "    }\n",
       "\n",
       "    .dataframe thead th {\n",
       "        text-align: right;\n",
       "    }\n",
       "</style>\n",
       "<table border=\"1\" class=\"dataframe\">\n",
       "  <thead>\n",
       "    <tr style=\"text-align: right;\">\n",
       "      <th></th>\n",
       "      <th>table_catalog</th>\n",
       "      <th>table_schema</th>\n",
       "      <th>table_name</th>\n",
       "      <th>column_name</th>\n",
       "      <th>ordinal_position</th>\n",
       "      <th>column_default</th>\n",
       "      <th>is_nullable</th>\n",
       "      <th>data_type</th>\n",
       "      <th>character_maximum_length</th>\n",
       "      <th>character_octet_length</th>\n",
       "      <th>...</th>\n",
       "      <th>is_identity</th>\n",
       "      <th>identity_generation</th>\n",
       "      <th>identity_start</th>\n",
       "      <th>identity_increment</th>\n",
       "      <th>identity_maximum</th>\n",
       "      <th>identity_minimum</th>\n",
       "      <th>identity_cycle</th>\n",
       "      <th>is_generated</th>\n",
       "      <th>generation_expression</th>\n",
       "      <th>is_updatable</th>\n",
       "    </tr>\n",
       "  </thead>\n",
       "  <tbody>\n",
       "    <tr>\n",
       "      <th>0</th>\n",
       "      <td>covid19_db</td>\n",
       "      <td>public</td>\n",
       "      <td>daily_case</td>\n",
       "      <td>fips</td>\n",
       "      <td>1</td>\n",
       "      <td>None</td>\n",
       "      <td>YES</td>\n",
       "      <td>text</td>\n",
       "      <td>None</td>\n",
       "      <td>1.073742e+09</td>\n",
       "      <td>...</td>\n",
       "      <td>NO</td>\n",
       "      <td>None</td>\n",
       "      <td>None</td>\n",
       "      <td>None</td>\n",
       "      <td>None</td>\n",
       "      <td>None</td>\n",
       "      <td>NO</td>\n",
       "      <td>NEVER</td>\n",
       "      <td>None</td>\n",
       "      <td>YES</td>\n",
       "    </tr>\n",
       "    <tr>\n",
       "      <th>1</th>\n",
       "      <td>covid19_db</td>\n",
       "      <td>public</td>\n",
       "      <td>daily_case</td>\n",
       "      <td>admin2</td>\n",
       "      <td>2</td>\n",
       "      <td>None</td>\n",
       "      <td>YES</td>\n",
       "      <td>text</td>\n",
       "      <td>None</td>\n",
       "      <td>1.073742e+09</td>\n",
       "      <td>...</td>\n",
       "      <td>NO</td>\n",
       "      <td>None</td>\n",
       "      <td>None</td>\n",
       "      <td>None</td>\n",
       "      <td>None</td>\n",
       "      <td>None</td>\n",
       "      <td>NO</td>\n",
       "      <td>NEVER</td>\n",
       "      <td>None</td>\n",
       "      <td>YES</td>\n",
       "    </tr>\n",
       "    <tr>\n",
       "      <th>2</th>\n",
       "      <td>covid19_db</td>\n",
       "      <td>public</td>\n",
       "      <td>daily_case</td>\n",
       "      <td>province_state</td>\n",
       "      <td>3</td>\n",
       "      <td>None</td>\n",
       "      <td>YES</td>\n",
       "      <td>text</td>\n",
       "      <td>None</td>\n",
       "      <td>1.073742e+09</td>\n",
       "      <td>...</td>\n",
       "      <td>NO</td>\n",
       "      <td>None</td>\n",
       "      <td>None</td>\n",
       "      <td>None</td>\n",
       "      <td>None</td>\n",
       "      <td>None</td>\n",
       "      <td>NO</td>\n",
       "      <td>NEVER</td>\n",
       "      <td>None</td>\n",
       "      <td>YES</td>\n",
       "    </tr>\n",
       "    <tr>\n",
       "      <th>3</th>\n",
       "      <td>covid19_db</td>\n",
       "      <td>public</td>\n",
       "      <td>daily_case</td>\n",
       "      <td>country_region</td>\n",
       "      <td>4</td>\n",
       "      <td>None</td>\n",
       "      <td>YES</td>\n",
       "      <td>text</td>\n",
       "      <td>None</td>\n",
       "      <td>1.073742e+09</td>\n",
       "      <td>...</td>\n",
       "      <td>NO</td>\n",
       "      <td>None</td>\n",
       "      <td>None</td>\n",
       "      <td>None</td>\n",
       "      <td>None</td>\n",
       "      <td>None</td>\n",
       "      <td>NO</td>\n",
       "      <td>NEVER</td>\n",
       "      <td>None</td>\n",
       "      <td>YES</td>\n",
       "    </tr>\n",
       "    <tr>\n",
       "      <th>4</th>\n",
       "      <td>covid19_db</td>\n",
       "      <td>public</td>\n",
       "      <td>daily_case</td>\n",
       "      <td>date_case</td>\n",
       "      <td>5</td>\n",
       "      <td>None</td>\n",
       "      <td>YES</td>\n",
       "      <td>date</td>\n",
       "      <td>None</td>\n",
       "      <td>NaN</td>\n",
       "      <td>...</td>\n",
       "      <td>NO</td>\n",
       "      <td>None</td>\n",
       "      <td>None</td>\n",
       "      <td>None</td>\n",
       "      <td>None</td>\n",
       "      <td>None</td>\n",
       "      <td>NO</td>\n",
       "      <td>NEVER</td>\n",
       "      <td>None</td>\n",
       "      <td>YES</td>\n",
       "    </tr>\n",
       "    <tr>\n",
       "      <th>5</th>\n",
       "      <td>covid19_db</td>\n",
       "      <td>public</td>\n",
       "      <td>daily_case</td>\n",
       "      <td>date_string</td>\n",
       "      <td>6</td>\n",
       "      <td>None</td>\n",
       "      <td>YES</td>\n",
       "      <td>text</td>\n",
       "      <td>None</td>\n",
       "      <td>1.073742e+09</td>\n",
       "      <td>...</td>\n",
       "      <td>NO</td>\n",
       "      <td>None</td>\n",
       "      <td>None</td>\n",
       "      <td>None</td>\n",
       "      <td>None</td>\n",
       "      <td>None</td>\n",
       "      <td>NO</td>\n",
       "      <td>NEVER</td>\n",
       "      <td>None</td>\n",
       "      <td>YES</td>\n",
       "    </tr>\n",
       "    <tr>\n",
       "      <th>6</th>\n",
       "      <td>covid19_db</td>\n",
       "      <td>public</td>\n",
       "      <td>daily_case</td>\n",
       "      <td>last_update</td>\n",
       "      <td>7</td>\n",
       "      <td>None</td>\n",
       "      <td>YES</td>\n",
       "      <td>text</td>\n",
       "      <td>None</td>\n",
       "      <td>1.073742e+09</td>\n",
       "      <td>...</td>\n",
       "      <td>NO</td>\n",
       "      <td>None</td>\n",
       "      <td>None</td>\n",
       "      <td>None</td>\n",
       "      <td>None</td>\n",
       "      <td>None</td>\n",
       "      <td>NO</td>\n",
       "      <td>NEVER</td>\n",
       "      <td>None</td>\n",
       "      <td>YES</td>\n",
       "    </tr>\n",
       "    <tr>\n",
       "      <th>7</th>\n",
       "      <td>covid19_db</td>\n",
       "      <td>public</td>\n",
       "      <td>daily_case</td>\n",
       "      <td>confirmed</td>\n",
       "      <td>8</td>\n",
       "      <td>None</td>\n",
       "      <td>YES</td>\n",
       "      <td>integer</td>\n",
       "      <td>None</td>\n",
       "      <td>NaN</td>\n",
       "      <td>...</td>\n",
       "      <td>NO</td>\n",
       "      <td>None</td>\n",
       "      <td>None</td>\n",
       "      <td>None</td>\n",
       "      <td>None</td>\n",
       "      <td>None</td>\n",
       "      <td>NO</td>\n",
       "      <td>NEVER</td>\n",
       "      <td>None</td>\n",
       "      <td>YES</td>\n",
       "    </tr>\n",
       "    <tr>\n",
       "      <th>8</th>\n",
       "      <td>covid19_db</td>\n",
       "      <td>public</td>\n",
       "      <td>daily_case</td>\n",
       "      <td>deaths</td>\n",
       "      <td>9</td>\n",
       "      <td>None</td>\n",
       "      <td>YES</td>\n",
       "      <td>integer</td>\n",
       "      <td>None</td>\n",
       "      <td>NaN</td>\n",
       "      <td>...</td>\n",
       "      <td>NO</td>\n",
       "      <td>None</td>\n",
       "      <td>None</td>\n",
       "      <td>None</td>\n",
       "      <td>None</td>\n",
       "      <td>None</td>\n",
       "      <td>NO</td>\n",
       "      <td>NEVER</td>\n",
       "      <td>None</td>\n",
       "      <td>YES</td>\n",
       "    </tr>\n",
       "    <tr>\n",
       "      <th>9</th>\n",
       "      <td>covid19_db</td>\n",
       "      <td>public</td>\n",
       "      <td>daily_case</td>\n",
       "      <td>recovered</td>\n",
       "      <td>10</td>\n",
       "      <td>None</td>\n",
       "      <td>YES</td>\n",
       "      <td>integer</td>\n",
       "      <td>None</td>\n",
       "      <td>NaN</td>\n",
       "      <td>...</td>\n",
       "      <td>NO</td>\n",
       "      <td>None</td>\n",
       "      <td>None</td>\n",
       "      <td>None</td>\n",
       "      <td>None</td>\n",
       "      <td>None</td>\n",
       "      <td>NO</td>\n",
       "      <td>NEVER</td>\n",
       "      <td>None</td>\n",
       "      <td>YES</td>\n",
       "    </tr>\n",
       "    <tr>\n",
       "      <th>10</th>\n",
       "      <td>covid19_db</td>\n",
       "      <td>public</td>\n",
       "      <td>daily_case</td>\n",
       "      <td>active</td>\n",
       "      <td>11</td>\n",
       "      <td>None</td>\n",
       "      <td>YES</td>\n",
       "      <td>integer</td>\n",
       "      <td>None</td>\n",
       "      <td>NaN</td>\n",
       "      <td>...</td>\n",
       "      <td>NO</td>\n",
       "      <td>None</td>\n",
       "      <td>None</td>\n",
       "      <td>None</td>\n",
       "      <td>None</td>\n",
       "      <td>None</td>\n",
       "      <td>NO</td>\n",
       "      <td>NEVER</td>\n",
       "      <td>None</td>\n",
       "      <td>YES</td>\n",
       "    </tr>\n",
       "  </tbody>\n",
       "</table>\n",
       "<p>11 rows × 44 columns</p>\n",
       "</div>"
      ],
      "text/plain": [
       "   table_catalog table_schema  table_name     column_name  ordinal_position  \\\n",
       "0     covid19_db       public  daily_case            fips                 1   \n",
       "1     covid19_db       public  daily_case          admin2                 2   \n",
       "2     covid19_db       public  daily_case  province_state                 3   \n",
       "3     covid19_db       public  daily_case  country_region                 4   \n",
       "4     covid19_db       public  daily_case       date_case                 5   \n",
       "5     covid19_db       public  daily_case     date_string                 6   \n",
       "6     covid19_db       public  daily_case     last_update                 7   \n",
       "7     covid19_db       public  daily_case       confirmed                 8   \n",
       "8     covid19_db       public  daily_case          deaths                 9   \n",
       "9     covid19_db       public  daily_case       recovered                10   \n",
       "10    covid19_db       public  daily_case          active                11   \n",
       "\n",
       "   column_default is_nullable data_type character_maximum_length  \\\n",
       "0            None         YES      text                     None   \n",
       "1            None         YES      text                     None   \n",
       "2            None         YES      text                     None   \n",
       "3            None         YES      text                     None   \n",
       "4            None         YES      date                     None   \n",
       "5            None         YES      text                     None   \n",
       "6            None         YES      text                     None   \n",
       "7            None         YES   integer                     None   \n",
       "8            None         YES   integer                     None   \n",
       "9            None         YES   integer                     None   \n",
       "10           None         YES   integer                     None   \n",
       "\n",
       "    character_octet_length  ...  is_identity  identity_generation  \\\n",
       "0             1.073742e+09  ...           NO                 None   \n",
       "1             1.073742e+09  ...           NO                 None   \n",
       "2             1.073742e+09  ...           NO                 None   \n",
       "3             1.073742e+09  ...           NO                 None   \n",
       "4                      NaN  ...           NO                 None   \n",
       "5             1.073742e+09  ...           NO                 None   \n",
       "6             1.073742e+09  ...           NO                 None   \n",
       "7                      NaN  ...           NO                 None   \n",
       "8                      NaN  ...           NO                 None   \n",
       "9                      NaN  ...           NO                 None   \n",
       "10                     NaN  ...           NO                 None   \n",
       "\n",
       "    identity_start  identity_increment identity_maximum identity_minimum  \\\n",
       "0             None                None             None             None   \n",
       "1             None                None             None             None   \n",
       "2             None                None             None             None   \n",
       "3             None                None             None             None   \n",
       "4             None                None             None             None   \n",
       "5             None                None             None             None   \n",
       "6             None                None             None             None   \n",
       "7             None                None             None             None   \n",
       "8             None                None             None             None   \n",
       "9             None                None             None             None   \n",
       "10            None                None             None             None   \n",
       "\n",
       "   identity_cycle is_generated generation_expression is_updatable  \n",
       "0              NO        NEVER                  None          YES  \n",
       "1              NO        NEVER                  None          YES  \n",
       "2              NO        NEVER                  None          YES  \n",
       "3              NO        NEVER                  None          YES  \n",
       "4              NO        NEVER                  None          YES  \n",
       "5              NO        NEVER                  None          YES  \n",
       "6              NO        NEVER                  None          YES  \n",
       "7              NO        NEVER                  None          YES  \n",
       "8              NO        NEVER                  None          YES  \n",
       "9              NO        NEVER                  None          YES  \n",
       "10             NO        NEVER                  None          YES  \n",
       "\n",
       "[11 rows x 44 columns]"
      ]
     },
     "execution_count": 6,
     "metadata": {},
     "output_type": "execute_result"
    }
   ],
   "source": [
    "daily_case_columns"
   ]
  },
  {
   "cell_type": "markdown",
   "id": "e6f71a3c",
   "metadata": {},
   "source": [
    "## Plot case and vaccination together"
   ]
  },
  {
   "cell_type": "markdown",
   "id": "ee2ba7cf",
   "metadata": {},
   "source": [
    "#### Get number of deaths from daily_case"
   ]
  },
  {
   "cell_type": "code",
   "execution_count": 7,
   "id": "f1b49633",
   "metadata": {},
   "outputs": [],
   "source": [
    "sql_case_death = \"\"\"\n",
    "    SELECT date_string, Country_Region, sum(Confirmed) as country_confirmed, sum(deaths) as country_death\n",
    "    FROM daily_case\n",
    "    GROUP BY date_String, Country_Region\n",
    "\"\"\"\n",
    "\n",
    "df_case_death = pd.read_sql(sql_case_death, conn)"
   ]
  },
  {
   "cell_type": "code",
   "execution_count": 8,
   "id": "9c445593",
   "metadata": {},
   "outputs": [],
   "source": [
    "\n",
    "mat_country_region_null = pd.isnull(df_case_death['country_region'])\n",
    "df_case_death = df_case_death[~mat_country_region_null]\n"
   ]
  },
  {
   "cell_type": "code",
   "execution_count": 9,
   "id": "838eb9af",
   "metadata": {},
   "outputs": [
    {
     "data": {
      "text/html": [
       "<div>\n",
       "<style scoped>\n",
       "    .dataframe tbody tr th:only-of-type {\n",
       "        vertical-align: middle;\n",
       "    }\n",
       "\n",
       "    .dataframe tbody tr th {\n",
       "        vertical-align: top;\n",
       "    }\n",
       "\n",
       "    .dataframe thead th {\n",
       "        text-align: right;\n",
       "    }\n",
       "</style>\n",
       "<table border=\"1\" class=\"dataframe\">\n",
       "  <thead>\n",
       "    <tr style=\"text-align: right;\">\n",
       "      <th></th>\n",
       "      <th>date_string</th>\n",
       "      <th>country_region</th>\n",
       "      <th>country_confirmed</th>\n",
       "      <th>country_death</th>\n",
       "    </tr>\n",
       "  </thead>\n",
       "  <tbody>\n",
       "    <tr>\n",
       "      <th>0</th>\n",
       "      <td>2020-01-22</td>\n",
       "      <td>Hong Kong</td>\n",
       "      <td>NaN</td>\n",
       "      <td>NaN</td>\n",
       "    </tr>\n",
       "    <tr>\n",
       "      <th>1</th>\n",
       "      <td>2020-01-22</td>\n",
       "      <td>Japan</td>\n",
       "      <td>2.0</td>\n",
       "      <td>NaN</td>\n",
       "    </tr>\n",
       "    <tr>\n",
       "      <th>2</th>\n",
       "      <td>2020-01-22</td>\n",
       "      <td>Macau</td>\n",
       "      <td>1.0</td>\n",
       "      <td>NaN</td>\n",
       "    </tr>\n",
       "    <tr>\n",
       "      <th>3</th>\n",
       "      <td>2020-01-22</td>\n",
       "      <td>Mainland China</td>\n",
       "      <td>547.0</td>\n",
       "      <td>17.0</td>\n",
       "    </tr>\n",
       "    <tr>\n",
       "      <th>4</th>\n",
       "      <td>2020-01-22</td>\n",
       "      <td>South Korea</td>\n",
       "      <td>1.0</td>\n",
       "      <td>NaN</td>\n",
       "    </tr>\n",
       "    <tr>\n",
       "      <th>...</th>\n",
       "      <td>...</td>\n",
       "      <td>...</td>\n",
       "      <td>...</td>\n",
       "      <td>...</td>\n",
       "    </tr>\n",
       "    <tr>\n",
       "      <th>100833</th>\n",
       "      <td>2021-08-13</td>\n",
       "      <td>Vietnam</td>\n",
       "      <td>255748.0</td>\n",
       "      <td>5088.0</td>\n",
       "    </tr>\n",
       "    <tr>\n",
       "      <th>100834</th>\n",
       "      <td>2021-08-13</td>\n",
       "      <td>West Bank and Gaza</td>\n",
       "      <td>319646.0</td>\n",
       "      <td>3622.0</td>\n",
       "    </tr>\n",
       "    <tr>\n",
       "      <th>100835</th>\n",
       "      <td>2021-08-13</td>\n",
       "      <td>Yemen</td>\n",
       "      <td>7256.0</td>\n",
       "      <td>1397.0</td>\n",
       "    </tr>\n",
       "    <tr>\n",
       "      <th>100836</th>\n",
       "      <td>2021-08-13</td>\n",
       "      <td>Zambia</td>\n",
       "      <td>201867.0</td>\n",
       "      <td>3515.0</td>\n",
       "    </tr>\n",
       "    <tr>\n",
       "      <th>100837</th>\n",
       "      <td>2021-08-13</td>\n",
       "      <td>Zimbabwe</td>\n",
       "      <td>119508.0</td>\n",
       "      <td>4073.0</td>\n",
       "    </tr>\n",
       "  </tbody>\n",
       "</table>\n",
       "<p>100838 rows × 4 columns</p>\n",
       "</div>"
      ],
      "text/plain": [
       "       date_string      country_region  country_confirmed  country_death\n",
       "0       2020-01-22           Hong Kong                NaN            NaN\n",
       "1       2020-01-22               Japan                2.0            NaN\n",
       "2       2020-01-22               Macau                1.0            NaN\n",
       "3       2020-01-22      Mainland China              547.0           17.0\n",
       "4       2020-01-22         South Korea                1.0            NaN\n",
       "...            ...                 ...                ...            ...\n",
       "100833  2021-08-13             Vietnam           255748.0         5088.0\n",
       "100834  2021-08-13  West Bank and Gaza           319646.0         3622.0\n",
       "100835  2021-08-13               Yemen             7256.0         1397.0\n",
       "100836  2021-08-13              Zambia           201867.0         3515.0\n",
       "100837  2021-08-13            Zimbabwe           119508.0         4073.0\n",
       "\n",
       "[100838 rows x 4 columns]"
      ]
     },
     "execution_count": 9,
     "metadata": {},
     "output_type": "execute_result"
    }
   ],
   "source": [
    "df_case_death\n",
    "# df_confirmed.dtypes"
   ]
  },
  {
   "cell_type": "markdown",
   "id": "abf99ee0",
   "metadata": {},
   "source": [
    "#### get vaccination from vac"
   ]
  },
  {
   "cell_type": "code",
   "execution_count": 10,
   "id": "7f79e44e",
   "metadata": {},
   "outputs": [],
   "source": [
    "vac_sql = \"\"\"\n",
    "    SELECT *\n",
    "    FROM vac\n",
    "\"\"\"\n",
    "\n",
    "df_vac = pd.read_sql(vac_sql, conn)"
   ]
  },
  {
   "cell_type": "code",
   "execution_count": 11,
   "id": "b8077a61",
   "metadata": {},
   "outputs": [],
   "source": [
    "# df_vac"
   ]
  },
  {
   "cell_type": "markdown",
   "id": "bf771cae",
   "metadata": {},
   "source": [
    "### get country/loc from country_loc"
   ]
  },
  {
   "cell_type": "code",
   "execution_count": 12,
   "id": "ad1e06b4",
   "metadata": {},
   "outputs": [],
   "source": [
    "cl_sql = \"\"\"\n",
    "    SELECT *\n",
    "    FROM country_loc\n",
    "\"\"\"\n",
    "\n",
    "df_cl = pd.read_sql(cl_sql, conn)"
   ]
  },
  {
   "cell_type": "code",
   "execution_count": 13,
   "id": "9c5ac1c6",
   "metadata": {},
   "outputs": [
    {
     "data": {
      "text/html": [
       "<div>\n",
       "<style scoped>\n",
       "    .dataframe tbody tr th:only-of-type {\n",
       "        vertical-align: middle;\n",
       "    }\n",
       "\n",
       "    .dataframe tbody tr th {\n",
       "        vertical-align: top;\n",
       "    }\n",
       "\n",
       "    .dataframe thead th {\n",
       "        text-align: right;\n",
       "    }\n",
       "</style>\n",
       "<table border=\"1\" class=\"dataframe\">\n",
       "  <thead>\n",
       "    <tr style=\"text-align: right;\">\n",
       "      <th></th>\n",
       "      <th>country_region</th>\n",
       "      <th>location</th>\n",
       "      <th>uid</th>\n",
       "      <th>iso2</th>\n",
       "      <th>iso3</th>\n",
       "      <th>code3</th>\n",
       "      <th>fips</th>\n",
       "      <th>admin2</th>\n",
       "      <th>province_state</th>\n",
       "      <th>combined_key</th>\n",
       "      <th>lat</th>\n",
       "      <th>long_</th>\n",
       "      <th>population</th>\n",
       "      <th>continent</th>\n",
       "    </tr>\n",
       "  </thead>\n",
       "  <tbody>\n",
       "    <tr>\n",
       "      <th>0</th>\n",
       "      <td>Afghanistan</td>\n",
       "      <td>Afghanistan</td>\n",
       "      <td>4.0</td>\n",
       "      <td>AF</td>\n",
       "      <td>AFG</td>\n",
       "      <td>4.0</td>\n",
       "      <td></td>\n",
       "      <td></td>\n",
       "      <td></td>\n",
       "      <td>Afghanistan</td>\n",
       "      <td>33.939110</td>\n",
       "      <td>67.70995</td>\n",
       "      <td>38928341.0</td>\n",
       "      <td>Asia</td>\n",
       "    </tr>\n",
       "    <tr>\n",
       "      <th>1</th>\n",
       "      <td>Albania</td>\n",
       "      <td>Albania</td>\n",
       "      <td>8.0</td>\n",
       "      <td>AL</td>\n",
       "      <td>ALB</td>\n",
       "      <td>8.0</td>\n",
       "      <td></td>\n",
       "      <td></td>\n",
       "      <td></td>\n",
       "      <td>Albania</td>\n",
       "      <td>41.153300</td>\n",
       "      <td>20.16830</td>\n",
       "      <td>2877800.0</td>\n",
       "      <td>Europe</td>\n",
       "    </tr>\n",
       "    <tr>\n",
       "      <th>2</th>\n",
       "      <td>Algeria</td>\n",
       "      <td>Algeria</td>\n",
       "      <td>12.0</td>\n",
       "      <td>DZ</td>\n",
       "      <td>DZA</td>\n",
       "      <td>12.0</td>\n",
       "      <td></td>\n",
       "      <td></td>\n",
       "      <td></td>\n",
       "      <td>Algeria</td>\n",
       "      <td>28.033900</td>\n",
       "      <td>1.65960</td>\n",
       "      <td>43851043.0</td>\n",
       "      <td>Africa</td>\n",
       "    </tr>\n",
       "    <tr>\n",
       "      <th>3</th>\n",
       "      <td>Andorra</td>\n",
       "      <td>Andorra</td>\n",
       "      <td>20.0</td>\n",
       "      <td>AD</td>\n",
       "      <td>AND</td>\n",
       "      <td>20.0</td>\n",
       "      <td></td>\n",
       "      <td></td>\n",
       "      <td></td>\n",
       "      <td>Andorra</td>\n",
       "      <td>42.506300</td>\n",
       "      <td>1.52180</td>\n",
       "      <td>77265.0</td>\n",
       "      <td>Europe</td>\n",
       "    </tr>\n",
       "    <tr>\n",
       "      <th>4</th>\n",
       "      <td>Angola</td>\n",
       "      <td>Angola</td>\n",
       "      <td>24.0</td>\n",
       "      <td>AO</td>\n",
       "      <td>AGO</td>\n",
       "      <td>24.0</td>\n",
       "      <td></td>\n",
       "      <td></td>\n",
       "      <td></td>\n",
       "      <td>Angola</td>\n",
       "      <td>-11.202700</td>\n",
       "      <td>17.87390</td>\n",
       "      <td>32866268.0</td>\n",
       "      <td>Africa</td>\n",
       "    </tr>\n",
       "    <tr>\n",
       "      <th>...</th>\n",
       "      <td>...</td>\n",
       "      <td>...</td>\n",
       "      <td>...</td>\n",
       "      <td>...</td>\n",
       "      <td>...</td>\n",
       "      <td>...</td>\n",
       "      <td>...</td>\n",
       "      <td>...</td>\n",
       "      <td>...</td>\n",
       "      <td>...</td>\n",
       "      <td>...</td>\n",
       "      <td>...</td>\n",
       "      <td>...</td>\n",
       "      <td>...</td>\n",
       "    </tr>\n",
       "    <tr>\n",
       "      <th>4194</th>\n",
       "      <td>US</td>\n",
       "      <td>United States</td>\n",
       "      <td>84056043.0</td>\n",
       "      <td>US</td>\n",
       "      <td>USA</td>\n",
       "      <td>840.0</td>\n",
       "      <td>56043.0</td>\n",
       "      <td>Washakie</td>\n",
       "      <td>Wyoming</td>\n",
       "      <td>Washakie, Wyoming, US</td>\n",
       "      <td>43.904514</td>\n",
       "      <td>-107.68018</td>\n",
       "      <td>7805.0</td>\n",
       "      <td>North America</td>\n",
       "    </tr>\n",
       "    <tr>\n",
       "      <th>4195</th>\n",
       "      <td>US</td>\n",
       "      <td>United States</td>\n",
       "      <td>84056045.0</td>\n",
       "      <td>US</td>\n",
       "      <td>USA</td>\n",
       "      <td>840.0</td>\n",
       "      <td>56045.0</td>\n",
       "      <td>Weston</td>\n",
       "      <td>Wyoming</td>\n",
       "      <td>Weston, Wyoming, US</td>\n",
       "      <td>43.839610</td>\n",
       "      <td>-104.56749</td>\n",
       "      <td>6927.0</td>\n",
       "      <td>North America</td>\n",
       "    </tr>\n",
       "    <tr>\n",
       "      <th>4196</th>\n",
       "      <td>Hong Kong</td>\n",
       "      <td>Hong Kong</td>\n",
       "      <td>NaN</td>\n",
       "      <td>None</td>\n",
       "      <td>None</td>\n",
       "      <td>NaN</td>\n",
       "      <td></td>\n",
       "      <td></td>\n",
       "      <td></td>\n",
       "      <td>None</td>\n",
       "      <td>NaN</td>\n",
       "      <td>NaN</td>\n",
       "      <td>NaN</td>\n",
       "      <td>Asia</td>\n",
       "    </tr>\n",
       "    <tr>\n",
       "      <th>4197</th>\n",
       "      <td>International</td>\n",
       "      <td>International</td>\n",
       "      <td>NaN</td>\n",
       "      <td>None</td>\n",
       "      <td>None</td>\n",
       "      <td>NaN</td>\n",
       "      <td></td>\n",
       "      <td></td>\n",
       "      <td></td>\n",
       "      <td>None</td>\n",
       "      <td>NaN</td>\n",
       "      <td>NaN</td>\n",
       "      <td>NaN</td>\n",
       "      <td>None</td>\n",
       "    </tr>\n",
       "    <tr>\n",
       "      <th>4198</th>\n",
       "      <td>Summer Olympics 2020</td>\n",
       "      <td>2020 Summer Olympics athletes &amp; staff</td>\n",
       "      <td>2020.0</td>\n",
       "      <td>None</td>\n",
       "      <td>None</td>\n",
       "      <td>NaN</td>\n",
       "      <td></td>\n",
       "      <td></td>\n",
       "      <td></td>\n",
       "      <td>Summer Olympics 2020</td>\n",
       "      <td>35.649100</td>\n",
       "      <td>139.77370</td>\n",
       "      <td>NaN</td>\n",
       "      <td>None</td>\n",
       "    </tr>\n",
       "  </tbody>\n",
       "</table>\n",
       "<p>4199 rows × 14 columns</p>\n",
       "</div>"
      ],
      "text/plain": [
       "            country_region                               location         uid  \\\n",
       "0              Afghanistan                            Afghanistan         4.0   \n",
       "1                  Albania                                Albania         8.0   \n",
       "2                  Algeria                                Algeria        12.0   \n",
       "3                  Andorra                                Andorra        20.0   \n",
       "4                   Angola                                 Angola        24.0   \n",
       "...                    ...                                    ...         ...   \n",
       "4194                    US                          United States  84056043.0   \n",
       "4195                    US                          United States  84056045.0   \n",
       "4196             Hong Kong                              Hong Kong         NaN   \n",
       "4197         International                          International         NaN   \n",
       "4198  Summer Olympics 2020  2020 Summer Olympics athletes & staff      2020.0   \n",
       "\n",
       "      iso2  iso3  code3     fips    admin2 province_state  \\\n",
       "0       AF   AFG    4.0                                     \n",
       "1       AL   ALB    8.0                                     \n",
       "2       DZ   DZA   12.0                                     \n",
       "3       AD   AND   20.0                                     \n",
       "4       AO   AGO   24.0                                     \n",
       "...    ...   ...    ...      ...       ...            ...   \n",
       "4194    US   USA  840.0  56043.0  Washakie        Wyoming   \n",
       "4195    US   USA  840.0  56045.0    Weston        Wyoming   \n",
       "4196  None  None    NaN                                     \n",
       "4197  None  None    NaN                                     \n",
       "4198  None  None    NaN                                     \n",
       "\n",
       "               combined_key        lat      long_  population      continent  \n",
       "0               Afghanistan  33.939110   67.70995  38928341.0           Asia  \n",
       "1                   Albania  41.153300   20.16830   2877800.0         Europe  \n",
       "2                   Algeria  28.033900    1.65960  43851043.0         Africa  \n",
       "3                   Andorra  42.506300    1.52180     77265.0         Europe  \n",
       "4                    Angola -11.202700   17.87390  32866268.0         Africa  \n",
       "...                     ...        ...        ...         ...            ...  \n",
       "4194  Washakie, Wyoming, US  43.904514 -107.68018      7805.0  North America  \n",
       "4195    Weston, Wyoming, US  43.839610 -104.56749      6927.0  North America  \n",
       "4196                   None        NaN        NaN         NaN           Asia  \n",
       "4197                   None        NaN        NaN         NaN           None  \n",
       "4198   Summer Olympics 2020  35.649100  139.77370         NaN           None  \n",
       "\n",
       "[4199 rows x 14 columns]"
      ]
     },
     "execution_count": 13,
     "metadata": {},
     "output_type": "execute_result"
    }
   ],
   "source": [
    "df_cl"
   ]
  },
  {
   "cell_type": "markdown",
   "id": "57afec2d",
   "metadata": {},
   "source": [
    "#### Join df_case with df_cl, then join df_vac"
   ]
  },
  {
   "cell_type": "code",
   "execution_count": 14,
   "id": "e7089b0a",
   "metadata": {},
   "outputs": [
    {
     "data": {
      "text/plain": [
       "0                  Hong Kong\n",
       "1                      Japan\n",
       "2                      Macau\n",
       "3             Mainland China\n",
       "4                South Korea\n",
       "                 ...        \n",
       "100833               Vietnam\n",
       "100834    West Bank and Gaza\n",
       "100835                 Yemen\n",
       "100836                Zambia\n",
       "100837              Zimbabwe\n",
       "Name: country_region, Length: 100838, dtype: object"
      ]
     },
     "execution_count": 14,
     "metadata": {},
     "output_type": "execute_result"
    }
   ],
   "source": [
    "df_case_death['country_region']"
   ]
  },
  {
   "cell_type": "code",
   "execution_count": 15,
   "id": "3dca9035",
   "metadata": {},
   "outputs": [],
   "source": [
    "# Note that df_country_location can have several different Province_State for the same Country_Region.\n",
    "# To get only the whole Country_Region and not the state granularity, need to filter by Province_State IS NULL\n",
    "\n",
    "mat_prov_null = pd.isnull(df_cl['province_state']) | (df_cl['province_state'] == '')\n",
    "df_cl_for_comb = df_cl[mat_prov_null][['country_region', 'location', 'population', 'continent']]\n",
    "df_case_death_loc = df_case_death.merge(df_cl_for_comb, on='country_region', how='left')"
   ]
  },
  {
   "cell_type": "code",
   "execution_count": null,
   "id": "c243c2e2",
   "metadata": {},
   "outputs": [],
   "source": []
  },
  {
   "cell_type": "code",
   "execution_count": 16,
   "id": "0b939e02",
   "metadata": {},
   "outputs": [],
   "source": [
    "df_case_death_loc_vac = df_case_death_loc.merge(df_vac, on=['location', 'date_string'], how='left')"
   ]
  },
  {
   "cell_type": "code",
   "execution_count": 17,
   "id": "forced-penguin",
   "metadata": {},
   "outputs": [
    {
     "data": {
      "text/html": [
       "<div>\n",
       "<style scoped>\n",
       "    .dataframe tbody tr th:only-of-type {\n",
       "        vertical-align: middle;\n",
       "    }\n",
       "\n",
       "    .dataframe tbody tr th {\n",
       "        vertical-align: top;\n",
       "    }\n",
       "\n",
       "    .dataframe thead th {\n",
       "        text-align: right;\n",
       "    }\n",
       "</style>\n",
       "<table border=\"1\" class=\"dataframe\">\n",
       "  <thead>\n",
       "    <tr style=\"text-align: right;\">\n",
       "      <th></th>\n",
       "      <th>date_string</th>\n",
       "      <th>country_region</th>\n",
       "      <th>country_confirmed</th>\n",
       "      <th>country_death</th>\n",
       "      <th>location</th>\n",
       "      <th>population</th>\n",
       "      <th>continent</th>\n",
       "      <th>date_org</th>\n",
       "      <th>vaccine</th>\n",
       "      <th>total_vaccinations</th>\n",
       "      <th>people_vaccinated</th>\n",
       "      <th>people_fully_vaccinated</th>\n",
       "    </tr>\n",
       "  </thead>\n",
       "  <tbody>\n",
       "    <tr>\n",
       "      <th>0</th>\n",
       "      <td>2020-01-22</td>\n",
       "      <td>Hong Kong</td>\n",
       "      <td>NaN</td>\n",
       "      <td>NaN</td>\n",
       "      <td>Hong Kong</td>\n",
       "      <td>NaN</td>\n",
       "      <td>Asia</td>\n",
       "      <td>NaN</td>\n",
       "      <td>NaN</td>\n",
       "      <td>NaN</td>\n",
       "      <td>NaN</td>\n",
       "      <td>NaN</td>\n",
       "    </tr>\n",
       "    <tr>\n",
       "      <th>1</th>\n",
       "      <td>2020-01-22</td>\n",
       "      <td>Japan</td>\n",
       "      <td>2.0</td>\n",
       "      <td>NaN</td>\n",
       "      <td>Japan</td>\n",
       "      <td>126476458.0</td>\n",
       "      <td>Asia</td>\n",
       "      <td>NaN</td>\n",
       "      <td>NaN</td>\n",
       "      <td>NaN</td>\n",
       "      <td>NaN</td>\n",
       "      <td>NaN</td>\n",
       "    </tr>\n",
       "    <tr>\n",
       "      <th>2</th>\n",
       "      <td>2020-01-22</td>\n",
       "      <td>Macau</td>\n",
       "      <td>1.0</td>\n",
       "      <td>NaN</td>\n",
       "      <td>NaN</td>\n",
       "      <td>NaN</td>\n",
       "      <td>NaN</td>\n",
       "      <td>NaN</td>\n",
       "      <td>NaN</td>\n",
       "      <td>NaN</td>\n",
       "      <td>NaN</td>\n",
       "      <td>NaN</td>\n",
       "    </tr>\n",
       "    <tr>\n",
       "      <th>3</th>\n",
       "      <td>2020-01-22</td>\n",
       "      <td>Mainland China</td>\n",
       "      <td>547.0</td>\n",
       "      <td>17.0</td>\n",
       "      <td>NaN</td>\n",
       "      <td>NaN</td>\n",
       "      <td>NaN</td>\n",
       "      <td>NaN</td>\n",
       "      <td>NaN</td>\n",
       "      <td>NaN</td>\n",
       "      <td>NaN</td>\n",
       "      <td>NaN</td>\n",
       "    </tr>\n",
       "    <tr>\n",
       "      <th>4</th>\n",
       "      <td>2020-01-22</td>\n",
       "      <td>South Korea</td>\n",
       "      <td>1.0</td>\n",
       "      <td>NaN</td>\n",
       "      <td>NaN</td>\n",
       "      <td>NaN</td>\n",
       "      <td>NaN</td>\n",
       "      <td>NaN</td>\n",
       "      <td>NaN</td>\n",
       "      <td>NaN</td>\n",
       "      <td>NaN</td>\n",
       "      <td>NaN</td>\n",
       "    </tr>\n",
       "    <tr>\n",
       "      <th>...</th>\n",
       "      <td>...</td>\n",
       "      <td>...</td>\n",
       "      <td>...</td>\n",
       "      <td>...</td>\n",
       "      <td>...</td>\n",
       "      <td>...</td>\n",
       "      <td>...</td>\n",
       "      <td>...</td>\n",
       "      <td>...</td>\n",
       "      <td>...</td>\n",
       "      <td>...</td>\n",
       "      <td>...</td>\n",
       "    </tr>\n",
       "    <tr>\n",
       "      <th>100884</th>\n",
       "      <td>2021-08-13</td>\n",
       "      <td>Vietnam</td>\n",
       "      <td>255748.0</td>\n",
       "      <td>5088.0</td>\n",
       "      <td>Vietnam</td>\n",
       "      <td>97338583.0</td>\n",
       "      <td>Asia</td>\n",
       "      <td>NaN</td>\n",
       "      <td>NaN</td>\n",
       "      <td>NaN</td>\n",
       "      <td>NaN</td>\n",
       "      <td>NaN</td>\n",
       "    </tr>\n",
       "    <tr>\n",
       "      <th>100885</th>\n",
       "      <td>2021-08-13</td>\n",
       "      <td>West Bank and Gaza</td>\n",
       "      <td>319646.0</td>\n",
       "      <td>3622.0</td>\n",
       "      <td>Palestine</td>\n",
       "      <td>5101416.0</td>\n",
       "      <td>Asia</td>\n",
       "      <td>NaN</td>\n",
       "      <td>NaN</td>\n",
       "      <td>NaN</td>\n",
       "      <td>NaN</td>\n",
       "      <td>NaN</td>\n",
       "    </tr>\n",
       "    <tr>\n",
       "      <th>100886</th>\n",
       "      <td>2021-08-13</td>\n",
       "      <td>Yemen</td>\n",
       "      <td>7256.0</td>\n",
       "      <td>1397.0</td>\n",
       "      <td>Yemen</td>\n",
       "      <td>29825968.0</td>\n",
       "      <td>Asia</td>\n",
       "      <td>NaN</td>\n",
       "      <td>NaN</td>\n",
       "      <td>NaN</td>\n",
       "      <td>NaN</td>\n",
       "      <td>NaN</td>\n",
       "    </tr>\n",
       "    <tr>\n",
       "      <th>100887</th>\n",
       "      <td>2021-08-13</td>\n",
       "      <td>Zambia</td>\n",
       "      <td>201867.0</td>\n",
       "      <td>3515.0</td>\n",
       "      <td>Zambia</td>\n",
       "      <td>18383956.0</td>\n",
       "      <td>Africa</td>\n",
       "      <td>2021-08-13</td>\n",
       "      <td>Oxford/AstraZeneca, Sinopharm/Beijing</td>\n",
       "      <td>518446.0</td>\n",
       "      <td>307471.0</td>\n",
       "      <td>210975.0</td>\n",
       "    </tr>\n",
       "    <tr>\n",
       "      <th>100888</th>\n",
       "      <td>2021-08-13</td>\n",
       "      <td>Zimbabwe</td>\n",
       "      <td>119508.0</td>\n",
       "      <td>4073.0</td>\n",
       "      <td>Zimbabwe</td>\n",
       "      <td>14862927.0</td>\n",
       "      <td>Africa</td>\n",
       "      <td>NaN</td>\n",
       "      <td>NaN</td>\n",
       "      <td>NaN</td>\n",
       "      <td>NaN</td>\n",
       "      <td>NaN</td>\n",
       "    </tr>\n",
       "  </tbody>\n",
       "</table>\n",
       "<p>100889 rows × 12 columns</p>\n",
       "</div>"
      ],
      "text/plain": [
       "       date_string      country_region  country_confirmed  country_death  \\\n",
       "0       2020-01-22           Hong Kong                NaN            NaN   \n",
       "1       2020-01-22               Japan                2.0            NaN   \n",
       "2       2020-01-22               Macau                1.0            NaN   \n",
       "3       2020-01-22      Mainland China              547.0           17.0   \n",
       "4       2020-01-22         South Korea                1.0            NaN   \n",
       "...            ...                 ...                ...            ...   \n",
       "100884  2021-08-13             Vietnam           255748.0         5088.0   \n",
       "100885  2021-08-13  West Bank and Gaza           319646.0         3622.0   \n",
       "100886  2021-08-13               Yemen             7256.0         1397.0   \n",
       "100887  2021-08-13              Zambia           201867.0         3515.0   \n",
       "100888  2021-08-13            Zimbabwe           119508.0         4073.0   \n",
       "\n",
       "         location   population continent    date_org  \\\n",
       "0       Hong Kong          NaN      Asia         NaN   \n",
       "1           Japan  126476458.0      Asia         NaN   \n",
       "2             NaN          NaN       NaN         NaN   \n",
       "3             NaN          NaN       NaN         NaN   \n",
       "4             NaN          NaN       NaN         NaN   \n",
       "...           ...          ...       ...         ...   \n",
       "100884    Vietnam   97338583.0      Asia         NaN   \n",
       "100885  Palestine    5101416.0      Asia         NaN   \n",
       "100886      Yemen   29825968.0      Asia         NaN   \n",
       "100887     Zambia   18383956.0    Africa  2021-08-13   \n",
       "100888   Zimbabwe   14862927.0    Africa         NaN   \n",
       "\n",
       "                                      vaccine  total_vaccinations  \\\n",
       "0                                         NaN                 NaN   \n",
       "1                                         NaN                 NaN   \n",
       "2                                         NaN                 NaN   \n",
       "3                                         NaN                 NaN   \n",
       "4                                         NaN                 NaN   \n",
       "...                                       ...                 ...   \n",
       "100884                                    NaN                 NaN   \n",
       "100885                                    NaN                 NaN   \n",
       "100886                                    NaN                 NaN   \n",
       "100887  Oxford/AstraZeneca, Sinopharm/Beijing            518446.0   \n",
       "100888                                    NaN                 NaN   \n",
       "\n",
       "        people_vaccinated  people_fully_vaccinated  \n",
       "0                     NaN                      NaN  \n",
       "1                     NaN                      NaN  \n",
       "2                     NaN                      NaN  \n",
       "3                     NaN                      NaN  \n",
       "4                     NaN                      NaN  \n",
       "...                   ...                      ...  \n",
       "100884                NaN                      NaN  \n",
       "100885                NaN                      NaN  \n",
       "100886                NaN                      NaN  \n",
       "100887           307471.0                 210975.0  \n",
       "100888                NaN                      NaN  \n",
       "\n",
       "[100889 rows x 12 columns]"
      ]
     },
     "execution_count": 17,
     "metadata": {},
     "output_type": "execute_result"
    }
   ],
   "source": [
    "df_case_death_loc_vac"
   ]
  },
  {
   "cell_type": "markdown",
   "id": "339f2d25",
   "metadata": {},
   "source": [
    "#### Join dim_table"
   ]
  },
  {
   "cell_type": "markdown",
   "id": "2da995ea",
   "metadata": {},
   "source": [
    "### Analysis"
   ]
  },
  {
   "cell_type": "code",
   "execution_count": 18,
   "id": "64a7c2d9",
   "metadata": {},
   "outputs": [],
   "source": [
    "list_vac_brands = df_vac['vaccine'].unique()"
   ]
  },
  {
   "cell_type": "code",
   "execution_count": 19,
   "id": "6cf20a72",
   "metadata": {},
   "outputs": [
    {
     "data": {
      "text/plain": [
       "array(['Oxford/AstraZeneca',\n",
       "       'Johnson&Johnson, Oxford/AstraZeneca, Pfizer/BioNTech, Sinopharm/Beijing',\n",
       "       'Pfizer/BioNTech',\n",
       "       'Oxford/AstraZeneca, Pfizer/BioNTech, Sputnik V', 'Sputnik V',\n",
       "       'Oxford/AstraZeneca, Pfizer/BioNTech',\n",
       "       'Oxford/AstraZeneca, Pfizer/BioNTech, Sinovac, Sputnik V',\n",
       "       'Pfizer/BioNTech, Oxford/AstraZeneca',\n",
       "       'Sinopharm/Beijing, Sinovac',\n",
       "       'Johnson&Johnson, Moderna, Oxford/AstraZeneca, Pfizer/BioNTech',\n",
       "       'Oxford/AstraZeneca, Pfizer/BioNTech, Sinopharm/Beijing, Sinovac, Sputnik V',\n",
       "       'Moderna, Oxford/AstraZeneca, Pfizer/BioNTech',\n",
       "       'Oxford/AstraZeneca, Pfizer/BioNTech, Sinopharm/Beijing, Sputnik V',\n",
       "       'Moderna, Pfizer/BioNTech',\n",
       "       'Oxford/AstraZeneca, Sinopharm/Beijing, Sputnik V',\n",
       "       'Oxford/AstraZeneca, Sinopharm/Beijing',\n",
       "       'Oxford/AstraZeneca, Sinopharm/Beijing, Sinovac, Sputnik V',\n",
       "       'Oxford/AstraZeneca, Pfizer/BioNTech, Sinopharm/Beijing',\n",
       "       'Oxford/AstraZeneca, Sputnik V',\n",
       "       'Moderna, Oxford/AstraZeneca, Sinopharm/Beijing, Sputnik V',\n",
       "       'Oxford/AstraZeneca, Sputnik V, Sinovac',\n",
       "       'Oxford/AstraZeneca, Sinovac, Sputnik V', 'Sinovac',\n",
       "       'Oxford/AstraZeneca, Sinovac',\n",
       "       'Pfizer/BioNTech, Sinopharm/Beijing',\n",
       "       'Pfizer/BioNTech, Sinopharm/Beijing, Sputnik V',\n",
       "       'Oxford/AstraZeneca, Sinopharm/Beijing, Pfizer/BioNTech',\n",
       "       'Moderna, Oxford/AstraZeneca, Pfizer/BioNTech, Sinopharm/Beijing',\n",
       "       'Sinopharm/Beijing, Sputnik V',\n",
       "       'Pfizer/BioNTech, Oxford/AstraZeneca, Sinovac',\n",
       "       'Johnson&Johnson, Pfizer/BioNTech, Oxford/AstraZeneca, Sinovac',\n",
       "       'Johnson&Johnson, Oxford/AstraZeneca',\n",
       "       'Johnson&Johnson, Oxford/AstraZeneca, Moderna, Pfizer/BioNTech',\n",
       "       'Oxford/AstraZeneca, Moderna, Pfizer/BioNTech',\n",
       "       'Sinopharm/Beijing',\n",
       "       'Oxford/AstraZeneca, Sinopharm/Beijing, Sinovac',\n",
       "       'Johnson&Johnson, Oxford/AstraZeneca, Sinopharm/Beijing, Sinovac',\n",
       "       'Covaxin, Oxford/AstraZeneca', 'Pfizer/BioNTech, Sinovac',\n",
       "       'Oxford/AstraZeneca, Pfizer/BioNTech, Sinovac',\n",
       "       'CanSino, Oxford/AstraZeneca, Pfizer/BioNTech, Sinovac',\n",
       "       'Sinopharm/Beijing, Sinopharm/Wuhan, Sinovac',\n",
       "       'CanSino, Sinopharm/Beijing, Sinopharm/Wuhan, Sinovac',\n",
       "       'Johnson&Johnson, Oxford/AstraZeneca, Pfizer/BioNTech, Sinovac, Johnson&Johnson',\n",
       "       'Johnson&Johnson, Oxford/AstraZeneca, Pfizer/BioNTech, Sinovac',\n",
       "       'Johnson&Johnson, Moderna, Oxford/AstraZeneca, Pfizer/BioNTech, Sinovac',\n",
       "       'Covaxin, Oxford/AstraZeneca, Sinopharm/Beijing', 'Abdala',\n",
       "       'Abdala, Soberana02', 'Pfizer/BioNTech, Moderna',\n",
       "       'Pfizer/BioNTech, Oxford/AstraZeneca, Moderna, Johnson&Johnson',\n",
       "       'Johnson&Johnson, Moderna, Pfizer/BioNTech',\n",
       "       'Johnson&Johnson, Oxford/AstraZeneca, Sinopharm/Beijing, Sinovac, Sputnik V',\n",
       "       'Oxford/AstraZeneca, Pfizer/BioNTech, Sinopharm/Beijing, Sinovac',\n",
       "       'Johnson&Johnson, Pfizer/BioNTech', 'Moderna',\n",
       "       'Moderna, Oxford/AstraZeneca',\n",
       "       'Johnson&Johnson, Moderna, Oxford/AstraZeneca, Pfizer/BioNTech, Sputnik V',\n",
       "       'Johnson&Johnson, Moderna, Oxford/AstraZeneca, Sputnik V',\n",
       "       'Moderna, Oxford/AstraZeneca, Pfizer/BioNTech, Sinopharm/Beijing, Sputnik V',\n",
       "       'Johnson&Johnson, Moderna, Oxford/AstraZeneca, Pfizer/BioNTech, Sinopharm/Beijing, Sputnik V',\n",
       "       'Covaxin, Oxford/AstraZeneca, Sputnik V',\n",
       "       'Moderna, Oxford/AstraZeneca, Sinopharm/Beijing, Sinovac',\n",
       "       'Covaxin, Oxford/AstraZeneca, Sinopharm/Beijing, Sputnik V',\n",
       "       'Pfizer/BioNTech, Sinopharm/Beijing, Sputnik V, Oxford/AstraZeneca',\n",
       "       'QazVac, Sputnik V', 'QazVac, Sinopharm/HayatVax, Sputnik V',\n",
       "       'Johnson&Johnson, Oxford/AstraZeneca, Pfizer/BioNTech, Sinopharm/Beijing, Sinovac, Sputnik V',\n",
       "       'Johnson&Johnson, Oxford/AstraZeneca, Pfizer/BioNTech',\n",
       "       'Johnson&Johnson, Moderna, Oxford/AstraZeneca, Pfizer/BioNTech, Sinovac, Sputnik V',\n",
       "       'Johnson&Johnson, Moderna, Oxford/AstraZeneca, Pfizer/BioNTech, Sinopharm/Beijing, Sinovac, Sputnik V',\n",
       "       'Sinopharm/Beijing, Pfizer/BioNTech',\n",
       "       'Oxford/AstraZeneca, Johnson&Johnson',\n",
       "       'Oxford/AstraZeneca, Pfizer/BioNTech, Sinovac, Sputnik V, CanSino',\n",
       "       'Johnson&Johnson, Oxford/AstraZeneca, Pfizer/BioNTech, Sinovac, Sputnik V, CanSino',\n",
       "       'CanSino, Sinopharm/Beijing, Sputnik V',\n",
       "       'CanSino, Sinovac, Sinopharm/Beijing, Sputnik V',\n",
       "       'CanSino, Oxford/AstraZeneca, Sinovac, Sinopharm/Beijing, Sputnik V',\n",
       "       'Moderna, Oxford/AstraZeneca, Pfizer/BioNTech, Sputnik V',\n",
       "       'Sinovac, Sputnik V', 'Sinopharm/Beijing, Sinovac, Sputnik V',\n",
       "       'Covaxin, Oxford/AstraZeneca, Sinopharm/Beijing, Sinovac, Sputnik V',\n",
       "       'Moderna, Oxford/AstraZeneca, Pfizer/BioNTech, Sinovac, Sputnik V',\n",
       "       'Sputnik V, EpiVacCorona', 'Pfizer/BioNTech, Sputnik V',\n",
       "       'Moderna, Pfizer/BioNTech, Sinovac',\n",
       "       'Oxford/AstraZeneca, RBD-Dimer, Sputnik V', 'Johnson&Johnson',\n",
       "       'Oxford/AstraZeneca, Pfizer/BioNTech, Johnson&Johnson',\n",
       "       'Oxford/AstraZeneca, Pfizer/BioNTech, Johnson&Johnson, Moderna',\n",
       "       'Oxford/AstraZeneca, Sinopharm/Beijing, Sputnik V, Pfizer/BioNTech',\n",
       "       'Oxford/AstraZeneca, Sinopharm/Beijing, Sputnik V, Pfizer/BioNTech, Moderna',\n",
       "       'Johnson&Johnson, Oxford/AstraZeneca, Pfizer/BioNTech, Sinopharm/Beijing, Sinovac',\n",
       "       'Moderna, Oxford/AstraZeneca, Sinovac',\n",
       "       'Pfizer/BioNTech, Sinovac, Sputnik V',\n",
       "       'Johnson&Johnson, Oxford/AstraZeneca, Pfizer/BioNTech, Sinovac, Sputnik V',\n",
       "       'EpiVacCorona, Oxford/AstraZeneca, Sinopharm/Beijing, Sputnik V',\n",
       "       'Oxford/AstraZeneca, Sinovac, Pfizer/BioNTech',\n",
       "       'Moderna, Oxford/AstraZeneca, Sinovac, Pfizer/BioNTech',\n",
       "       'Pfizer/BioNTech, Sinopharm/Beijing, Sinopharm/Wuhan',\n",
       "       'Oxford/AstraZeneca, Pfizer/BioNTech, Sinopharm/Beijing, Sinopharm/Wuhan, Sputnik V',\n",
       "       'Sinovac, Pfizer/BioNTech',\n",
       "       'Sinovac, Pfizer/BioNTech, Oxford/AstraZeneca',\n",
       "       'Oxford/AstraZeneca, RBD-Dimer'], dtype=object)"
      ]
     },
     "execution_count": 19,
     "metadata": {},
     "output_type": "execute_result"
    }
   ],
   "source": [
    "list_vac_brands"
   ]
  },
  {
   "cell_type": "markdown",
   "id": "f5adc867",
   "metadata": {},
   "source": [
    "### Plotting"
   ]
  },
  {
   "cell_type": "code",
   "execution_count": 82,
   "id": "dc01ef2a",
   "metadata": {},
   "outputs": [],
   "source": [
    "country = 'United Kingdom'\n",
    "# country = 'US'"
   ]
  },
  {
   "cell_type": "code",
   "execution_count": 83,
   "id": "10d3f373",
   "metadata": {},
   "outputs": [],
   "source": [
    "mat_us = df_case_death_loc_vac['country_region'] == country\n",
    "df_pd = df_case_death_loc_vac[mat_us]"
   ]
  },
  {
   "cell_type": "code",
   "execution_count": 84,
   "id": "982a4fe3",
   "metadata": {},
   "outputs": [],
   "source": [
    "df_pd['date_datetime'] = df_pd['date_string'].apply(lambda x: datetime.strptime(x, '%Y-%m-%d'))"
   ]
  },
  {
   "cell_type": "code",
   "execution_count": 85,
   "id": "quiet-evolution",
   "metadata": {},
   "outputs": [],
   "source": [
    "# Calculate daily cases by using diff function\n",
    "df_pd['daily_country_confirmed'] = df_pd.sort_values('date_datetime')['country_confirmed'].diff()\n",
    "df_pd['daily_country_confirmed'] = df_pd['daily_country_confirmed'].fillna(0)"
   ]
  },
  {
   "cell_type": "code",
   "execution_count": 86,
   "id": "approved-prospect",
   "metadata": {},
   "outputs": [],
   "source": [
    "alpha_val=0.2\n",
    "df_pd['daily_confirmed_confirmed_mean'] = df_pd['daily_country_confirmed'].ewm(alpha=alpha_val).mean()"
   ]
  },
  {
   "cell_type": "code",
   "execution_count": 87,
   "id": "complex-banks",
   "metadata": {},
   "outputs": [],
   "source": [
    "mat_case_outlier = (abs(df_pd['daily_country_confirmed']) > abs(2*df_pd['daily_confirmed_confirmed_mean'])) & (abs(df_pd['daily_country_confirmed']) > 10000)\n",
    "df_pd_do = df_pd[~mat_case_outlier]\n",
    "# df_pd[mat_outlier]"
   ]
  },
  {
   "cell_type": "code",
   "execution_count": 88,
   "id": "302b3750",
   "metadata": {},
   "outputs": [],
   "source": [
    "# Calculate daily deaths by using diff function\n",
    "df_pd['daily_country_death'] = df_pd.sort_values('date_datetime')['country_death'].diff()\n",
    "df_pd['daily_country_death'] = df_pd['daily_country_death'].fillna(0)"
   ]
  },
  {
   "cell_type": "code",
   "execution_count": 89,
   "id": "390b54cc",
   "metadata": {},
   "outputs": [],
   "source": [
    "alpha_val=0.2\n",
    "df_pd['daily_confirmed_death_mean'] = df_pd['daily_country_death'].ewm(alpha=alpha_val).mean()"
   ]
  },
  {
   "cell_type": "code",
   "execution_count": 90,
   "id": "5d4fb4a3",
   "metadata": {},
   "outputs": [],
   "source": [
    "mat_outlier = (abs(df_pd['daily_country_death']) > abs(2*df_pd['daily_confirmed_death_mean'])) & (abs(df_pd['daily_country_death']) > 10000)\n",
    "df_pd_do = df_pd[~mat_outlier]\n",
    "# df_pd[mat_outlier]"
   ]
  },
  {
   "cell_type": "code",
   "execution_count": 91,
   "id": "66382e5c",
   "metadata": {},
   "outputs": [],
   "source": [
    "df_pd_do['adjusted_people_vaccinated'] = (df_pd_do['people_fully_vaccinated'] + \n",
    "                                          0.5*(df_pd_do['people_vaccinated'] - \n",
    "                                               df_pd_do['people_fully_vaccinated']))"
   ]
  },
  {
   "cell_type": "code",
   "execution_count": 92,
   "id": "0d25259f",
   "metadata": {},
   "outputs": [
    {
     "data": {
      "text/plain": [
       "<AxesSubplot:xlabel='date_datetime'>"
      ]
     },
     "execution_count": 92,
     "metadata": {},
     "output_type": "execute_result"
    },
    {
     "data": {
      "image/png": "[encoded data removed]",
      "text/plain": [
       "<Figure size 432x288 with 3 Axes>"
      ]
     },
     "metadata": {
      "needs_background": "light"
     },
     "output_type": "display_data"
    }
   ],
   "source": [
    "ax1 = df_pd_do.plot(x='date_datetime', y='daily_country_death', logy=False)\n",
    "\n",
    "ax2 = ax1.twinx()\n",
    "df_pd_do.plot(ax=ax2, x='date_datetime', y='daily_country_confirmed', c='orange')\n",
    "\n",
    "ax3 = ax1.twinx()\n",
    "ax3.spines['right'].set_position(('axes', 1.0))\n",
    "df_pd_do.plot(ax=ax3, x='date_datetime', y='adjusted_people_vaccinated', c='orange')"
   ]
  },
  {
   "cell_type": "code",
   "execution_count": 93,
   "id": "natural-albuquerque",
   "metadata": {},
   "outputs": [
    {
     "data": {
      "text/html": [
       "<div>\n",
       "<style scoped>\n",
       "    .dataframe tbody tr th:only-of-type {\n",
       "        vertical-align: middle;\n",
       "    }\n",
       "\n",
       "    .dataframe tbody tr th {\n",
       "        vertical-align: top;\n",
       "    }\n",
       "\n",
       "    .dataframe thead th {\n",
       "        text-align: right;\n",
       "    }\n",
       "</style>\n",
       "<table border=\"1\" class=\"dataframe\">\n",
       "  <thead>\n",
       "    <tr style=\"text-align: right;\">\n",
       "      <th></th>\n",
       "      <th>date_string</th>\n",
       "      <th>country_region</th>\n",
       "      <th>country_confirmed</th>\n",
       "      <th>country_death</th>\n",
       "      <th>location</th>\n",
       "      <th>population</th>\n",
       "      <th>continent</th>\n",
       "      <th>date_org</th>\n",
       "      <th>vaccine</th>\n",
       "      <th>total_vaccinations</th>\n",
       "      <th>people_vaccinated</th>\n",
       "      <th>people_fully_vaccinated</th>\n",
       "      <th>date_datetime</th>\n",
       "      <th>daily_country_confirmed</th>\n",
       "      <th>daily_confirmed_confirmed_mean</th>\n",
       "      <th>daily_country_death</th>\n",
       "      <th>daily_confirmed_death_mean</th>\n",
       "      <th>adjusted_people_vaccinated</th>\n",
       "    </tr>\n",
       "  </thead>\n",
       "  <tbody>\n",
       "    <tr>\n",
       "      <th>2200</th>\n",
       "      <td>2020-03-11</td>\n",
       "      <td>United Kingdom</td>\n",
       "      <td>459.0</td>\n",
       "      <td>8.0</td>\n",
       "      <td>United Kingdom</td>\n",
       "      <td>67886004.0</td>\n",
       "      <td>Europe</td>\n",
       "      <td>NaN</td>\n",
       "      <td>NaN</td>\n",
       "      <td>NaN</td>\n",
       "      <td>NaN</td>\n",
       "      <td>NaN</td>\n",
       "      <td>2020-03-11</td>\n",
       "      <td>0.0</td>\n",
       "      <td>0.000000</td>\n",
       "      <td>0.0</td>\n",
       "      <td>0.000000</td>\n",
       "      <td>NaN</td>\n",
       "    </tr>\n",
       "    <tr>\n",
       "      <th>2318</th>\n",
       "      <td>2020-03-12</td>\n",
       "      <td>United Kingdom</td>\n",
       "      <td>459.0</td>\n",
       "      <td>8.0</td>\n",
       "      <td>United Kingdom</td>\n",
       "      <td>67886004.0</td>\n",
       "      <td>Europe</td>\n",
       "      <td>NaN</td>\n",
       "      <td>NaN</td>\n",
       "      <td>NaN</td>\n",
       "      <td>NaN</td>\n",
       "      <td>NaN</td>\n",
       "      <td>2020-03-12</td>\n",
       "      <td>0.0</td>\n",
       "      <td>0.000000</td>\n",
       "      <td>0.0</td>\n",
       "      <td>0.000000</td>\n",
       "      <td>NaN</td>\n",
       "    </tr>\n",
       "    <tr>\n",
       "      <th>2443</th>\n",
       "      <td>2020-03-13</td>\n",
       "      <td>United Kingdom</td>\n",
       "      <td>801.0</td>\n",
       "      <td>8.0</td>\n",
       "      <td>United Kingdom</td>\n",
       "      <td>67886004.0</td>\n",
       "      <td>Europe</td>\n",
       "      <td>NaN</td>\n",
       "      <td>NaN</td>\n",
       "      <td>NaN</td>\n",
       "      <td>NaN</td>\n",
       "      <td>NaN</td>\n",
       "      <td>2020-03-13</td>\n",
       "      <td>342.0</td>\n",
       "      <td>140.163934</td>\n",
       "      <td>0.0</td>\n",
       "      <td>0.000000</td>\n",
       "      <td>NaN</td>\n",
       "    </tr>\n",
       "    <tr>\n",
       "      <th>2584</th>\n",
       "      <td>2020-03-14</td>\n",
       "      <td>United Kingdom</td>\n",
       "      <td>1143.0</td>\n",
       "      <td>21.0</td>\n",
       "      <td>United Kingdom</td>\n",
       "      <td>67886004.0</td>\n",
       "      <td>Europe</td>\n",
       "      <td>NaN</td>\n",
       "      <td>NaN</td>\n",
       "      <td>NaN</td>\n",
       "      <td>NaN</td>\n",
       "      <td>NaN</td>\n",
       "      <td>2020-03-14</td>\n",
       "      <td>342.0</td>\n",
       "      <td>208.536585</td>\n",
       "      <td>13.0</td>\n",
       "      <td>4.403794</td>\n",
       "      <td>NaN</td>\n",
       "    </tr>\n",
       "    <tr>\n",
       "      <th>2730</th>\n",
       "      <td>2020-03-15</td>\n",
       "      <td>United Kingdom</td>\n",
       "      <td>1144.0</td>\n",
       "      <td>21.0</td>\n",
       "      <td>United Kingdom</td>\n",
       "      <td>67886004.0</td>\n",
       "      <td>Europe</td>\n",
       "      <td>NaN</td>\n",
       "      <td>NaN</td>\n",
       "      <td>NaN</td>\n",
       "      <td>NaN</td>\n",
       "      <td>NaN</td>\n",
       "      <td>2020-03-15</td>\n",
       "      <td>1.0</td>\n",
       "      <td>146.799143</td>\n",
       "      <td>0.0</td>\n",
       "      <td>3.093765</td>\n",
       "      <td>NaN</td>\n",
       "    </tr>\n",
       "    <tr>\n",
       "      <th>...</th>\n",
       "      <td>...</td>\n",
       "      <td>...</td>\n",
       "      <td>...</td>\n",
       "      <td>...</td>\n",
       "      <td>...</td>\n",
       "      <td>...</td>\n",
       "      <td>...</td>\n",
       "      <td>...</td>\n",
       "      <td>...</td>\n",
       "      <td>...</td>\n",
       "      <td>...</td>\n",
       "      <td>...</td>\n",
       "      <td>...</td>\n",
       "      <td>...</td>\n",
       "      <td>...</td>\n",
       "      <td>...</td>\n",
       "      <td>...</td>\n",
       "      <td>...</td>\n",
       "    </tr>\n",
       "    <tr>\n",
       "      <th>100094</th>\n",
       "      <td>2021-08-09</td>\n",
       "      <td>United Kingdom</td>\n",
       "      <td>6123173.0</td>\n",
       "      <td>130667.0</td>\n",
       "      <td>United Kingdom</td>\n",
       "      <td>67886004.0</td>\n",
       "      <td>Europe</td>\n",
       "      <td>2021-08-09</td>\n",
       "      <td>Moderna, Oxford/AstraZeneca, Pfizer/BioNTech</td>\n",
       "      <td>86780455.0</td>\n",
       "      <td>47091889.0</td>\n",
       "      <td>39688566.0</td>\n",
       "      <td>2021-08-09</td>\n",
       "      <td>25056.0</td>\n",
       "      <td>27501.566077</td>\n",
       "      <td>37.0</td>\n",
       "      <td>73.399408</td>\n",
       "      <td>43390227.5</td>\n",
       "    </tr>\n",
       "    <tr>\n",
       "      <th>100290</th>\n",
       "      <td>2021-08-10</td>\n",
       "      <td>United Kingdom</td>\n",
       "      <td>6146642.0</td>\n",
       "      <td>130813.0</td>\n",
       "      <td>United Kingdom</td>\n",
       "      <td>67886004.0</td>\n",
       "      <td>Europe</td>\n",
       "      <td>2021-08-10</td>\n",
       "      <td>Moderna, Oxford/AstraZeneca, Pfizer/BioNTech</td>\n",
       "      <td>86969109.0</td>\n",
       "      <td>47129400.0</td>\n",
       "      <td>39839709.0</td>\n",
       "      <td>2021-08-10</td>\n",
       "      <td>23469.0</td>\n",
       "      <td>26695.052862</td>\n",
       "      <td>146.0</td>\n",
       "      <td>87.919527</td>\n",
       "      <td>43484554.5</td>\n",
       "    </tr>\n",
       "    <tr>\n",
       "      <th>100486</th>\n",
       "      <td>2021-08-11</td>\n",
       "      <td>United Kingdom</td>\n",
       "      <td>6176023.0</td>\n",
       "      <td>130921.0</td>\n",
       "      <td>United Kingdom</td>\n",
       "      <td>67886004.0</td>\n",
       "      <td>Europe</td>\n",
       "      <td>2021-08-11</td>\n",
       "      <td>Moderna, Oxford/AstraZeneca, Pfizer/BioNTech</td>\n",
       "      <td>87184438.0</td>\n",
       "      <td>47170968.0</td>\n",
       "      <td>40013470.0</td>\n",
       "      <td>2021-08-11</td>\n",
       "      <td>29381.0</td>\n",
       "      <td>27232.242290</td>\n",
       "      <td>108.0</td>\n",
       "      <td>91.935621</td>\n",
       "      <td>43592219.0</td>\n",
       "    </tr>\n",
       "    <tr>\n",
       "      <th>100682</th>\n",
       "      <td>2021-08-12</td>\n",
       "      <td>United Kingdom</td>\n",
       "      <td>6208908.0</td>\n",
       "      <td>131016.0</td>\n",
       "      <td>United Kingdom</td>\n",
       "      <td>67886004.0</td>\n",
       "      <td>Europe</td>\n",
       "      <td>2021-08-12</td>\n",
       "      <td>Moderna, Oxford/AstraZeneca, Pfizer/BioNTech</td>\n",
       "      <td>87421381.0</td>\n",
       "      <td>47215352.0</td>\n",
       "      <td>40206029.0</td>\n",
       "      <td>2021-08-12</td>\n",
       "      <td>32885.0</td>\n",
       "      <td>28362.793832</td>\n",
       "      <td>95.0</td>\n",
       "      <td>92.548497</td>\n",
       "      <td>43710690.5</td>\n",
       "    </tr>\n",
       "    <tr>\n",
       "      <th>100878</th>\n",
       "      <td>2021-08-13</td>\n",
       "      <td>United Kingdom</td>\n",
       "      <td>6241447.0</td>\n",
       "      <td>131116.0</td>\n",
       "      <td>United Kingdom</td>\n",
       "      <td>67886004.0</td>\n",
       "      <td>Europe</td>\n",
       "      <td>NaN</td>\n",
       "      <td>NaN</td>\n",
       "      <td>NaN</td>\n",
       "      <td>NaN</td>\n",
       "      <td>NaN</td>\n",
       "      <td>2021-08-13</td>\n",
       "      <td>32539.0</td>\n",
       "      <td>29198.035065</td>\n",
       "      <td>100.0</td>\n",
       "      <td>94.038798</td>\n",
       "      <td>NaN</td>\n",
       "    </tr>\n",
       "  </tbody>\n",
       "</table>\n",
       "<p>521 rows × 18 columns</p>\n",
       "</div>"
      ],
      "text/plain": [
       "       date_string  country_region  country_confirmed  country_death  \\\n",
       "2200    2020-03-11  United Kingdom              459.0            8.0   \n",
       "2318    2020-03-12  United Kingdom              459.0            8.0   \n",
       "2443    2020-03-13  United Kingdom              801.0            8.0   \n",
       "2584    2020-03-14  United Kingdom             1143.0           21.0   \n",
       "2730    2020-03-15  United Kingdom             1144.0           21.0   \n",
       "...            ...             ...                ...            ...   \n",
       "100094  2021-08-09  United Kingdom          6123173.0       130667.0   \n",
       "100290  2021-08-10  United Kingdom          6146642.0       130813.0   \n",
       "100486  2021-08-11  United Kingdom          6176023.0       130921.0   \n",
       "100682  2021-08-12  United Kingdom          6208908.0       131016.0   \n",
       "100878  2021-08-13  United Kingdom          6241447.0       131116.0   \n",
       "\n",
       "              location  population continent    date_org  \\\n",
       "2200    United Kingdom  67886004.0    Europe         NaN   \n",
       "2318    United Kingdom  67886004.0    Europe         NaN   \n",
       "2443    United Kingdom  67886004.0    Europe         NaN   \n",
       "2584    United Kingdom  67886004.0    Europe         NaN   \n",
       "2730    United Kingdom  67886004.0    Europe         NaN   \n",
       "...                ...         ...       ...         ...   \n",
       "100094  United Kingdom  67886004.0    Europe  2021-08-09   \n",
       "100290  United Kingdom  67886004.0    Europe  2021-08-10   \n",
       "100486  United Kingdom  67886004.0    Europe  2021-08-11   \n",
       "100682  United Kingdom  67886004.0    Europe  2021-08-12   \n",
       "100878  United Kingdom  67886004.0    Europe         NaN   \n",
       "\n",
       "                                             vaccine  total_vaccinations  \\\n",
       "2200                                             NaN                 NaN   \n",
       "2318                                             NaN                 NaN   \n",
       "2443                                             NaN                 NaN   \n",
       "2584                                             NaN                 NaN   \n",
       "2730                                             NaN                 NaN   \n",
       "...                                              ...                 ...   \n",
       "100094  Moderna, Oxford/AstraZeneca, Pfizer/BioNTech          86780455.0   \n",
       "100290  Moderna, Oxford/AstraZeneca, Pfizer/BioNTech          86969109.0   \n",
       "100486  Moderna, Oxford/AstraZeneca, Pfizer/BioNTech          87184438.0   \n",
       "100682  Moderna, Oxford/AstraZeneca, Pfizer/BioNTech          87421381.0   \n",
       "100878                                           NaN                 NaN   \n",
       "\n",
       "        people_vaccinated  people_fully_vaccinated date_datetime  \\\n",
       "2200                  NaN                      NaN    2020-03-11   \n",
       "2318                  NaN                      NaN    2020-03-12   \n",
       "2443                  NaN                      NaN    2020-03-13   \n",
       "2584                  NaN                      NaN    2020-03-14   \n",
       "2730                  NaN                      NaN    2020-03-15   \n",
       "...                   ...                      ...           ...   \n",
       "100094         47091889.0               39688566.0    2021-08-09   \n",
       "100290         47129400.0               39839709.0    2021-08-10   \n",
       "100486         47170968.0               40013470.0    2021-08-11   \n",
       "100682         47215352.0               40206029.0    2021-08-12   \n",
       "100878                NaN                      NaN    2021-08-13   \n",
       "\n",
       "        daily_country_confirmed  daily_confirmed_confirmed_mean  \\\n",
       "2200                        0.0                        0.000000   \n",
       "2318                        0.0                        0.000000   \n",
       "2443                      342.0                      140.163934   \n",
       "2584                      342.0                      208.536585   \n",
       "2730                        1.0                      146.799143   \n",
       "...                         ...                             ...   \n",
       "100094                  25056.0                    27501.566077   \n",
       "100290                  23469.0                    26695.052862   \n",
       "100486                  29381.0                    27232.242290   \n",
       "100682                  32885.0                    28362.793832   \n",
       "100878                  32539.0                    29198.035065   \n",
       "\n",
       "        daily_country_death  daily_confirmed_death_mean  \\\n",
       "2200                    0.0                    0.000000   \n",
       "2318                    0.0                    0.000000   \n",
       "2443                    0.0                    0.000000   \n",
       "2584                   13.0                    4.403794   \n",
       "2730                    0.0                    3.093765   \n",
       "...                     ...                         ...   \n",
       "100094                 37.0                   73.399408   \n",
       "100290                146.0                   87.919527   \n",
       "100486                108.0                   91.935621   \n",
       "100682                 95.0                   92.548497   \n",
       "100878                100.0                   94.038798   \n",
       "\n",
       "        adjusted_people_vaccinated  \n",
       "2200                           NaN  \n",
       "2318                           NaN  \n",
       "2443                           NaN  \n",
       "2584                           NaN  \n",
       "2730                           NaN  \n",
       "...                            ...  \n",
       "100094                  43390227.5  \n",
       "100290                  43484554.5  \n",
       "100486                  43592219.0  \n",
       "100682                  43710690.5  \n",
       "100878                         NaN  \n",
       "\n",
       "[521 rows x 18 columns]"
      ]
     },
     "execution_count": 93,
     "metadata": {},
     "output_type": "execute_result"
    }
   ],
   "source": [
    "df_pd_do"
   ]
  },
  {
   "cell_type": "markdown",
   "id": "16676adb",
   "metadata": {},
   "source": [
    "### Average deaths per 100K in the past week vs total vaccination (adjusted vaccination rate)"
   ]
  },
  {
   "cell_type": "code",
   "execution_count": 94,
   "id": "portuguese-rocket",
   "metadata": {},
   "outputs": [
    {
     "data": {
      "text/html": [
       "<div>\n",
       "<style scoped>\n",
       "    .dataframe tbody tr th:only-of-type {\n",
       "        vertical-align: middle;\n",
       "    }\n",
       "\n",
       "    .dataframe tbody tr th {\n",
       "        vertical-align: top;\n",
       "    }\n",
       "\n",
       "    .dataframe thead th {\n",
       "        text-align: right;\n",
       "    }\n",
       "</style>\n",
       "<table border=\"1\" class=\"dataframe\">\n",
       "  <thead>\n",
       "    <tr style=\"text-align: right;\">\n",
       "      <th></th>\n",
       "      <th>date_string</th>\n",
       "      <th>country_region</th>\n",
       "      <th>country_confirmed</th>\n",
       "      <th>country_death</th>\n",
       "      <th>location</th>\n",
       "      <th>population</th>\n",
       "      <th>continent</th>\n",
       "      <th>date_org</th>\n",
       "      <th>vaccine</th>\n",
       "      <th>total_vaccinations</th>\n",
       "      <th>people_vaccinated</th>\n",
       "      <th>people_fully_vaccinated</th>\n",
       "      <th>date_datetime</th>\n",
       "      <th>daily_country_confirmed</th>\n",
       "      <th>daily_confirmed_confirmed_mean</th>\n",
       "      <th>daily_country_death</th>\n",
       "      <th>daily_confirmed_death_mean</th>\n",
       "    </tr>\n",
       "  </thead>\n",
       "  <tbody>\n",
       "    <tr>\n",
       "      <th>2200</th>\n",
       "      <td>2020-03-11</td>\n",
       "      <td>United Kingdom</td>\n",
       "      <td>459.0</td>\n",
       "      <td>8.0</td>\n",
       "      <td>United Kingdom</td>\n",
       "      <td>67886004.0</td>\n",
       "      <td>Europe</td>\n",
       "      <td>NaN</td>\n",
       "      <td>NaN</td>\n",
       "      <td>NaN</td>\n",
       "      <td>NaN</td>\n",
       "      <td>NaN</td>\n",
       "      <td>2020-03-11</td>\n",
       "      <td>0.0</td>\n",
       "      <td>0.000000</td>\n",
       "      <td>0.0</td>\n",
       "      <td>0.000000</td>\n",
       "    </tr>\n",
       "    <tr>\n",
       "      <th>2318</th>\n",
       "      <td>2020-03-12</td>\n",
       "      <td>United Kingdom</td>\n",
       "      <td>459.0</td>\n",
       "      <td>8.0</td>\n",
       "      <td>United Kingdom</td>\n",
       "      <td>67886004.0</td>\n",
       "      <td>Europe</td>\n",
       "      <td>NaN</td>\n",
       "      <td>NaN</td>\n",
       "      <td>NaN</td>\n",
       "      <td>NaN</td>\n",
       "      <td>NaN</td>\n",
       "      <td>2020-03-12</td>\n",
       "      <td>0.0</td>\n",
       "      <td>0.000000</td>\n",
       "      <td>0.0</td>\n",
       "      <td>0.000000</td>\n",
       "    </tr>\n",
       "    <tr>\n",
       "      <th>2443</th>\n",
       "      <td>2020-03-13</td>\n",
       "      <td>United Kingdom</td>\n",
       "      <td>801.0</td>\n",
       "      <td>8.0</td>\n",
       "      <td>United Kingdom</td>\n",
       "      <td>67886004.0</td>\n",
       "      <td>Europe</td>\n",
       "      <td>NaN</td>\n",
       "      <td>NaN</td>\n",
       "      <td>NaN</td>\n",
       "      <td>NaN</td>\n",
       "      <td>NaN</td>\n",
       "      <td>2020-03-13</td>\n",
       "      <td>342.0</td>\n",
       "      <td>140.163934</td>\n",
       "      <td>0.0</td>\n",
       "      <td>0.000000</td>\n",
       "    </tr>\n",
       "    <tr>\n",
       "      <th>2584</th>\n",
       "      <td>2020-03-14</td>\n",
       "      <td>United Kingdom</td>\n",
       "      <td>1143.0</td>\n",
       "      <td>21.0</td>\n",
       "      <td>United Kingdom</td>\n",
       "      <td>67886004.0</td>\n",
       "      <td>Europe</td>\n",
       "      <td>NaN</td>\n",
       "      <td>NaN</td>\n",
       "      <td>NaN</td>\n",
       "      <td>NaN</td>\n",
       "      <td>NaN</td>\n",
       "      <td>2020-03-14</td>\n",
       "      <td>342.0</td>\n",
       "      <td>208.536585</td>\n",
       "      <td>13.0</td>\n",
       "      <td>4.403794</td>\n",
       "    </tr>\n",
       "    <tr>\n",
       "      <th>2730</th>\n",
       "      <td>2020-03-15</td>\n",
       "      <td>United Kingdom</td>\n",
       "      <td>1144.0</td>\n",
       "      <td>21.0</td>\n",
       "      <td>United Kingdom</td>\n",
       "      <td>67886004.0</td>\n",
       "      <td>Europe</td>\n",
       "      <td>NaN</td>\n",
       "      <td>NaN</td>\n",
       "      <td>NaN</td>\n",
       "      <td>NaN</td>\n",
       "      <td>NaN</td>\n",
       "      <td>2020-03-15</td>\n",
       "      <td>1.0</td>\n",
       "      <td>146.799143</td>\n",
       "      <td>0.0</td>\n",
       "      <td>3.093765</td>\n",
       "    </tr>\n",
       "    <tr>\n",
       "      <th>...</th>\n",
       "      <td>...</td>\n",
       "      <td>...</td>\n",
       "      <td>...</td>\n",
       "      <td>...</td>\n",
       "      <td>...</td>\n",
       "      <td>...</td>\n",
       "      <td>...</td>\n",
       "      <td>...</td>\n",
       "      <td>...</td>\n",
       "      <td>...</td>\n",
       "      <td>...</td>\n",
       "      <td>...</td>\n",
       "      <td>...</td>\n",
       "      <td>...</td>\n",
       "      <td>...</td>\n",
       "      <td>...</td>\n",
       "      <td>...</td>\n",
       "    </tr>\n",
       "    <tr>\n",
       "      <th>100094</th>\n",
       "      <td>2021-08-09</td>\n",
       "      <td>United Kingdom</td>\n",
       "      <td>6123173.0</td>\n",
       "      <td>130667.0</td>\n",
       "      <td>United Kingdom</td>\n",
       "      <td>67886004.0</td>\n",
       "      <td>Europe</td>\n",
       "      <td>2021-08-09</td>\n",
       "      <td>Moderna, Oxford/AstraZeneca, Pfizer/BioNTech</td>\n",
       "      <td>86780455.0</td>\n",
       "      <td>47091889.0</td>\n",
       "      <td>39688566.0</td>\n",
       "      <td>2021-08-09</td>\n",
       "      <td>25056.0</td>\n",
       "      <td>27501.566077</td>\n",
       "      <td>37.0</td>\n",
       "      <td>73.399408</td>\n",
       "    </tr>\n",
       "    <tr>\n",
       "      <th>100290</th>\n",
       "      <td>2021-08-10</td>\n",
       "      <td>United Kingdom</td>\n",
       "      <td>6146642.0</td>\n",
       "      <td>130813.0</td>\n",
       "      <td>United Kingdom</td>\n",
       "      <td>67886004.0</td>\n",
       "      <td>Europe</td>\n",
       "      <td>2021-08-10</td>\n",
       "      <td>Moderna, Oxford/AstraZeneca, Pfizer/BioNTech</td>\n",
       "      <td>86969109.0</td>\n",
       "      <td>47129400.0</td>\n",
       "      <td>39839709.0</td>\n",
       "      <td>2021-08-10</td>\n",
       "      <td>23469.0</td>\n",
       "      <td>26695.052862</td>\n",
       "      <td>146.0</td>\n",
       "      <td>87.919527</td>\n",
       "    </tr>\n",
       "    <tr>\n",
       "      <th>100486</th>\n",
       "      <td>2021-08-11</td>\n",
       "      <td>United Kingdom</td>\n",
       "      <td>6176023.0</td>\n",
       "      <td>130921.0</td>\n",
       "      <td>United Kingdom</td>\n",
       "      <td>67886004.0</td>\n",
       "      <td>Europe</td>\n",
       "      <td>2021-08-11</td>\n",
       "      <td>Moderna, Oxford/AstraZeneca, Pfizer/BioNTech</td>\n",
       "      <td>87184438.0</td>\n",
       "      <td>47170968.0</td>\n",
       "      <td>40013470.0</td>\n",
       "      <td>2021-08-11</td>\n",
       "      <td>29381.0</td>\n",
       "      <td>27232.242290</td>\n",
       "      <td>108.0</td>\n",
       "      <td>91.935621</td>\n",
       "    </tr>\n",
       "    <tr>\n",
       "      <th>100682</th>\n",
       "      <td>2021-08-12</td>\n",
       "      <td>United Kingdom</td>\n",
       "      <td>6208908.0</td>\n",
       "      <td>131016.0</td>\n",
       "      <td>United Kingdom</td>\n",
       "      <td>67886004.0</td>\n",
       "      <td>Europe</td>\n",
       "      <td>2021-08-12</td>\n",
       "      <td>Moderna, Oxford/AstraZeneca, Pfizer/BioNTech</td>\n",
       "      <td>87421381.0</td>\n",
       "      <td>47215352.0</td>\n",
       "      <td>40206029.0</td>\n",
       "      <td>2021-08-12</td>\n",
       "      <td>32885.0</td>\n",
       "      <td>28362.793832</td>\n",
       "      <td>95.0</td>\n",
       "      <td>92.548497</td>\n",
       "    </tr>\n",
       "    <tr>\n",
       "      <th>100878</th>\n",
       "      <td>2021-08-13</td>\n",
       "      <td>United Kingdom</td>\n",
       "      <td>6241447.0</td>\n",
       "      <td>131116.0</td>\n",
       "      <td>United Kingdom</td>\n",
       "      <td>67886004.0</td>\n",
       "      <td>Europe</td>\n",
       "      <td>NaN</td>\n",
       "      <td>NaN</td>\n",
       "      <td>NaN</td>\n",
       "      <td>NaN</td>\n",
       "      <td>NaN</td>\n",
       "      <td>2021-08-13</td>\n",
       "      <td>32539.0</td>\n",
       "      <td>29198.035065</td>\n",
       "      <td>100.0</td>\n",
       "      <td>94.038798</td>\n",
       "    </tr>\n",
       "  </tbody>\n",
       "</table>\n",
       "<p>521 rows × 17 columns</p>\n",
       "</div>"
      ],
      "text/plain": [
       "       date_string  country_region  country_confirmed  country_death  \\\n",
       "2200    2020-03-11  United Kingdom              459.0            8.0   \n",
       "2318    2020-03-12  United Kingdom              459.0            8.0   \n",
       "2443    2020-03-13  United Kingdom              801.0            8.0   \n",
       "2584    2020-03-14  United Kingdom             1143.0           21.0   \n",
       "2730    2020-03-15  United Kingdom             1144.0           21.0   \n",
       "...            ...             ...                ...            ...   \n",
       "100094  2021-08-09  United Kingdom          6123173.0       130667.0   \n",
       "100290  2021-08-10  United Kingdom          6146642.0       130813.0   \n",
       "100486  2021-08-11  United Kingdom          6176023.0       130921.0   \n",
       "100682  2021-08-12  United Kingdom          6208908.0       131016.0   \n",
       "100878  2021-08-13  United Kingdom          6241447.0       131116.0   \n",
       "\n",
       "              location  population continent    date_org  \\\n",
       "2200    United Kingdom  67886004.0    Europe         NaN   \n",
       "2318    United Kingdom  67886004.0    Europe         NaN   \n",
       "2443    United Kingdom  67886004.0    Europe         NaN   \n",
       "2584    United Kingdom  67886004.0    Europe         NaN   \n",
       "2730    United Kingdom  67886004.0    Europe         NaN   \n",
       "...                ...         ...       ...         ...   \n",
       "100094  United Kingdom  67886004.0    Europe  2021-08-09   \n",
       "100290  United Kingdom  67886004.0    Europe  2021-08-10   \n",
       "100486  United Kingdom  67886004.0    Europe  2021-08-11   \n",
       "100682  United Kingdom  67886004.0    Europe  2021-08-12   \n",
       "100878  United Kingdom  67886004.0    Europe         NaN   \n",
       "\n",
       "                                             vaccine  total_vaccinations  \\\n",
       "2200                                             NaN                 NaN   \n",
       "2318                                             NaN                 NaN   \n",
       "2443                                             NaN                 NaN   \n",
       "2584                                             NaN                 NaN   \n",
       "2730                                             NaN                 NaN   \n",
       "...                                              ...                 ...   \n",
       "100094  Moderna, Oxford/AstraZeneca, Pfizer/BioNTech          86780455.0   \n",
       "100290  Moderna, Oxford/AstraZeneca, Pfizer/BioNTech          86969109.0   \n",
       "100486  Moderna, Oxford/AstraZeneca, Pfizer/BioNTech          87184438.0   \n",
       "100682  Moderna, Oxford/AstraZeneca, Pfizer/BioNTech          87421381.0   \n",
       "100878                                           NaN                 NaN   \n",
       "\n",
       "        people_vaccinated  people_fully_vaccinated date_datetime  \\\n",
       "2200                  NaN                      NaN    2020-03-11   \n",
       "2318                  NaN                      NaN    2020-03-12   \n",
       "2443                  NaN                      NaN    2020-03-13   \n",
       "2584                  NaN                      NaN    2020-03-14   \n",
       "2730                  NaN                      NaN    2020-03-15   \n",
       "...                   ...                      ...           ...   \n",
       "100094         47091889.0               39688566.0    2021-08-09   \n",
       "100290         47129400.0               39839709.0    2021-08-10   \n",
       "100486         47170968.0               40013470.0    2021-08-11   \n",
       "100682         47215352.0               40206029.0    2021-08-12   \n",
       "100878                NaN                      NaN    2021-08-13   \n",
       "\n",
       "        daily_country_confirmed  daily_confirmed_confirmed_mean  \\\n",
       "2200                        0.0                        0.000000   \n",
       "2318                        0.0                        0.000000   \n",
       "2443                      342.0                      140.163934   \n",
       "2584                      342.0                      208.536585   \n",
       "2730                        1.0                      146.799143   \n",
       "...                         ...                             ...   \n",
       "100094                  25056.0                    27501.566077   \n",
       "100290                  23469.0                    26695.052862   \n",
       "100486                  29381.0                    27232.242290   \n",
       "100682                  32885.0                    28362.793832   \n",
       "100878                  32539.0                    29198.035065   \n",
       "\n",
       "        daily_country_death  daily_confirmed_death_mean  \n",
       "2200                    0.0                    0.000000  \n",
       "2318                    0.0                    0.000000  \n",
       "2443                    0.0                    0.000000  \n",
       "2584                   13.0                    4.403794  \n",
       "2730                    0.0                    3.093765  \n",
       "...                     ...                         ...  \n",
       "100094                 37.0                   73.399408  \n",
       "100290                146.0                   87.919527  \n",
       "100486                108.0                   91.935621  \n",
       "100682                 95.0                   92.548497  \n",
       "100878                100.0                   94.038798  \n",
       "\n",
       "[521 rows x 17 columns]"
      ]
     },
     "execution_count": 94,
     "metadata": {},
     "output_type": "execute_result"
    }
   ],
   "source": [
    "df_pd.sort_values(['date_string'])"
   ]
  },
  {
   "cell_type": "code",
   "execution_count": 95,
   "id": "5b5ce250",
   "metadata": {},
   "outputs": [],
   "source": [
    "df_trend = df_pd_do.copy()"
   ]
  },
  {
   "cell_type": "code",
   "execution_count": 96,
   "id": "d2007d0a",
   "metadata": {},
   "outputs": [],
   "source": [
    "# Do a rolling sum to get the past week cases\n",
    "# https://stackoverflow.com/questions/43787059/how-to-compute-cumulative-sum-of-previous-n-rows-in-pandas\n",
    "df_trend['past_week_daily_death'] = df_trend['daily_country_death'].rolling(window=7, min_periods=7).mean()\n"
   ]
  },
  {
   "cell_type": "code",
   "execution_count": 97,
   "id": "648f21ca",
   "metadata": {},
   "outputs": [],
   "source": [
    "df_trend['percent_people_vaccinated'] = df_trend['people_vaccinated']/df_trend['population']*100\n",
    "df_trend['percent_total_vaccinations'] = df_trend['total_vaccinations']/df_trend['population']*100\n",
    "df_trend['percent_adjusted_people_vaccinated'] = df_trend['adjusted_people_vaccinated']/df_trend['population']*100"
   ]
  },
  {
   "cell_type": "code",
   "execution_count": 98,
   "id": "3968f20d",
   "metadata": {},
   "outputs": [],
   "source": [
    "df_trend['past_week_daily_death_per_100k'] = df_trend['past_week_daily_death']/df_trend['population']*100000"
   ]
  },
  {
   "cell_type": "code",
   "execution_count": 99,
   "id": "aefae05d",
   "metadata": {},
   "outputs": [
    {
     "data": {
      "text/plain": [
       "<AxesSubplot:xlabel='percent_adjusted_people_vaccinated'>"
      ]
     },
     "execution_count": 99,
     "metadata": {},
     "output_type": "execute_result"
    },
    {
     "data": {
      "image/png": "[encoded data removed]",
      "text/plain": [
       "<Figure size 432x288 with 1 Axes>"
      ]
     },
     "metadata": {
      "needs_background": "light"
     },
     "output_type": "display_data"
    }
   ],
   "source": [
    "df_trend.plot(x='percent_adjusted_people_vaccinated', y='past_week_daily_death_per_100k')\n",
    "# df_trend.plot(x='percent_total_vaccinations', y='past_week_daily_cases_per_100k')\n"
   ]
  },
  {
   "cell_type": "code",
   "execution_count": 100,
   "id": "manufactured-forwarding",
   "metadata": {},
   "outputs": [],
   "source": [
    "# Daily death over infected rate\n",
    "# df_trend['daily_country_death_over_confirmed'] = df_trend['daily_country_death']/df_trend['daily_country_confirmed']\n",
    "df_trend['past_week_daily_confirmed'] = df_trend['daily_country_confirmed'].rolling(window=7, min_periods=7).mean()\n",
    "df_trend['past_week_daily_death_over_confirmed'] = df_trend['past_week_daily_death']/df_trend['past_week_daily_confirmed']"
   ]
  },
  {
   "cell_type": "code",
   "execution_count": 101,
   "id": "accepting-penny",
   "metadata": {},
   "outputs": [
    {
     "data": {
      "text/plain": [
       "<AxesSubplot:xlabel='percent_adjusted_people_vaccinated'>"
      ]
     },
     "execution_count": 101,
     "metadata": {},
     "output_type": "execute_result"
    },
    {
     "data": {
      "image/png": "[encoded data removed]",
      "text/plain": [
       "<Figure size 432x288 with 1 Axes>"
      ]
     },
     "metadata": {
      "needs_background": "light"
     },
     "output_type": "display_data"
    }
   ],
   "source": [
    "df_trend.plot(x='percent_adjusted_people_vaccinated', y='past_week_daily_death_over_confirmed')\n",
    "# df_trend.plot(x='percent_total_vaccinations', y='past_week_daily_cases_per_100k')"
   ]
  },
  {
   "cell_type": "code",
   "execution_count": 102,
   "id": "natural-welding",
   "metadata": {},
   "outputs": [
    {
     "data": {
      "text/html": [
       "<div>\n",
       "<style scoped>\n",
       "    .dataframe tbody tr th:only-of-type {\n",
       "        vertical-align: middle;\n",
       "    }\n",
       "\n",
       "    .dataframe tbody tr th {\n",
       "        vertical-align: top;\n",
       "    }\n",
       "\n",
       "    .dataframe thead th {\n",
       "        text-align: right;\n",
       "    }\n",
       "</style>\n",
       "<table border=\"1\" class=\"dataframe\">\n",
       "  <thead>\n",
       "    <tr style=\"text-align: right;\">\n",
       "      <th></th>\n",
       "      <th>past_week_daily_confirmed</th>\n",
       "      <th>past_week_daily_death</th>\n",
       "    </tr>\n",
       "  </thead>\n",
       "  <tbody>\n",
       "    <tr>\n",
       "      <th>89331</th>\n",
       "      <td>7517.428571</td>\n",
       "      <td>9.000000</td>\n",
       "    </tr>\n",
       "    <tr>\n",
       "      <th>89524</th>\n",
       "      <td>7730.142857</td>\n",
       "      <td>9.428571</td>\n",
       "    </tr>\n",
       "    <tr>\n",
       "      <th>89718</th>\n",
       "      <td>8242.142857</td>\n",
       "      <td>11.142857</td>\n",
       "    </tr>\n",
       "    <tr>\n",
       "      <th>89912</th>\n",
       "      <td>8574.571429</td>\n",
       "      <td>10.285714</td>\n",
       "    </tr>\n",
       "    <tr>\n",
       "      <th>90106</th>\n",
       "      <td>8935.142857</td>\n",
       "      <td>10.571429</td>\n",
       "    </tr>\n",
       "    <tr>\n",
       "      <th>90300</th>\n",
       "      <td>9184.142857</td>\n",
       "      <td>10.285714</td>\n",
       "    </tr>\n",
       "    <tr>\n",
       "      <th>90494</th>\n",
       "      <td>9590.857143</td>\n",
       "      <td>10.571429</td>\n",
       "    </tr>\n",
       "    <tr>\n",
       "      <th>90688</th>\n",
       "      <td>10149.857143</td>\n",
       "      <td>13.000000</td>\n",
       "    </tr>\n",
       "    <tr>\n",
       "      <th>90882</th>\n",
       "      <td>11168.714286</td>\n",
       "      <td>14.428571</td>\n",
       "    </tr>\n",
       "    <tr>\n",
       "      <th>91078</th>\n",
       "      <td>12009.000000</td>\n",
       "      <td>14.714286</td>\n",
       "    </tr>\n",
       "    <tr>\n",
       "      <th>91274</th>\n",
       "      <td>12735.714286</td>\n",
       "      <td>15.714286</td>\n",
       "    </tr>\n",
       "    <tr>\n",
       "      <th>91470</th>\n",
       "      <td>13860.000000</td>\n",
       "      <td>17.000000</td>\n",
       "    </tr>\n",
       "    <tr>\n",
       "      <th>91666</th>\n",
       "      <td>14653.714286</td>\n",
       "      <td>17.714286</td>\n",
       "    </tr>\n",
       "    <tr>\n",
       "      <th>91862</th>\n",
       "      <td>16404.428571</td>\n",
       "      <td>17.428571</td>\n",
       "    </tr>\n",
       "    <tr>\n",
       "      <th>92058</th>\n",
       "      <td>17655.000000</td>\n",
       "      <td>16.857143</td>\n",
       "    </tr>\n",
       "    <tr>\n",
       "      <th>92254</th>\n",
       "      <td>19044.571429</td>\n",
       "      <td>16.142857</td>\n",
       "    </tr>\n",
       "    <tr>\n",
       "      <th>92450</th>\n",
       "      <td>20607.571429</td>\n",
       "      <td>16.285714</td>\n",
       "    </tr>\n",
       "    <tr>\n",
       "      <th>92646</th>\n",
       "      <td>22248.857143</td>\n",
       "      <td>17.571429</td>\n",
       "    </tr>\n",
       "    <tr>\n",
       "      <th>92842</th>\n",
       "      <td>23180.142857</td>\n",
       "      <td>16.857143</td>\n",
       "    </tr>\n",
       "    <tr>\n",
       "      <th>93038</th>\n",
       "      <td>24503.428571</td>\n",
       "      <td>17.428571</td>\n",
       "    </tr>\n",
       "    <tr>\n",
       "      <th>93234</th>\n",
       "      <td>25129.571429</td>\n",
       "      <td>18.285714</td>\n",
       "    </tr>\n",
       "    <tr>\n",
       "      <th>93430</th>\n",
       "      <td>26325.000000</td>\n",
       "      <td>20.285714</td>\n",
       "    </tr>\n",
       "    <tr>\n",
       "      <th>93626</th>\n",
       "      <td>27238.000000</td>\n",
       "      <td>23.000000</td>\n",
       "    </tr>\n",
       "    <tr>\n",
       "      <th>93822</th>\n",
       "      <td>27873.714286</td>\n",
       "      <td>25.000000</td>\n",
       "    </tr>\n",
       "    <tr>\n",
       "      <th>94018</th>\n",
       "      <td>29162.571429</td>\n",
       "      <td>25.428571</td>\n",
       "    </tr>\n",
       "    <tr>\n",
       "      <th>94214</th>\n",
       "      <td>30215.428571</td>\n",
       "      <td>27.714286</td>\n",
       "    </tr>\n",
       "    <tr>\n",
       "      <th>94410</th>\n",
       "      <td>31284.857143</td>\n",
       "      <td>29.285714</td>\n",
       "    </tr>\n",
       "    <tr>\n",
       "      <th>94606</th>\n",
       "      <td>32385.428571</td>\n",
       "      <td>28.857143</td>\n",
       "    </tr>\n",
       "    <tr>\n",
       "      <th>94802</th>\n",
       "      <td>33509.857143</td>\n",
       "      <td>30.714286</td>\n",
       "    </tr>\n",
       "    <tr>\n",
       "      <th>94998</th>\n",
       "      <td>34955.857143</td>\n",
       "      <td>33.142857</td>\n",
       "    </tr>\n",
       "    <tr>\n",
       "      <th>95194</th>\n",
       "      <td>37319.428571</td>\n",
       "      <td>37.571429</td>\n",
       "    </tr>\n",
       "    <tr>\n",
       "      <th>95390</th>\n",
       "      <td>39614.285714</td>\n",
       "      <td>40.285714</td>\n",
       "    </tr>\n",
       "    <tr>\n",
       "      <th>95586</th>\n",
       "      <td>42806.857143</td>\n",
       "      <td>42.142857</td>\n",
       "    </tr>\n",
       "    <tr>\n",
       "      <th>95782</th>\n",
       "      <td>45159.142857</td>\n",
       "      <td>42.428571</td>\n",
       "    </tr>\n",
       "    <tr>\n",
       "      <th>95978</th>\n",
       "      <td>45996.428571</td>\n",
       "      <td>44.285714</td>\n",
       "    </tr>\n",
       "    <tr>\n",
       "      <th>96174</th>\n",
       "      <td>47451.857143</td>\n",
       "      <td>51.714286</td>\n",
       "    </tr>\n",
       "    <tr>\n",
       "      <th>96370</th>\n",
       "      <td>47723.000000</td>\n",
       "      <td>55.000000</td>\n",
       "    </tr>\n",
       "    <tr>\n",
       "      <th>96566</th>\n",
       "      <td>46492.714286</td>\n",
       "      <td>57.428571</td>\n",
       "    </tr>\n",
       "    <tr>\n",
       "      <th>96762</th>\n",
       "      <td>44227.571429</td>\n",
       "      <td>59.571429</td>\n",
       "    </tr>\n",
       "    <tr>\n",
       "      <th>96958</th>\n",
       "      <td>41004.857143</td>\n",
       "      <td>65.428571</td>\n",
       "    </tr>\n",
       "    <tr>\n",
       "      <th>97154</th>\n",
       "      <td>38303.285714</td>\n",
       "      <td>65.428571</td>\n",
       "    </tr>\n",
       "    <tr>\n",
       "      <th>97350</th>\n",
       "      <td>36054.857143</td>\n",
       "      <td>64.714286</td>\n",
       "    </tr>\n",
       "    <tr>\n",
       "      <th>97546</th>\n",
       "      <td>32728.142857</td>\n",
       "      <td>68.857143</td>\n",
       "    </tr>\n",
       "    <tr>\n",
       "      <th>97742</th>\n",
       "      <td>30104.142857</td>\n",
       "      <td>76.571429</td>\n",
       "    </tr>\n",
       "    <tr>\n",
       "      <th>97938</th>\n",
       "      <td>28795.857143</td>\n",
       "      <td>77.571429</td>\n",
       "    </tr>\n",
       "    <tr>\n",
       "      <th>98134</th>\n",
       "      <td>27828.714286</td>\n",
       "      <td>78.142857</td>\n",
       "    </tr>\n",
       "    <tr>\n",
       "      <th>98330</th>\n",
       "      <td>26994.142857</td>\n",
       "      <td>75.857143</td>\n",
       "    </tr>\n",
       "    <tr>\n",
       "      <th>98526</th>\n",
       "      <td>26313.571429</td>\n",
       "      <td>81.142857</td>\n",
       "    </tr>\n",
       "    <tr>\n",
       "      <th>98722</th>\n",
       "      <td>25935.714286</td>\n",
       "      <td>82.714286</td>\n",
       "    </tr>\n",
       "    <tr>\n",
       "      <th>98918</th>\n",
       "      <td>25714.857143</td>\n",
       "      <td>84.000000</td>\n",
       "    </tr>\n",
       "    <tr>\n",
       "      <th>99114</th>\n",
       "      <td>26206.000000</td>\n",
       "      <td>83.142857</td>\n",
       "    </tr>\n",
       "    <tr>\n",
       "      <th>99310</th>\n",
       "      <td>26082.857143</td>\n",
       "      <td>83.000000</td>\n",
       "    </tr>\n",
       "    <tr>\n",
       "      <th>99506</th>\n",
       "      <td>26412.857143</td>\n",
       "      <td>86.428571</td>\n",
       "    </tr>\n",
       "    <tr>\n",
       "      <th>99702</th>\n",
       "      <td>26778.857143</td>\n",
       "      <td>90.857143</td>\n",
       "    </tr>\n",
       "    <tr>\n",
       "      <th>99898</th>\n",
       "      <td>27217.571429</td>\n",
       "      <td>88.000000</td>\n",
       "    </tr>\n",
       "    <tr>\n",
       "      <th>100094</th>\n",
       "      <td>27613.142857</td>\n",
       "      <td>89.714286</td>\n",
       "    </tr>\n",
       "    <tr>\n",
       "      <th>100290</th>\n",
       "      <td>27843.714286</td>\n",
       "      <td>90.571429</td>\n",
       "    </tr>\n",
       "    <tr>\n",
       "      <th>100486</th>\n",
       "      <td>27876.571429</td>\n",
       "      <td>88.714286</td>\n",
       "    </tr>\n",
       "    <tr>\n",
       "      <th>100682</th>\n",
       "      <td>28287.428571</td>\n",
       "      <td>89.428571</td>\n",
       "    </tr>\n",
       "    <tr>\n",
       "      <th>100878</th>\n",
       "      <td>28416.857143</td>\n",
       "      <td>90.571429</td>\n",
       "    </tr>\n",
       "  </tbody>\n",
       "</table>\n",
       "</div>"
      ],
      "text/plain": [
       "        past_week_daily_confirmed  past_week_daily_death\n",
       "89331                 7517.428571               9.000000\n",
       "89524                 7730.142857               9.428571\n",
       "89718                 8242.142857              11.142857\n",
       "89912                 8574.571429              10.285714\n",
       "90106                 8935.142857              10.571429\n",
       "90300                 9184.142857              10.285714\n",
       "90494                 9590.857143              10.571429\n",
       "90688                10149.857143              13.000000\n",
       "90882                11168.714286              14.428571\n",
       "91078                12009.000000              14.714286\n",
       "91274                12735.714286              15.714286\n",
       "91470                13860.000000              17.000000\n",
       "91666                14653.714286              17.714286\n",
       "91862                16404.428571              17.428571\n",
       "92058                17655.000000              16.857143\n",
       "92254                19044.571429              16.142857\n",
       "92450                20607.571429              16.285714\n",
       "92646                22248.857143              17.571429\n",
       "92842                23180.142857              16.857143\n",
       "93038                24503.428571              17.428571\n",
       "93234                25129.571429              18.285714\n",
       "93430                26325.000000              20.285714\n",
       "93626                27238.000000              23.000000\n",
       "93822                27873.714286              25.000000\n",
       "94018                29162.571429              25.428571\n",
       "94214                30215.428571              27.714286\n",
       "94410                31284.857143              29.285714\n",
       "94606                32385.428571              28.857143\n",
       "94802                33509.857143              30.714286\n",
       "94998                34955.857143              33.142857\n",
       "95194                37319.428571              37.571429\n",
       "95390                39614.285714              40.285714\n",
       "95586                42806.857143              42.142857\n",
       "95782                45159.142857              42.428571\n",
       "95978                45996.428571              44.285714\n",
       "96174                47451.857143              51.714286\n",
       "96370                47723.000000              55.000000\n",
       "96566                46492.714286              57.428571\n",
       "96762                44227.571429              59.571429\n",
       "96958                41004.857143              65.428571\n",
       "97154                38303.285714              65.428571\n",
       "97350                36054.857143              64.714286\n",
       "97546                32728.142857              68.857143\n",
       "97742                30104.142857              76.571429\n",
       "97938                28795.857143              77.571429\n",
       "98134                27828.714286              78.142857\n",
       "98330                26994.142857              75.857143\n",
       "98526                26313.571429              81.142857\n",
       "98722                25935.714286              82.714286\n",
       "98918                25714.857143              84.000000\n",
       "99114                26206.000000              83.142857\n",
       "99310                26082.857143              83.000000\n",
       "99506                26412.857143              86.428571\n",
       "99702                26778.857143              90.857143\n",
       "99898                27217.571429              88.000000\n",
       "100094               27613.142857              89.714286\n",
       "100290               27843.714286              90.571429\n",
       "100486               27876.571429              88.714286\n",
       "100682               28287.428571              89.428571\n",
       "100878               28416.857143              90.571429"
      ]
     },
     "execution_count": 102,
     "metadata": {},
     "output_type": "execute_result"
    }
   ],
   "source": [
    "df_trend[['past_week_daily_confirmed', 'past_week_daily_death']].tail(60)"
   ]
  },
  {
   "cell_type": "markdown",
   "id": "smart-trout",
   "metadata": {},
   "source": [
    "### Average deaths per infected in the past week vs total vaccination (adjusted vaccination rate)"
   ]
  },
  {
   "cell_type": "code",
   "execution_count": null,
   "id": "sexual-labor",
   "metadata": {},
   "outputs": [],
   "source": []
  },
  {
   "cell_type": "code",
   "execution_count": 28,
   "id": "090ce235",
   "metadata": {},
   "outputs": [
    {
     "data": {
      "text/html": [
       "<div>\n",
       "<style scoped>\n",
       "    .dataframe tbody tr th:only-of-type {\n",
       "        vertical-align: middle;\n",
       "    }\n",
       "\n",
       "    .dataframe tbody tr th {\n",
       "        vertical-align: top;\n",
       "    }\n",
       "\n",
       "    .dataframe thead th {\n",
       "        text-align: right;\n",
       "    }\n",
       "</style>\n",
       "<table border=\"1\" class=\"dataframe\">\n",
       "  <thead>\n",
       "    <tr style=\"text-align: right;\">\n",
       "      <th></th>\n",
       "      <th>date_string</th>\n",
       "      <th>country_region</th>\n",
       "      <th>country_confirmed</th>\n",
       "      <th>location</th>\n",
       "      <th>population</th>\n",
       "      <th>continent</th>\n",
       "      <th>date_org</th>\n",
       "      <th>vaccine</th>\n",
       "      <th>total_vaccinations</th>\n",
       "      <th>people_vaccinated</th>\n",
       "      <th>people_fully_vaccinated</th>\n",
       "      <th>date_datetime</th>\n",
       "      <th>daily_country_confirmed</th>\n",
       "      <th>daily_confirmed_ewm_mean</th>\n",
       "      <th>adjusted_people_vaccinated</th>\n",
       "    </tr>\n",
       "  </thead>\n",
       "  <tbody>\n",
       "    <tr>\n",
       "      <th>1271</th>\n",
       "      <td>2020-03-11</td>\n",
       "      <td>United Kingdom</td>\n",
       "      <td>1260.0</td>\n",
       "      <td>United Kingdom</td>\n",
       "      <td>67886004.0</td>\n",
       "      <td>Europe</td>\n",
       "      <td>NaN</td>\n",
       "      <td>NaN</td>\n",
       "      <td>NaN</td>\n",
       "      <td>NaN</td>\n",
       "      <td>NaN</td>\n",
       "      <td>2020-03-11</td>\n",
       "      <td>0.0</td>\n",
       "      <td>0.000000</td>\n",
       "      <td>NaN</td>\n",
       "    </tr>\n",
       "    <tr>\n",
       "      <th>1466</th>\n",
       "      <td>2020-03-14</td>\n",
       "      <td>United Kingdom</td>\n",
       "      <td>1141.0</td>\n",
       "      <td>United Kingdom</td>\n",
       "      <td>67886004.0</td>\n",
       "      <td>Europe</td>\n",
       "      <td>NaN</td>\n",
       "      <td>NaN</td>\n",
       "      <td>NaN</td>\n",
       "      <td>NaN</td>\n",
       "      <td>NaN</td>\n",
       "      <td>2020-03-14</td>\n",
       "      <td>-119.0</td>\n",
       "      <td>-66.111111</td>\n",
       "      <td>NaN</td>\n",
       "    </tr>\n",
       "    <tr>\n",
       "      <th>1555</th>\n",
       "      <td>2020-03-15</td>\n",
       "      <td>United Kingdom</td>\n",
       "      <td>3.0</td>\n",
       "      <td>United Kingdom</td>\n",
       "      <td>67886004.0</td>\n",
       "      <td>Europe</td>\n",
       "      <td>NaN</td>\n",
       "      <td>NaN</td>\n",
       "      <td>NaN</td>\n",
       "      <td>NaN</td>\n",
       "      <td>NaN</td>\n",
       "      <td>2020-03-15</td>\n",
       "      <td>-1138.0</td>\n",
       "      <td>-505.409836</td>\n",
       "      <td>NaN</td>\n",
       "    </tr>\n",
       "    <tr>\n",
       "      <th>1677</th>\n",
       "      <td>2020-03-16</td>\n",
       "      <td>United Kingdom</td>\n",
       "      <td>1550.0</td>\n",
       "      <td>United Kingdom</td>\n",
       "      <td>67886004.0</td>\n",
       "      <td>Europe</td>\n",
       "      <td>NaN</td>\n",
       "      <td>NaN</td>\n",
       "      <td>NaN</td>\n",
       "      <td>NaN</td>\n",
       "      <td>NaN</td>\n",
       "      <td>2020-03-16</td>\n",
       "      <td>1547.0</td>\n",
       "      <td>189.850949</td>\n",
       "      <td>NaN</td>\n",
       "    </tr>\n",
       "    <tr>\n",
       "      <th>1799</th>\n",
       "      <td>2020-03-17</td>\n",
       "      <td>United Kingdom</td>\n",
       "      <td>1953.0</td>\n",
       "      <td>United Kingdom</td>\n",
       "      <td>67886004.0</td>\n",
       "      <td>Europe</td>\n",
       "      <td>NaN</td>\n",
       "      <td>NaN</td>\n",
       "      <td>NaN</td>\n",
       "      <td>NaN</td>\n",
       "      <td>NaN</td>\n",
       "      <td>2020-03-17</td>\n",
       "      <td>403.0</td>\n",
       "      <td>253.257972</td>\n",
       "      <td>NaN</td>\n",
       "    </tr>\n",
       "    <tr>\n",
       "      <th>...</th>\n",
       "      <td>...</td>\n",
       "      <td>...</td>\n",
       "      <td>...</td>\n",
       "      <td>...</td>\n",
       "      <td>...</td>\n",
       "      <td>...</td>\n",
       "      <td>...</td>\n",
       "      <td>...</td>\n",
       "      <td>...</td>\n",
       "      <td>...</td>\n",
       "      <td>...</td>\n",
       "      <td>...</td>\n",
       "      <td>...</td>\n",
       "      <td>...</td>\n",
       "      <td>...</td>\n",
       "    </tr>\n",
       "    <tr>\n",
       "      <th>73276</th>\n",
       "      <td>2021-04-01</td>\n",
       "      <td>United Kingdom</td>\n",
       "      <td>4359978.0</td>\n",
       "      <td>United Kingdom</td>\n",
       "      <td>67886004.0</td>\n",
       "      <td>Europe</td>\n",
       "      <td>2021-04-01</td>\n",
       "      <td>Oxford/AstraZeneca, Pfizer/BioNTech</td>\n",
       "      <td>36277136.0</td>\n",
       "      <td>31318262.0</td>\n",
       "      <td>4958874.0</td>\n",
       "      <td>2021-04-01</td>\n",
       "      <td>4115.0</td>\n",
       "      <td>4710.572028</td>\n",
       "      <td>18138568.0</td>\n",
       "    </tr>\n",
       "    <tr>\n",
       "      <th>73468</th>\n",
       "      <td>2021-04-02</td>\n",
       "      <td>United Kingdom</td>\n",
       "      <td>4364543.0</td>\n",
       "      <td>United Kingdom</td>\n",
       "      <td>67886004.0</td>\n",
       "      <td>Europe</td>\n",
       "      <td>2021-04-02</td>\n",
       "      <td>Oxford/AstraZeneca, Pfizer/BioNTech</td>\n",
       "      <td>36631187.0</td>\n",
       "      <td>31425682.0</td>\n",
       "      <td>5205505.0</td>\n",
       "      <td>2021-04-02</td>\n",
       "      <td>4565.0</td>\n",
       "      <td>4681.457623</td>\n",
       "      <td>18315593.5</td>\n",
       "    </tr>\n",
       "    <tr>\n",
       "      <th>73660</th>\n",
       "      <td>2021-04-03</td>\n",
       "      <td>United Kingdom</td>\n",
       "      <td>4367965.0</td>\n",
       "      <td>United Kingdom</td>\n",
       "      <td>67886004.0</td>\n",
       "      <td>Europe</td>\n",
       "      <td>2021-04-03</td>\n",
       "      <td>Oxford/AstraZeneca, Pfizer/BioNTech</td>\n",
       "      <td>36904755.0</td>\n",
       "      <td>31523010.0</td>\n",
       "      <td>5381745.0</td>\n",
       "      <td>2021-04-03</td>\n",
       "      <td>3422.0</td>\n",
       "      <td>4429.566098</td>\n",
       "      <td>18452377.5</td>\n",
       "    </tr>\n",
       "    <tr>\n",
       "      <th>73852</th>\n",
       "      <td>2021-04-04</td>\n",
       "      <td>United Kingdom</td>\n",
       "      <td>4371389.0</td>\n",
       "      <td>United Kingdom</td>\n",
       "      <td>67886004.0</td>\n",
       "      <td>Europe</td>\n",
       "      <td>NaN</td>\n",
       "      <td>NaN</td>\n",
       "      <td>NaN</td>\n",
       "      <td>NaN</td>\n",
       "      <td>NaN</td>\n",
       "      <td>2021-04-04</td>\n",
       "      <td>3424.0</td>\n",
       "      <td>4228.452879</td>\n",
       "      <td>NaN</td>\n",
       "    </tr>\n",
       "    <tr>\n",
       "      <th>74044</th>\n",
       "      <td>2021-04-05</td>\n",
       "      <td>United Kingdom</td>\n",
       "      <td>4373794.0</td>\n",
       "      <td>United Kingdom</td>\n",
       "      <td>67886004.0</td>\n",
       "      <td>Europe</td>\n",
       "      <td>NaN</td>\n",
       "      <td>NaN</td>\n",
       "      <td>NaN</td>\n",
       "      <td>NaN</td>\n",
       "      <td>NaN</td>\n",
       "      <td>2021-04-05</td>\n",
       "      <td>2405.0</td>\n",
       "      <td>3863.762303</td>\n",
       "      <td>NaN</td>\n",
       "    </tr>\n",
       "  </tbody>\n",
       "</table>\n",
       "<p>386 rows × 15 columns</p>\n",
       "</div>"
      ],
      "text/plain": [
       "      date_string  country_region  country_confirmed        location  \\\n",
       "1271   2020-03-11  United Kingdom             1260.0  United Kingdom   \n",
       "1466   2020-03-14  United Kingdom             1141.0  United Kingdom   \n",
       "1555   2020-03-15  United Kingdom                3.0  United Kingdom   \n",
       "1677   2020-03-16  United Kingdom             1550.0  United Kingdom   \n",
       "1799   2020-03-17  United Kingdom             1953.0  United Kingdom   \n",
       "...           ...             ...                ...             ...   \n",
       "73276  2021-04-01  United Kingdom          4359978.0  United Kingdom   \n",
       "73468  2021-04-02  United Kingdom          4364543.0  United Kingdom   \n",
       "73660  2021-04-03  United Kingdom          4367965.0  United Kingdom   \n",
       "73852  2021-04-04  United Kingdom          4371389.0  United Kingdom   \n",
       "74044  2021-04-05  United Kingdom          4373794.0  United Kingdom   \n",
       "\n",
       "       population continent    date_org                              vaccine  \\\n",
       "1271   67886004.0    Europe         NaN                                  NaN   \n",
       "1466   67886004.0    Europe         NaN                                  NaN   \n",
       "1555   67886004.0    Europe         NaN                                  NaN   \n",
       "1677   67886004.0    Europe         NaN                                  NaN   \n",
       "1799   67886004.0    Europe         NaN                                  NaN   \n",
       "...           ...       ...         ...                                  ...   \n",
       "73276  67886004.0    Europe  2021-04-01  Oxford/AstraZeneca, Pfizer/BioNTech   \n",
       "73468  67886004.0    Europe  2021-04-02  Oxford/AstraZeneca, Pfizer/BioNTech   \n",
       "73660  67886004.0    Europe  2021-04-03  Oxford/AstraZeneca, Pfizer/BioNTech   \n",
       "73852  67886004.0    Europe         NaN                                  NaN   \n",
       "74044  67886004.0    Europe         NaN                                  NaN   \n",
       "\n",
       "       total_vaccinations  people_vaccinated  people_fully_vaccinated  \\\n",
       "1271                  NaN                NaN                      NaN   \n",
       "1466                  NaN                NaN                      NaN   \n",
       "1555                  NaN                NaN                      NaN   \n",
       "1677                  NaN                NaN                      NaN   \n",
       "1799                  NaN                NaN                      NaN   \n",
       "...                   ...                ...                      ...   \n",
       "73276          36277136.0         31318262.0                4958874.0   \n",
       "73468          36631187.0         31425682.0                5205505.0   \n",
       "73660          36904755.0         31523010.0                5381745.0   \n",
       "73852                 NaN                NaN                      NaN   \n",
       "74044                 NaN                NaN                      NaN   \n",
       "\n",
       "      date_datetime  daily_country_confirmed  daily_confirmed_ewm_mean  \\\n",
       "1271     2020-03-11                      0.0                  0.000000   \n",
       "1466     2020-03-14                   -119.0                -66.111111   \n",
       "1555     2020-03-15                  -1138.0               -505.409836   \n",
       "1677     2020-03-16                   1547.0                189.850949   \n",
       "1799     2020-03-17                    403.0                253.257972   \n",
       "...             ...                      ...                       ...   \n",
       "73276    2021-04-01                   4115.0               4710.572028   \n",
       "73468    2021-04-02                   4565.0               4681.457623   \n",
       "73660    2021-04-03                   3422.0               4429.566098   \n",
       "73852    2021-04-04                   3424.0               4228.452879   \n",
       "74044    2021-04-05                   2405.0               3863.762303   \n",
       "\n",
       "       adjusted_people_vaccinated  \n",
       "1271                          NaN  \n",
       "1466                          NaN  \n",
       "1555                          NaN  \n",
       "1677                          NaN  \n",
       "1799                          NaN  \n",
       "...                           ...  \n",
       "73276                  18138568.0  \n",
       "73468                  18315593.5  \n",
       "73660                  18452377.5  \n",
       "73852                         NaN  \n",
       "74044                         NaN  \n",
       "\n",
       "[386 rows x 15 columns]"
      ]
     },
     "execution_count": 28,
     "metadata": {},
     "output_type": "execute_result"
    }
   ],
   "source": [
    "df_pd_do"
   ]
  },
  {
   "cell_type": "markdown",
   "id": "65e33ba2",
   "metadata": {},
   "source": [
    "### past 7 days average daily case per 100k vs vaccination rates for different countries/region"
   ]
  },
  {
   "cell_type": "code",
   "execution_count": 154,
   "id": "ef54f73b",
   "metadata": {},
   "outputs": [
    {
     "name": "stdout",
     "output_type": "stream",
     "text": [
      "2021-04-04 00:00:00\n",
      "2021-03-28 00:00:00\n"
     ]
    }
   ],
   "source": [
    "curr_date_string = '2021-04-04'\n",
    "curr_date = datetime.strptime(curr_date_string, '%Y-%m-%d')\n",
    "\n",
    "prev_date = curr_date - timedelta(days=7)\n",
    "\n",
    "print(curr_date)\n",
    "print(prev_date)"
   ]
  },
  {
   "cell_type": "code",
   "execution_count": 155,
   "id": "e75487c5",
   "metadata": {},
   "outputs": [],
   "source": [
    "df_case_vac = df_confirmed_loc_vac.copy()"
   ]
  },
  {
   "cell_type": "code",
   "execution_count": 156,
   "id": "5005196c",
   "metadata": {},
   "outputs": [],
   "source": [
    "df_case_vac['date'] = df_case_vac['date_string'].apply(lambda x: datetime.strptime(x, '%Y-%m-%d'))"
   ]
  },
  {
   "cell_type": "code",
   "execution_count": 157,
   "id": "56ec9d63",
   "metadata": {},
   "outputs": [],
   "source": [
    "# list_country = list(set(df_curr_case_vac['country_region'].to_list()))"
   ]
  },
  {
   "cell_type": "code",
   "execution_count": 158,
   "id": "6bd92eb4",
   "metadata": {},
   "outputs": [],
   "source": [
    "# df_curr_case_vac = pd.DataFrame(columns=['country_region', 'date', 'past_week_daily_cases', 'total_vaccinations',\n",
    "#                                          'people_vaccinated', 'people_fully_vaccinated', 'population'])"
   ]
  },
  {
   "cell_type": "code",
   "execution_count": 159,
   "id": "1dfc725f",
   "metadata": {},
   "outputs": [
    {
     "data": {
      "text/html": [
       "<div>\n",
       "<style scoped>\n",
       "    .dataframe tbody tr th:only-of-type {\n",
       "        vertical-align: middle;\n",
       "    }\n",
       "\n",
       "    .dataframe tbody tr th {\n",
       "        vertical-align: top;\n",
       "    }\n",
       "\n",
       "    .dataframe thead th {\n",
       "        text-align: right;\n",
       "    }\n",
       "</style>\n",
       "<table border=\"1\" class=\"dataframe\">\n",
       "  <thead>\n",
       "    <tr style=\"text-align: right;\">\n",
       "      <th></th>\n",
       "      <th>date_string</th>\n",
       "      <th>country_region</th>\n",
       "      <th>country_confirmed</th>\n",
       "      <th>location</th>\n",
       "      <th>population</th>\n",
       "      <th>continent</th>\n",
       "      <th>date_org</th>\n",
       "      <th>vaccine</th>\n",
       "      <th>total_vaccinations</th>\n",
       "      <th>people_vaccinated</th>\n",
       "      <th>people_fully_vaccinated</th>\n",
       "      <th>date</th>\n",
       "    </tr>\n",
       "  </thead>\n",
       "  <tbody>\n",
       "    <tr>\n",
       "      <th>0</th>\n",
       "      <td>2020-01-22</td>\n",
       "      <td>Hong Kong</td>\n",
       "      <td>NaN</td>\n",
       "      <td>NaN</td>\n",
       "      <td>NaN</td>\n",
       "      <td>NaN</td>\n",
       "      <td>NaN</td>\n",
       "      <td>NaN</td>\n",
       "      <td>NaN</td>\n",
       "      <td>NaN</td>\n",
       "      <td>NaN</td>\n",
       "      <td>2020-01-22</td>\n",
       "    </tr>\n",
       "    <tr>\n",
       "      <th>1</th>\n",
       "      <td>2020-01-22</td>\n",
       "      <td>Japan</td>\n",
       "      <td>2.0</td>\n",
       "      <td>Japan</td>\n",
       "      <td>126476458.0</td>\n",
       "      <td>Asia</td>\n",
       "      <td>NaN</td>\n",
       "      <td>NaN</td>\n",
       "      <td>NaN</td>\n",
       "      <td>NaN</td>\n",
       "      <td>NaN</td>\n",
       "      <td>2020-01-22</td>\n",
       "    </tr>\n",
       "    <tr>\n",
       "      <th>2</th>\n",
       "      <td>2020-01-22</td>\n",
       "      <td>Macau</td>\n",
       "      <td>1.0</td>\n",
       "      <td>NaN</td>\n",
       "      <td>NaN</td>\n",
       "      <td>NaN</td>\n",
       "      <td>NaN</td>\n",
       "      <td>NaN</td>\n",
       "      <td>NaN</td>\n",
       "      <td>NaN</td>\n",
       "      <td>NaN</td>\n",
       "      <td>2020-01-22</td>\n",
       "    </tr>\n",
       "    <tr>\n",
       "      <th>3</th>\n",
       "      <td>2020-01-22</td>\n",
       "      <td>Mainland China</td>\n",
       "      <td>547.0</td>\n",
       "      <td>NaN</td>\n",
       "      <td>NaN</td>\n",
       "      <td>NaN</td>\n",
       "      <td>NaN</td>\n",
       "      <td>NaN</td>\n",
       "      <td>NaN</td>\n",
       "      <td>NaN</td>\n",
       "      <td>NaN</td>\n",
       "      <td>2020-01-22</td>\n",
       "    </tr>\n",
       "    <tr>\n",
       "      <th>4</th>\n",
       "      <td>2020-01-22</td>\n",
       "      <td>South Korea</td>\n",
       "      <td>1.0</td>\n",
       "      <td>NaN</td>\n",
       "      <td>NaN</td>\n",
       "      <td>NaN</td>\n",
       "      <td>NaN</td>\n",
       "      <td>NaN</td>\n",
       "      <td>NaN</td>\n",
       "      <td>NaN</td>\n",
       "      <td>NaN</td>\n",
       "      <td>2020-01-22</td>\n",
       "    </tr>\n",
       "    <tr>\n",
       "      <th>...</th>\n",
       "      <td>...</td>\n",
       "      <td>...</td>\n",
       "      <td>...</td>\n",
       "      <td>...</td>\n",
       "      <td>...</td>\n",
       "      <td>...</td>\n",
       "      <td>...</td>\n",
       "      <td>...</td>\n",
       "      <td>...</td>\n",
       "      <td>...</td>\n",
       "      <td>...</td>\n",
       "      <td>...</td>\n",
       "    </tr>\n",
       "    <tr>\n",
       "      <th>74050</th>\n",
       "      <td>2021-04-05</td>\n",
       "      <td>Vietnam</td>\n",
       "      <td>2631.0</td>\n",
       "      <td>Vietnam</td>\n",
       "      <td>97338583.0</td>\n",
       "      <td>Asia</td>\n",
       "      <td>NaN</td>\n",
       "      <td>NaN</td>\n",
       "      <td>NaN</td>\n",
       "      <td>NaN</td>\n",
       "      <td>NaN</td>\n",
       "      <td>2021-04-05</td>\n",
       "    </tr>\n",
       "    <tr>\n",
       "      <th>74051</th>\n",
       "      <td>2021-04-05</td>\n",
       "      <td>West Bank and Gaza</td>\n",
       "      <td>251288.0</td>\n",
       "      <td>Palestine</td>\n",
       "      <td>5101416.0</td>\n",
       "      <td>Asia</td>\n",
       "      <td>NaN</td>\n",
       "      <td>NaN</td>\n",
       "      <td>NaN</td>\n",
       "      <td>NaN</td>\n",
       "      <td>NaN</td>\n",
       "      <td>2021-04-05</td>\n",
       "    </tr>\n",
       "    <tr>\n",
       "      <th>74052</th>\n",
       "      <td>2021-04-05</td>\n",
       "      <td>Yemen</td>\n",
       "      <td>4798.0</td>\n",
       "      <td>Yemen</td>\n",
       "      <td>29825968.0</td>\n",
       "      <td>Asia</td>\n",
       "      <td>NaN</td>\n",
       "      <td>NaN</td>\n",
       "      <td>NaN</td>\n",
       "      <td>NaN</td>\n",
       "      <td>NaN</td>\n",
       "      <td>2021-04-05</td>\n",
       "    </tr>\n",
       "    <tr>\n",
       "      <th>74053</th>\n",
       "      <td>2021-04-05</td>\n",
       "      <td>Zambia</td>\n",
       "      <td>88930.0</td>\n",
       "      <td>Zambia</td>\n",
       "      <td>18383956.0</td>\n",
       "      <td>Africa</td>\n",
       "      <td>NaN</td>\n",
       "      <td>NaN</td>\n",
       "      <td>NaN</td>\n",
       "      <td>NaN</td>\n",
       "      <td>NaN</td>\n",
       "      <td>2021-04-05</td>\n",
       "    </tr>\n",
       "    <tr>\n",
       "      <th>74054</th>\n",
       "      <td>2021-04-05</td>\n",
       "      <td>Zimbabwe</td>\n",
       "      <td>36923.0</td>\n",
       "      <td>Zimbabwe</td>\n",
       "      <td>14862927.0</td>\n",
       "      <td>Africa</td>\n",
       "      <td>NaN</td>\n",
       "      <td>NaN</td>\n",
       "      <td>NaN</td>\n",
       "      <td>NaN</td>\n",
       "      <td>NaN</td>\n",
       "      <td>2021-04-05</td>\n",
       "    </tr>\n",
       "  </tbody>\n",
       "</table>\n",
       "<p>74055 rows × 12 columns</p>\n",
       "</div>"
      ],
      "text/plain": [
       "      date_string      country_region  country_confirmed   location  \\\n",
       "0      2020-01-22           Hong Kong                NaN        NaN   \n",
       "1      2020-01-22               Japan                2.0      Japan   \n",
       "2      2020-01-22               Macau                1.0        NaN   \n",
       "3      2020-01-22      Mainland China              547.0        NaN   \n",
       "4      2020-01-22         South Korea                1.0        NaN   \n",
       "...           ...                 ...                ...        ...   \n",
       "74050  2021-04-05             Vietnam             2631.0    Vietnam   \n",
       "74051  2021-04-05  West Bank and Gaza           251288.0  Palestine   \n",
       "74052  2021-04-05               Yemen             4798.0      Yemen   \n",
       "74053  2021-04-05              Zambia            88930.0     Zambia   \n",
       "74054  2021-04-05            Zimbabwe            36923.0   Zimbabwe   \n",
       "\n",
       "        population continent date_org vaccine  total_vaccinations  \\\n",
       "0              NaN       NaN      NaN     NaN                 NaN   \n",
       "1      126476458.0      Asia      NaN     NaN                 NaN   \n",
       "2              NaN       NaN      NaN     NaN                 NaN   \n",
       "3              NaN       NaN      NaN     NaN                 NaN   \n",
       "4              NaN       NaN      NaN     NaN                 NaN   \n",
       "...            ...       ...      ...     ...                 ...   \n",
       "74050   97338583.0      Asia      NaN     NaN                 NaN   \n",
       "74051    5101416.0      Asia      NaN     NaN                 NaN   \n",
       "74052   29825968.0      Asia      NaN     NaN                 NaN   \n",
       "74053   18383956.0    Africa      NaN     NaN                 NaN   \n",
       "74054   14862927.0    Africa      NaN     NaN                 NaN   \n",
       "\n",
       "       people_vaccinated  people_fully_vaccinated       date  \n",
       "0                    NaN                      NaN 2020-01-22  \n",
       "1                    NaN                      NaN 2020-01-22  \n",
       "2                    NaN                      NaN 2020-01-22  \n",
       "3                    NaN                      NaN 2020-01-22  \n",
       "4                    NaN                      NaN 2020-01-22  \n",
       "...                  ...                      ...        ...  \n",
       "74050                NaN                      NaN 2021-04-05  \n",
       "74051                NaN                      NaN 2021-04-05  \n",
       "74052                NaN                      NaN 2021-04-05  \n",
       "74053                NaN                      NaN 2021-04-05  \n",
       "74054                NaN                      NaN 2021-04-05  \n",
       "\n",
       "[74055 rows x 12 columns]"
      ]
     },
     "execution_count": 159,
     "metadata": {},
     "output_type": "execute_result"
    }
   ],
   "source": [
    "df_case_vac"
   ]
  },
  {
   "cell_type": "code",
   "execution_count": 160,
   "id": "5e5f3ea5",
   "metadata": {},
   "outputs": [],
   "source": [
    "df_case_vac = df_case_vac.sort_values('date')"
   ]
  },
  {
   "cell_type": "code",
   "execution_count": 161,
   "id": "ec9bee49",
   "metadata": {},
   "outputs": [],
   "source": [
    "df_case_vac['daily_country_confirmed'] = df_case_vac.groupby('country_region')['country_confirmed'].diff()\n",
    "df_case_vac['daily_country_confirmed'] = df_case_vac['daily_country_confirmed'].fillna(0)"
   ]
  },
  {
   "cell_type": "code",
   "execution_count": 162,
   "id": "26352582",
   "metadata": {},
   "outputs": [],
   "source": [
    "df_case_vac['past_week_daily_cases'] = (df_case_vac.\n",
    "                                             groupby('country_region')['daily_country_confirmed'].\n",
    "                                             rolling(window=7, min_periods=7).mean().reset_index(0,drop=True))"
   ]
  },
  {
   "cell_type": "code",
   "execution_count": 165,
   "id": "51943a0d",
   "metadata": {},
   "outputs": [],
   "source": [
    "df_temp = df_case_vac.dropna(subset=['people_vaccinated'])\n",
    "list_countries_before_drop = list(df_confirmed_loc_vac['country_region'].unique())\n",
    "list_countries_after_drop_null_ppl_vaccinated = list(df_temp['country_region'].unique())\n",
    "df_case_vac_drop_null_total = df_confirmed_loc_vac.dropna(subset=['total_vaccinations'])\n",
    "list_countries_after_drop_total_vac = list(df_case_vac_drop_null_total['country_region'].unique())"
   ]
  },
  {
   "cell_type": "code",
   "execution_count": 166,
   "id": "cae9024e",
   "metadata": {},
   "outputs": [
    {
     "name": "stdout",
     "output_type": "stream",
     "text": [
      "['Nepal', 'Egypt', 'China', 'Algeria', 'Qatar', 'Saudi Arabia', 'Liechtenstein', 'Maldives', 'Mongolia', 'Antigua and Barbuda', 'Saint Vincent and the Grenadines']\n",
      "135\n"
     ]
    }
   ],
   "source": [
    "# countries that do not have values for people_vaccinated\n",
    "list_country_no_ppl_vac = [x for x in list_countries_before_drop if x not in list_countries_after_drop_null_ppl_vaccinated]\n",
    "# countires that do not have values for total_vaccinations\n",
    "list_country_no_total_vac = [x for x in list_countries_before_drop if x not in list_countries_after_drop_total_vac]\n",
    "# print(list_country_dropped)\n",
    "# print(list_country_no_total_vac)\n",
    "\n",
    "# countries that have total_vaccinations but no people_vaccinated\n",
    "list_country_with_total_vac_no_ppl_vac = ([x for x in list_country_no_total_vac if x not in list_country_no_ppl_vac] +\n",
    "                                          [x for x in list_country_no_ppl_vac if x not in list_country_no_total_vac])\n",
    "print(list_country_with_total_vac_no_ppl_vac)\n",
    "print(len(list_countries_after_drop_null_ppl_vaccinated))"
   ]
  },
  {
   "cell_type": "code",
   "execution_count": 167,
   "id": "eac99682",
   "metadata": {},
   "outputs": [],
   "source": [
    "# mat_total_vac = pd.isnull(df_curr_case_vac['total_vaccinations'])\n",
    "# df_curr_case_vac = df_curr_case_vac[~mat_total_vac]"
   ]
  },
  {
   "cell_type": "code",
   "execution_count": 168,
   "id": "ef9661f2",
   "metadata": {},
   "outputs": [],
   "source": [
    "# Vaccine information\n",
    "# https://www.bbc.com/news/world-asia-china-55212787\n",
    "# Sinovac requires 2 doses\n",
    "# Sputnik V requires 2 doses"
   ]
  },
  {
   "cell_type": "code",
   "execution_count": 169,
   "id": "b184f16f",
   "metadata": {},
   "outputs": [],
   "source": [
    "# Calculate percentage of adjusted_people_vaccinated\n",
    "# For countries/regions where people_vaccinated values are available:\n",
    "# adjusted_people_vaccinated = 1*people_fully_vaccinated + 0.5*(people_vaccinated - people_fully_vaccinated)\n",
    "\n",
    "df_case_vac['adjusted_people_vaccinated'] = np.nan\n",
    "\n",
    "mat_ppl_vac = df_case_vac['country_region'].isin(list_countries_after_drop_null_ppl_vaccinated)\n",
    "\n",
    "df_case_vac.loc[mat_ppl_vac, 'adjusted_people_vaccinated'] = \\\n",
    "(df_case_vac.loc[mat_ppl_vac, 'people_fully_vaccinated'].fillna(0) + \n",
    " 0.5*(df_case_vac.loc[mat_ppl_vac, 'people_vaccinated'].fillna(0) - \n",
    "      df_case_vac.loc[mat_ppl_vac, 'people_fully_vaccinated'].fillna(0)))\n",
    "\n",
    "# For countries/regions where only total_vaccinations values (but not people_vaccinated) are available\n",
    "# adjusted_people_vaccinated = 0.5*(total_vaccinations) # given that all vaccination brand used by these countries/regions require 2 doses\n",
    "mat_total_vac = df_case_vac['country_region'].isin(list_country_with_total_vac_no_ppl_vac)\n",
    "df_case_vac.loc[mat_total_vac, 'adjusted_people_vaccinated'] = \\\n",
    "0.5*df_case_vac.loc[mat_total_vac, 'total_vaccinations'].fillna(0)"
   ]
  },
  {
   "cell_type": "code",
   "execution_count": 183,
   "id": "9645bece",
   "metadata": {},
   "outputs": [],
   "source": [
    "df_case_vac_ppl_vac = df_case_vac[mat_ppl_vac].dropna(subset=['people_vaccinated'])\n",
    "df_case_vac_total_vac = df_case_vac[mat_total_vac].dropna(subset=['total_vaccinations'])\n",
    "df_case_vac = pd.concat([df_case_vac_ppl_vac, df_case_vac_total_vac])"
   ]
  },
  {
   "cell_type": "code",
   "execution_count": 184,
   "id": "408d1c38",
   "metadata": {},
   "outputs": [
    {
     "data": {
      "text/html": [
       "<div>\n",
       "<style scoped>\n",
       "    .dataframe tbody tr th:only-of-type {\n",
       "        vertical-align: middle;\n",
       "    }\n",
       "\n",
       "    .dataframe tbody tr th {\n",
       "        vertical-align: top;\n",
       "    }\n",
       "\n",
       "    .dataframe thead th {\n",
       "        text-align: right;\n",
       "    }\n",
       "</style>\n",
       "<table border=\"1\" class=\"dataframe\">\n",
       "  <thead>\n",
       "    <tr style=\"text-align: right;\">\n",
       "      <th></th>\n",
       "      <th>date_string</th>\n",
       "      <th>country_region</th>\n",
       "      <th>country_confirmed</th>\n",
       "      <th>location</th>\n",
       "      <th>population</th>\n",
       "      <th>continent</th>\n",
       "      <th>date_org</th>\n",
       "      <th>vaccine</th>\n",
       "      <th>total_vaccinations</th>\n",
       "      <th>people_vaccinated</th>\n",
       "      <th>people_fully_vaccinated</th>\n",
       "      <th>date</th>\n",
       "      <th>daily_country_confirmed</th>\n",
       "      <th>past_week_daily_cases</th>\n",
       "      <th>adjusted_people_vaccinated</th>\n",
       "      <th>past_week_daily_cases_per_100k</th>\n",
       "      <th>percent_adjusted_people_vaccinated</th>\n",
       "    </tr>\n",
       "  </thead>\n",
       "  <tbody>\n",
       "    <tr>\n",
       "      <th>52201</th>\n",
       "      <td>2020-12-13</td>\n",
       "      <td>United Kingdom</td>\n",
       "      <td>1835952.0</td>\n",
       "      <td>United Kingdom</td>\n",
       "      <td>6.788600e+07</td>\n",
       "      <td>Europe</td>\n",
       "      <td>2020-12-13</td>\n",
       "      <td>Pfizer/BioNTech</td>\n",
       "      <td>86465.0</td>\n",
       "      <td>86465.0</td>\n",
       "      <td>NaN</td>\n",
       "      <td>2020-12-13</td>\n",
       "      <td>21554.0</td>\n",
       "      <td>17938.571429</td>\n",
       "      <td>43232.5</td>\n",
       "      <td>26.424551</td>\n",
       "      <td>0.063684</td>\n",
       "    </tr>\n",
       "    <tr>\n",
       "      <th>52546</th>\n",
       "      <td>2020-12-15</td>\n",
       "      <td>Russia</td>\n",
       "      <td>2656601.0</td>\n",
       "      <td>Russia</td>\n",
       "      <td>1.459345e+08</td>\n",
       "      <td>Europe</td>\n",
       "      <td>2020-12-15</td>\n",
       "      <td>Sputnik V</td>\n",
       "      <td>28500.0</td>\n",
       "      <td>28500.0</td>\n",
       "      <td>NaN</td>\n",
       "      <td>2020-12-15</td>\n",
       "      <td>26902.0</td>\n",
       "      <td>27091.428571</td>\n",
       "      <td>14250.0</td>\n",
       "      <td>18.564106</td>\n",
       "      <td>0.009765</td>\n",
       "    </tr>\n",
       "    <tr>\n",
       "      <th>53257</th>\n",
       "      <td>2020-12-19</td>\n",
       "      <td>Israel</td>\n",
       "      <td>370152.0</td>\n",
       "      <td>Israel</td>\n",
       "      <td>8.655541e+06</td>\n",
       "      <td>Asia</td>\n",
       "      <td>2020-12-19</td>\n",
       "      <td>Pfizer/BioNTech</td>\n",
       "      <td>63.0</td>\n",
       "      <td>63.0</td>\n",
       "      <td>NaN</td>\n",
       "      <td>2020-12-19</td>\n",
       "      <td>2177.0</td>\n",
       "      <td>2411.857143</td>\n",
       "      <td>31.5</td>\n",
       "      <td>27.864892</td>\n",
       "      <td>0.000364</td>\n",
       "    </tr>\n",
       "    <tr>\n",
       "      <th>53545</th>\n",
       "      <td>2020-12-20</td>\n",
       "      <td>United Kingdom</td>\n",
       "      <td>2010080.0</td>\n",
       "      <td>United Kingdom</td>\n",
       "      <td>6.788600e+07</td>\n",
       "      <td>Europe</td>\n",
       "      <td>2020-12-20</td>\n",
       "      <td>Pfizer/BioNTech</td>\n",
       "      <td>675286.0</td>\n",
       "      <td>675286.0</td>\n",
       "      <td>NaN</td>\n",
       "      <td>2020-12-20</td>\n",
       "      <td>27249.0</td>\n",
       "      <td>24875.428571</td>\n",
       "      <td>337643.0</td>\n",
       "      <td>36.642941</td>\n",
       "      <td>0.497368</td>\n",
       "    </tr>\n",
       "    <tr>\n",
       "      <th>53547</th>\n",
       "      <td>2020-12-20</td>\n",
       "      <td>US</td>\n",
       "      <td>17766416.0</td>\n",
       "      <td>United States</td>\n",
       "      <td>3.294663e+08</td>\n",
       "      <td>North America</td>\n",
       "      <td>2020-12-20</td>\n",
       "      <td>Pfizer/BioNTech</td>\n",
       "      <td>556208.0</td>\n",
       "      <td>556208.0</td>\n",
       "      <td>NaN</td>\n",
       "      <td>2020-12-20</td>\n",
       "      <td>191894.0</td>\n",
       "      <td>217395.857143</td>\n",
       "      <td>278104.0</td>\n",
       "      <td>65.984250</td>\n",
       "      <td>0.084410</td>\n",
       "    </tr>\n",
       "    <tr>\n",
       "      <th>...</th>\n",
       "      <td>...</td>\n",
       "      <td>...</td>\n",
       "      <td>...</td>\n",
       "      <td>...</td>\n",
       "      <td>...</td>\n",
       "      <td>...</td>\n",
       "      <td>...</td>\n",
       "      <td>...</td>\n",
       "      <td>...</td>\n",
       "      <td>...</td>\n",
       "      <td>...</td>\n",
       "      <td>...</td>\n",
       "      <td>...</td>\n",
       "      <td>...</td>\n",
       "      <td>...</td>\n",
       "      <td>...</td>\n",
       "      <td>...</td>\n",
       "    </tr>\n",
       "    <tr>\n",
       "      <th>73811</th>\n",
       "      <td>2021-04-04</td>\n",
       "      <td>Qatar</td>\n",
       "      <td>182548.0</td>\n",
       "      <td>Qatar</td>\n",
       "      <td>2.881060e+06</td>\n",
       "      <td>Asia</td>\n",
       "      <td>2021-04-04</td>\n",
       "      <td>Pfizer/BioNTech</td>\n",
       "      <td>910851.0</td>\n",
       "      <td>NaN</td>\n",
       "      <td>NaN</td>\n",
       "      <td>2021-04-04</td>\n",
       "      <td>870.0</td>\n",
       "      <td>773.285714</td>\n",
       "      <td>455425.5</td>\n",
       "      <td>26.840320</td>\n",
       "      <td>15.807567</td>\n",
       "    </tr>\n",
       "    <tr>\n",
       "      <th>73788</th>\n",
       "      <td>2021-04-04</td>\n",
       "      <td>Mongolia</td>\n",
       "      <td>9598.0</td>\n",
       "      <td>Mongolia</td>\n",
       "      <td>3.278292e+06</td>\n",
       "      <td>Asia</td>\n",
       "      <td>2021-04-04</td>\n",
       "      <td>Oxford/AstraZeneca</td>\n",
       "      <td>376373.0</td>\n",
       "      <td>NaN</td>\n",
       "      <td>NaN</td>\n",
       "      <td>2021-04-04</td>\n",
       "      <td>0.0</td>\n",
       "      <td>415.000000</td>\n",
       "      <td>188186.5</td>\n",
       "      <td>12.659031</td>\n",
       "      <td>5.740382</td>\n",
       "    </tr>\n",
       "    <tr>\n",
       "      <th>73821</th>\n",
       "      <td>2021-04-04</td>\n",
       "      <td>Saudi Arabia</td>\n",
       "      <td>392009.0</td>\n",
       "      <td>Saudi Arabia</td>\n",
       "      <td>3.481387e+07</td>\n",
       "      <td>Asia</td>\n",
       "      <td>2021-04-04</td>\n",
       "      <td>Oxford/AstraZeneca, Pfizer/BioNTech</td>\n",
       "      <td>4994576.0</td>\n",
       "      <td>NaN</td>\n",
       "      <td>NaN</td>\n",
       "      <td>2021-04-04</td>\n",
       "      <td>684.0</td>\n",
       "      <td>602.142857</td>\n",
       "      <td>2497288.0</td>\n",
       "      <td>1.729606</td>\n",
       "      <td>7.173257</td>\n",
       "    </tr>\n",
       "    <tr>\n",
       "      <th>73707</th>\n",
       "      <td>2021-04-04</td>\n",
       "      <td>China</td>\n",
       "      <td>102872.0</td>\n",
       "      <td>China</td>\n",
       "      <td>1.404676e+09</td>\n",
       "      <td>Asia</td>\n",
       "      <td>2021-04-04</td>\n",
       "      <td>Sinopharm/Beijing, Sinopharm/Wuhan, Sinovac</td>\n",
       "      <td>139970000.0</td>\n",
       "      <td>NaN</td>\n",
       "      <td>NaN</td>\n",
       "      <td>2021-04-04</td>\n",
       "      <td>1073.0</td>\n",
       "      <td>172.714286</td>\n",
       "      <td>69985000.0</td>\n",
       "      <td>0.012296</td>\n",
       "      <td>4.982287</td>\n",
       "    </tr>\n",
       "    <tr>\n",
       "      <th>73724</th>\n",
       "      <td>2021-04-04</td>\n",
       "      <td>Egypt</td>\n",
       "      <td>204256.0</td>\n",
       "      <td>Egypt</td>\n",
       "      <td>1.023344e+08</td>\n",
       "      <td>Africa</td>\n",
       "      <td>2021-04-04</td>\n",
       "      <td>Oxford/AstraZeneca, Sinopharm/Beijing</td>\n",
       "      <td>148987.0</td>\n",
       "      <td>NaN</td>\n",
       "      <td>NaN</td>\n",
       "      <td>2021-04-04</td>\n",
       "      <td>710.0</td>\n",
       "      <td>698.857143</td>\n",
       "      <td>74493.5</td>\n",
       "      <td>0.682915</td>\n",
       "      <td>0.072794</td>\n",
       "    </tr>\n",
       "  </tbody>\n",
       "</table>\n",
       "<p>4894 rows × 17 columns</p>\n",
       "</div>"
      ],
      "text/plain": [
       "      date_string  country_region  country_confirmed        location  \\\n",
       "52201  2020-12-13  United Kingdom          1835952.0  United Kingdom   \n",
       "52546  2020-12-15          Russia          2656601.0          Russia   \n",
       "53257  2020-12-19          Israel           370152.0          Israel   \n",
       "53545  2020-12-20  United Kingdom          2010080.0  United Kingdom   \n",
       "53547  2020-12-20              US         17766416.0   United States   \n",
       "...           ...             ...                ...             ...   \n",
       "73811  2021-04-04           Qatar           182548.0           Qatar   \n",
       "73788  2021-04-04        Mongolia             9598.0        Mongolia   \n",
       "73821  2021-04-04    Saudi Arabia           392009.0    Saudi Arabia   \n",
       "73707  2021-04-04           China           102872.0           China   \n",
       "73724  2021-04-04           Egypt           204256.0           Egypt   \n",
       "\n",
       "         population      continent    date_org  \\\n",
       "52201  6.788600e+07         Europe  2020-12-13   \n",
       "52546  1.459345e+08         Europe  2020-12-15   \n",
       "53257  8.655541e+06           Asia  2020-12-19   \n",
       "53545  6.788600e+07         Europe  2020-12-20   \n",
       "53547  3.294663e+08  North America  2020-12-20   \n",
       "...             ...            ...         ...   \n",
       "73811  2.881060e+06           Asia  2021-04-04   \n",
       "73788  3.278292e+06           Asia  2021-04-04   \n",
       "73821  3.481387e+07           Asia  2021-04-04   \n",
       "73707  1.404676e+09           Asia  2021-04-04   \n",
       "73724  1.023344e+08         Africa  2021-04-04   \n",
       "\n",
       "                                           vaccine  total_vaccinations  \\\n",
       "52201                              Pfizer/BioNTech             86465.0   \n",
       "52546                                    Sputnik V             28500.0   \n",
       "53257                              Pfizer/BioNTech                63.0   \n",
       "53545                              Pfizer/BioNTech            675286.0   \n",
       "53547                              Pfizer/BioNTech            556208.0   \n",
       "...                                            ...                 ...   \n",
       "73811                              Pfizer/BioNTech            910851.0   \n",
       "73788                           Oxford/AstraZeneca            376373.0   \n",
       "73821          Oxford/AstraZeneca, Pfizer/BioNTech           4994576.0   \n",
       "73707  Sinopharm/Beijing, Sinopharm/Wuhan, Sinovac         139970000.0   \n",
       "73724        Oxford/AstraZeneca, Sinopharm/Beijing            148987.0   \n",
       "\n",
       "       people_vaccinated  people_fully_vaccinated       date  \\\n",
       "52201            86465.0                      NaN 2020-12-13   \n",
       "52546            28500.0                      NaN 2020-12-15   \n",
       "53257               63.0                      NaN 2020-12-19   \n",
       "53545           675286.0                      NaN 2020-12-20   \n",
       "53547           556208.0                      NaN 2020-12-20   \n",
       "...                  ...                      ...        ...   \n",
       "73811                NaN                      NaN 2021-04-04   \n",
       "73788                NaN                      NaN 2021-04-04   \n",
       "73821                NaN                      NaN 2021-04-04   \n",
       "73707                NaN                      NaN 2021-04-04   \n",
       "73724                NaN                      NaN 2021-04-04   \n",
       "\n",
       "       daily_country_confirmed  past_week_daily_cases  \\\n",
       "52201                  21554.0           17938.571429   \n",
       "52546                  26902.0           27091.428571   \n",
       "53257                   2177.0            2411.857143   \n",
       "53545                  27249.0           24875.428571   \n",
       "53547                 191894.0          217395.857143   \n",
       "...                        ...                    ...   \n",
       "73811                    870.0             773.285714   \n",
       "73788                      0.0             415.000000   \n",
       "73821                    684.0             602.142857   \n",
       "73707                   1073.0             172.714286   \n",
       "73724                    710.0             698.857143   \n",
       "\n",
       "       adjusted_people_vaccinated  past_week_daily_cases_per_100k  \\\n",
       "52201                     43232.5                       26.424551   \n",
       "52546                     14250.0                       18.564106   \n",
       "53257                        31.5                       27.864892   \n",
       "53545                    337643.0                       36.642941   \n",
       "53547                    278104.0                       65.984250   \n",
       "...                           ...                             ...   \n",
       "73811                    455425.5                       26.840320   \n",
       "73788                    188186.5                       12.659031   \n",
       "73821                   2497288.0                        1.729606   \n",
       "73707                  69985000.0                        0.012296   \n",
       "73724                     74493.5                        0.682915   \n",
       "\n",
       "       percent_adjusted_people_vaccinated  \n",
       "52201                            0.063684  \n",
       "52546                            0.009765  \n",
       "53257                            0.000364  \n",
       "53545                            0.497368  \n",
       "53547                            0.084410  \n",
       "...                                   ...  \n",
       "73811                           15.807567  \n",
       "73788                            5.740382  \n",
       "73821                            7.173257  \n",
       "73707                            4.982287  \n",
       "73724                            0.072794  \n",
       "\n",
       "[4894 rows x 17 columns]"
      ]
     },
     "execution_count": 184,
     "metadata": {},
     "output_type": "execute_result"
    }
   ],
   "source": [
    "df_case_vac"
   ]
  },
  {
   "cell_type": "code",
   "execution_count": 185,
   "id": "001324e4",
   "metadata": {},
   "outputs": [],
   "source": [
    "# df_curr_case_vac\n",
    "df_case_vac['past_week_daily_cases_per_100k'] = (df_case_vac['past_week_daily_cases']/\n",
    "                                                      df_case_vac['population']*100000)\n",
    "\n",
    "df_case_vac['percent_adjusted_people_vaccinated'] = (df_case_vac['adjusted_people_vaccinated']/\n",
    "                                                          df_case_vac['population']*100)"
   ]
  },
  {
   "cell_type": "code",
   "execution_count": 186,
   "id": "77fc1df5",
   "metadata": {},
   "outputs": [],
   "source": [
    "# Get the max date row with groupby after dropping rows that do not have total vaccications values\n",
    "df_curr_case_vac = (df_case_vac[df_case_vac.\n",
    "                                     groupby('country_region')['date'].\n",
    "                                     transform('max') == df_case_vac['date']])"
   ]
  },
  {
   "cell_type": "code",
   "execution_count": 187,
   "id": "8db0bf22",
   "metadata": {},
   "outputs": [
    {
     "data": {
      "text/html": [
       "<div>\n",
       "<style scoped>\n",
       "    .dataframe tbody tr th:only-of-type {\n",
       "        vertical-align: middle;\n",
       "    }\n",
       "\n",
       "    .dataframe tbody tr th {\n",
       "        vertical-align: top;\n",
       "    }\n",
       "\n",
       "    .dataframe thead th {\n",
       "        text-align: right;\n",
       "    }\n",
       "</style>\n",
       "<table border=\"1\" class=\"dataframe\">\n",
       "  <thead>\n",
       "    <tr style=\"text-align: right;\">\n",
       "      <th></th>\n",
       "      <th>date_string</th>\n",
       "      <th>country_region</th>\n",
       "      <th>country_confirmed</th>\n",
       "      <th>location</th>\n",
       "      <th>population</th>\n",
       "      <th>continent</th>\n",
       "      <th>date_org</th>\n",
       "      <th>vaccine</th>\n",
       "      <th>total_vaccinations</th>\n",
       "      <th>people_vaccinated</th>\n",
       "      <th>people_fully_vaccinated</th>\n",
       "      <th>date</th>\n",
       "      <th>daily_country_confirmed</th>\n",
       "      <th>past_week_daily_cases</th>\n",
       "      <th>adjusted_people_vaccinated</th>\n",
       "      <th>past_week_daily_cases_per_100k</th>\n",
       "      <th>percent_adjusted_people_vaccinated</th>\n",
       "    </tr>\n",
       "  </thead>\n",
       "  <tbody>\n",
       "    <tr>\n",
       "      <th>55356</th>\n",
       "      <td>2020-12-30</td>\n",
       "      <td>Guinea</td>\n",
       "      <td>13688.0</td>\n",
       "      <td>Guinea</td>\n",
       "      <td>1.313279e+07</td>\n",
       "      <td>Africa</td>\n",
       "      <td>2020-12-30</td>\n",
       "      <td>Sputnik V</td>\n",
       "      <td>25.0</td>\n",
       "      <td>25.0</td>\n",
       "      <td>0.0</td>\n",
       "      <td>2020-12-30</td>\n",
       "      <td>0.0</td>\n",
       "      <td>15.714286</td>\n",
       "      <td>12.5</td>\n",
       "      <td>0.119657</td>\n",
       "      <td>0.000095</td>\n",
       "    </tr>\n",
       "    <tr>\n",
       "      <th>62448</th>\n",
       "      <td>2021-02-05</td>\n",
       "      <td>Burma</td>\n",
       "      <td>141104.0</td>\n",
       "      <td>Myanmar</td>\n",
       "      <td>5.440979e+07</td>\n",
       "      <td>Asia</td>\n",
       "      <td>2021-02-05</td>\n",
       "      <td>Oxford/AstraZeneca</td>\n",
       "      <td>380000.0</td>\n",
       "      <td>380000.0</td>\n",
       "      <td>NaN</td>\n",
       "      <td>2021-02-05</td>\n",
       "      <td>177.0</td>\n",
       "      <td>278.857143</td>\n",
       "      <td>190000.0</td>\n",
       "      <td>0.512513</td>\n",
       "      <td>0.349202</td>\n",
       "    </tr>\n",
       "    <tr>\n",
       "      <th>64869</th>\n",
       "      <td>2021-02-17</td>\n",
       "      <td>Mauritius</td>\n",
       "      <td>603.0</td>\n",
       "      <td>Mauritius</td>\n",
       "      <td>1.271767e+06</td>\n",
       "      <td>Africa</td>\n",
       "      <td>2021-02-17</td>\n",
       "      <td>Oxford/AstraZeneca</td>\n",
       "      <td>3843.0</td>\n",
       "      <td>3843.0</td>\n",
       "      <td>NaN</td>\n",
       "      <td>2021-02-17</td>\n",
       "      <td>2.0</td>\n",
       "      <td>1.285714</td>\n",
       "      <td>1921.5</td>\n",
       "      <td>0.101097</td>\n",
       "      <td>0.151089</td>\n",
       "    </tr>\n",
       "    <tr>\n",
       "      <th>65673</th>\n",
       "      <td>2021-02-21</td>\n",
       "      <td>Pakistan</td>\n",
       "      <td>571174.0</td>\n",
       "      <td>Pakistan</td>\n",
       "      <td>2.208923e+08</td>\n",
       "      <td>Asia</td>\n",
       "      <td>2021-02-21</td>\n",
       "      <td>Oxford/AstraZeneca, Sinopharm/Beijing, Sputnik V</td>\n",
       "      <td>72882.0</td>\n",
       "      <td>72882.0</td>\n",
       "      <td>NaN</td>\n",
       "      <td>2021-02-21</td>\n",
       "      <td>1328.0</td>\n",
       "      <td>1163.571429</td>\n",
       "      <td>36441.0</td>\n",
       "      <td>0.526760</td>\n",
       "      <td>0.016497</td>\n",
       "    </tr>\n",
       "    <tr>\n",
       "      <th>65734</th>\n",
       "      <td>2021-02-22</td>\n",
       "      <td>Albania</td>\n",
       "      <td>100246.0</td>\n",
       "      <td>Albania</td>\n",
       "      <td>2.877800e+06</td>\n",
       "      <td>Europe</td>\n",
       "      <td>2021-02-22</td>\n",
       "      <td>Pfizer/BioNTech</td>\n",
       "      <td>6728.0</td>\n",
       "      <td>6073.0</td>\n",
       "      <td>655.0</td>\n",
       "      <td>2021-02-22</td>\n",
       "      <td>1184.0</td>\n",
       "      <td>1024.428571</td>\n",
       "      <td>3364.0</td>\n",
       "      <td>35.597629</td>\n",
       "      <td>0.116895</td>\n",
       "    </tr>\n",
       "    <tr>\n",
       "      <th>...</th>\n",
       "      <td>...</td>\n",
       "      <td>...</td>\n",
       "      <td>...</td>\n",
       "      <td>...</td>\n",
       "      <td>...</td>\n",
       "      <td>...</td>\n",
       "      <td>...</td>\n",
       "      <td>...</td>\n",
       "      <td>...</td>\n",
       "      <td>...</td>\n",
       "      <td>...</td>\n",
       "      <td>...</td>\n",
       "      <td>...</td>\n",
       "      <td>...</td>\n",
       "      <td>...</td>\n",
       "      <td>...</td>\n",
       "      <td>...</td>\n",
       "    </tr>\n",
       "    <tr>\n",
       "      <th>73811</th>\n",
       "      <td>2021-04-04</td>\n",
       "      <td>Qatar</td>\n",
       "      <td>182548.0</td>\n",
       "      <td>Qatar</td>\n",
       "      <td>2.881060e+06</td>\n",
       "      <td>Asia</td>\n",
       "      <td>2021-04-04</td>\n",
       "      <td>Pfizer/BioNTech</td>\n",
       "      <td>910851.0</td>\n",
       "      <td>NaN</td>\n",
       "      <td>NaN</td>\n",
       "      <td>2021-04-04</td>\n",
       "      <td>870.0</td>\n",
       "      <td>773.285714</td>\n",
       "      <td>455425.5</td>\n",
       "      <td>26.840320</td>\n",
       "      <td>15.807567</td>\n",
       "    </tr>\n",
       "    <tr>\n",
       "      <th>73788</th>\n",
       "      <td>2021-04-04</td>\n",
       "      <td>Mongolia</td>\n",
       "      <td>9598.0</td>\n",
       "      <td>Mongolia</td>\n",
       "      <td>3.278292e+06</td>\n",
       "      <td>Asia</td>\n",
       "      <td>2021-04-04</td>\n",
       "      <td>Oxford/AstraZeneca</td>\n",
       "      <td>376373.0</td>\n",
       "      <td>NaN</td>\n",
       "      <td>NaN</td>\n",
       "      <td>2021-04-04</td>\n",
       "      <td>0.0</td>\n",
       "      <td>415.000000</td>\n",
       "      <td>188186.5</td>\n",
       "      <td>12.659031</td>\n",
       "      <td>5.740382</td>\n",
       "    </tr>\n",
       "    <tr>\n",
       "      <th>73821</th>\n",
       "      <td>2021-04-04</td>\n",
       "      <td>Saudi Arabia</td>\n",
       "      <td>392009.0</td>\n",
       "      <td>Saudi Arabia</td>\n",
       "      <td>3.481387e+07</td>\n",
       "      <td>Asia</td>\n",
       "      <td>2021-04-04</td>\n",
       "      <td>Oxford/AstraZeneca, Pfizer/BioNTech</td>\n",
       "      <td>4994576.0</td>\n",
       "      <td>NaN</td>\n",
       "      <td>NaN</td>\n",
       "      <td>2021-04-04</td>\n",
       "      <td>684.0</td>\n",
       "      <td>602.142857</td>\n",
       "      <td>2497288.0</td>\n",
       "      <td>1.729606</td>\n",
       "      <td>7.173257</td>\n",
       "    </tr>\n",
       "    <tr>\n",
       "      <th>73707</th>\n",
       "      <td>2021-04-04</td>\n",
       "      <td>China</td>\n",
       "      <td>102872.0</td>\n",
       "      <td>China</td>\n",
       "      <td>1.404676e+09</td>\n",
       "      <td>Asia</td>\n",
       "      <td>2021-04-04</td>\n",
       "      <td>Sinopharm/Beijing, Sinopharm/Wuhan, Sinovac</td>\n",
       "      <td>139970000.0</td>\n",
       "      <td>NaN</td>\n",
       "      <td>NaN</td>\n",
       "      <td>2021-04-04</td>\n",
       "      <td>1073.0</td>\n",
       "      <td>172.714286</td>\n",
       "      <td>69985000.0</td>\n",
       "      <td>0.012296</td>\n",
       "      <td>4.982287</td>\n",
       "    </tr>\n",
       "    <tr>\n",
       "      <th>73724</th>\n",
       "      <td>2021-04-04</td>\n",
       "      <td>Egypt</td>\n",
       "      <td>204256.0</td>\n",
       "      <td>Egypt</td>\n",
       "      <td>1.023344e+08</td>\n",
       "      <td>Africa</td>\n",
       "      <td>2021-04-04</td>\n",
       "      <td>Oxford/AstraZeneca, Sinopharm/Beijing</td>\n",
       "      <td>148987.0</td>\n",
       "      <td>NaN</td>\n",
       "      <td>NaN</td>\n",
       "      <td>2021-04-04</td>\n",
       "      <td>710.0</td>\n",
       "      <td>698.857143</td>\n",
       "      <td>74493.5</td>\n",
       "      <td>0.682915</td>\n",
       "      <td>0.072794</td>\n",
       "    </tr>\n",
       "  </tbody>\n",
       "</table>\n",
       "<p>146 rows × 17 columns</p>\n",
       "</div>"
      ],
      "text/plain": [
       "      date_string country_region  country_confirmed      location  \\\n",
       "55356  2020-12-30         Guinea            13688.0        Guinea   \n",
       "62448  2021-02-05          Burma           141104.0       Myanmar   \n",
       "64869  2021-02-17      Mauritius              603.0     Mauritius   \n",
       "65673  2021-02-21       Pakistan           571174.0      Pakistan   \n",
       "65734  2021-02-22        Albania           100246.0       Albania   \n",
       "...           ...            ...                ...           ...   \n",
       "73811  2021-04-04          Qatar           182548.0         Qatar   \n",
       "73788  2021-04-04       Mongolia             9598.0      Mongolia   \n",
       "73821  2021-04-04   Saudi Arabia           392009.0  Saudi Arabia   \n",
       "73707  2021-04-04          China           102872.0         China   \n",
       "73724  2021-04-04          Egypt           204256.0         Egypt   \n",
       "\n",
       "         population continent    date_org  \\\n",
       "55356  1.313279e+07    Africa  2020-12-30   \n",
       "62448  5.440979e+07      Asia  2021-02-05   \n",
       "64869  1.271767e+06    Africa  2021-02-17   \n",
       "65673  2.208923e+08      Asia  2021-02-21   \n",
       "65734  2.877800e+06    Europe  2021-02-22   \n",
       "...             ...       ...         ...   \n",
       "73811  2.881060e+06      Asia  2021-04-04   \n",
       "73788  3.278292e+06      Asia  2021-04-04   \n",
       "73821  3.481387e+07      Asia  2021-04-04   \n",
       "73707  1.404676e+09      Asia  2021-04-04   \n",
       "73724  1.023344e+08    Africa  2021-04-04   \n",
       "\n",
       "                                                vaccine  total_vaccinations  \\\n",
       "55356                                         Sputnik V                25.0   \n",
       "62448                                Oxford/AstraZeneca            380000.0   \n",
       "64869                                Oxford/AstraZeneca              3843.0   \n",
       "65673  Oxford/AstraZeneca, Sinopharm/Beijing, Sputnik V             72882.0   \n",
       "65734                                   Pfizer/BioNTech              6728.0   \n",
       "...                                                 ...                 ...   \n",
       "73811                                   Pfizer/BioNTech            910851.0   \n",
       "73788                                Oxford/AstraZeneca            376373.0   \n",
       "73821               Oxford/AstraZeneca, Pfizer/BioNTech           4994576.0   \n",
       "73707       Sinopharm/Beijing, Sinopharm/Wuhan, Sinovac         139970000.0   \n",
       "73724             Oxford/AstraZeneca, Sinopharm/Beijing            148987.0   \n",
       "\n",
       "       people_vaccinated  people_fully_vaccinated       date  \\\n",
       "55356               25.0                      0.0 2020-12-30   \n",
       "62448           380000.0                      NaN 2021-02-05   \n",
       "64869             3843.0                      NaN 2021-02-17   \n",
       "65673            72882.0                      NaN 2021-02-21   \n",
       "65734             6073.0                    655.0 2021-02-22   \n",
       "...                  ...                      ...        ...   \n",
       "73811                NaN                      NaN 2021-04-04   \n",
       "73788                NaN                      NaN 2021-04-04   \n",
       "73821                NaN                      NaN 2021-04-04   \n",
       "73707                NaN                      NaN 2021-04-04   \n",
       "73724                NaN                      NaN 2021-04-04   \n",
       "\n",
       "       daily_country_confirmed  past_week_daily_cases  \\\n",
       "55356                      0.0              15.714286   \n",
       "62448                    177.0             278.857143   \n",
       "64869                      2.0               1.285714   \n",
       "65673                   1328.0            1163.571429   \n",
       "65734                   1184.0            1024.428571   \n",
       "...                        ...                    ...   \n",
       "73811                    870.0             773.285714   \n",
       "73788                      0.0             415.000000   \n",
       "73821                    684.0             602.142857   \n",
       "73707                   1073.0             172.714286   \n",
       "73724                    710.0             698.857143   \n",
       "\n",
       "       adjusted_people_vaccinated  past_week_daily_cases_per_100k  \\\n",
       "55356                        12.5                        0.119657   \n",
       "62448                    190000.0                        0.512513   \n",
       "64869                      1921.5                        0.101097   \n",
       "65673                     36441.0                        0.526760   \n",
       "65734                      3364.0                       35.597629   \n",
       "...                           ...                             ...   \n",
       "73811                    455425.5                       26.840320   \n",
       "73788                    188186.5                       12.659031   \n",
       "73821                   2497288.0                        1.729606   \n",
       "73707                  69985000.0                        0.012296   \n",
       "73724                     74493.5                        0.682915   \n",
       "\n",
       "       percent_adjusted_people_vaccinated  \n",
       "55356                            0.000095  \n",
       "62448                            0.349202  \n",
       "64869                            0.151089  \n",
       "65673                            0.016497  \n",
       "65734                            0.116895  \n",
       "...                                   ...  \n",
       "73811                           15.807567  \n",
       "73788                            5.740382  \n",
       "73821                            7.173257  \n",
       "73707                            4.982287  \n",
       "73724                            0.072794  \n",
       "\n",
       "[146 rows x 17 columns]"
      ]
     },
     "execution_count": 187,
     "metadata": {},
     "output_type": "execute_result"
    }
   ],
   "source": [
    "df_curr_case_vac"
   ]
  },
  {
   "cell_type": "code",
   "execution_count": 188,
   "id": "c0c7a645",
   "metadata": {},
   "outputs": [
    {
     "data": {
      "text/plain": [
       "<AxesSubplot:xlabel='percent_adjusted_people_vaccinated', ylabel='past_week_daily_cases_per_100k'>"
      ]
     },
     "execution_count": 188,
     "metadata": {},
     "output_type": "execute_result"
    },
    {
     "data": {
      "image/png": "[encoded data removed]",
      "text/plain": [
       "<Figure size 432x288 with 1 Axes>"
      ]
     },
     "metadata": {
      "needs_background": "light"
     },
     "output_type": "display_data"
    }
   ],
   "source": [
    "df_curr_case_vac.plot.scatter(x='percent_adjusted_people_vaccinated', y='past_week_daily_cases_per_100k')"
   ]
  },
  {
   "cell_type": "code",
   "execution_count": 175,
   "id": "a906e9f1",
   "metadata": {},
   "outputs": [],
   "source": [
    "# for c in list_country:\n",
    "#     mat_c = df_confirmed_loc_vac['country_region'] == c\n",
    "#     df_temp = df_confirmed_loc_vacp[mat_c].copy()\n",
    "    \n",
    "#     mat_t = (df_temp['date'] >= prev_date) & (df_temp['date'] <= curr_date)\n",
    "#     df_temp = df_temp[mat_t].sort_values('date')\n",
    "    \n",
    "#     df_temp['past_week_daily_cases'] = df_temp['daily_country_confirmed'].rolling(window=7, min_periods=7).mean()"
   ]
  },
  {
   "cell_type": "markdown",
   "id": "e469717a",
   "metadata": {},
   "source": [
    "### Plotly (Dash) plots"
   ]
  },
  {
   "cell_type": "code",
   "execution_count": 176,
   "id": "e119a5e9",
   "metadata": {},
   "outputs": [],
   "source": [
    "from jupyter_dash import JupyterDash"
   ]
  },
  {
   "cell_type": "code",
   "execution_count": 177,
   "id": "dc9ca634",
   "metadata": {},
   "outputs": [],
   "source": [
    "import plotly.express as px\n",
    "import plotly.tools as tls\n",
    "import plotly.graph_objects as go"
   ]
  },
  {
   "cell_type": "code",
   "execution_count": 178,
   "id": "f12a50ae",
   "metadata": {},
   "outputs": [],
   "source": [
    "x_col = 'percent_adjusted_people_vaccinated'\n",
    "y_col = 'past_week_daily_cases'"
   ]
  },
  {
   "cell_type": "code",
   "execution_count": 179,
   "id": "fb85e3db",
   "metadata": {},
   "outputs": [],
   "source": [
    "df_curr_case_vac['country_confirmed_log'] = np.log10(df_curr_case_vac['country_confirmed'])\n",
    "# df_curr_case_vac['past_week_daily_cases_test'] = df_curr_case_vac['past_week_daily_cases']/10\n"
   ]
  },
  {
   "cell_type": "code",
   "execution_count": 180,
   "id": "d95591f3",
   "metadata": {},
   "outputs": [
    {
     "data": {
      "text/plain": [
       "array(['Asia', 'Africa', 'North America', 'Europe', 'Oceania',\n",
       "       'South America'], dtype=object)"
      ]
     },
     "execution_count": 180,
     "metadata": {},
     "output_type": "execute_result"
    }
   ],
   "source": [
    "df_curr_case_vac['continent'].unique()"
   ]
  },
  {
   "cell_type": "code",
   "execution_count": 181,
   "id": "8649a064",
   "metadata": {},
   "outputs": [],
   "source": [
    "# x = df_curr_case_vac[x_col]\n",
    "# y = df_curr_case_vac[y_col]\n",
    "# country_region = df_curr_case_vac['country_region']\n",
    "\n",
    "# country_region = df_curr_case_vac['country_region']\n",
    "# date_used = df_curr_case_vac['date_string']"
   ]
  },
  {
   "cell_type": "code",
   "execution_count": 189,
   "id": "bfbe4fec",
   "metadata": {},
   "outputs": [
    {
     "data": {
      "application/vnd.plotly.v1+json": {
       "config": {
        "plotlyServerURL": "https://plot.ly"
       },
       "data": [
        {
         "customdata": [
          "2020-12-30",
          "2021-02-17",
          "2021-03-13",
          "2021-03-24",
          "2021-03-24",
          "2021-03-24",
          "2021-03-25",
          "2021-03-28",
          "2021-03-29",
          "2021-03-29",
          "2021-03-30",
          "2021-03-30",
          "2021-03-31",
          "2021-04-01",
          "2021-04-01",
          "2021-04-01",
          "2021-04-01",
          "2021-04-01",
          "2021-04-02",
          "2021-04-02",
          "2021-04-02",
          "2021-04-03",
          "2021-04-03",
          "2021-04-03",
          "2021-04-03",
          "2021-04-03",
          "2021-04-04",
          "2021-02-19",
          "2021-04-04"
         ],
         "hoveron": "points",
         "hovertemplate": "Country: %{text}<br>Date: %{customdata}<br>Past week daily average: %{y: .0f}<br>Percent adjusted people vaccinated: %{x: .2f}%<br><extra></extra>",
         "marker": {
          "line": {
           "color": "DarkSlateGrey",
           "width": 2
          },
          "opacity": 0.8,
          "size": 12
         },
         "mode": "markers",
         "name": "Africa",
         "text": [
          "Guinea",
          "Mauritius",
          "Mozambique",
          "Togo",
          "Cabo Verde",
          "Ghana",
          "Rwanda",
          "Gambia",
          "Sao Tome and Principe",
          "Angola",
          "Uganda",
          "Sierra Leone",
          "Kenya",
          "Nigeria",
          "Mauritania",
          "Seychelles",
          "South Africa",
          "Equatorial Guinea",
          "Malawi",
          "Mali",
          "Gabon",
          "Namibia",
          "Morocco",
          "Zimbabwe",
          "Tunisia",
          "Cote d'Ivoire",
          "Senegal",
          "Algeria",
          "Egypt"
         ],
         "type": "scatter",
         "x": [
          9.518158819541191e-05,
          0.15108899664797087,
          0.07428947957371254,
          0.2542175213441374,
          0.19640711670036046,
          0.8045584349986781,
          1.3469748673759048,
          0.1105863289228457,
          2.218460401257523,
          0.19891214907637217,
          0.09859425897990862,
          0.16194088367973614,
          0.15042504086752598,
          0.1986190551550877,
          0.01468924609541343,
          51.90156599552572,
          0.4537311479987165,
          0.5017872607333649,
          0.40460367000340564,
          0.0015875889358433336,
          0.0546562742617247,
          0.041205612464166465,
          11.163296420498439,
          0.4471360183630048,
          0.3390413329206511,
          0.09092330715332977,
          0.9043784822320686,
          0.0855167800683783,
          0.07279419023922971
         ],
         "y": [
          15.714285714285714,
          1.2857142857142858,
          353.57142857142856,
          117.85714285714286,
          57.285714285714285,
          237.85714285714286,
          89.42857142857143,
          30.285714285714285,
          9.571428571428571,
          47.142857142857146,
          19,
          3.142857142857143,
          1354.142857142857,
          101.85714285714286,
          22.428571428571427,
          36.142857142857146,
          1164,
          9,
          28.142857142857142,
          78.85714285714286,
          160.57142857142858,
          200.28571428571428,
          484.2857142857143,
          14,
          1164.142857142857,
          282.42857142857144,
          71,
          195.57142857142858,
          698.8571428571429
         ]
        },
        {
         "customdata": [
          "2021-02-05",
          "2021-02-21",
          "2021-02-23",
          "2021-03-08",
          "2021-03-16",
          "2021-03-17",
          "2021-03-18",
          "2021-03-19",
          "2021-03-24",
          "2021-03-30",
          "2021-03-30",
          "2021-03-30",
          "2021-03-31",
          "2021-03-31",
          "2021-04-02",
          "2021-04-03",
          "2021-04-03",
          "2021-04-03",
          "2021-04-03",
          "2021-04-03",
          "2021-04-03",
          "2021-04-03",
          "2021-04-04",
          "2021-04-04",
          "2021-04-04",
          "2021-04-04",
          "2021-04-04",
          "2021-04-04",
          "2021-04-04",
          "2021-04-04",
          "2021-04-04",
          "2021-04-04",
          "2021-04-04",
          "2021-03-19",
          "2021-04-03",
          "2021-04-04",
          "2021-04-04",
          "2021-04-04",
          "2021-04-04"
         ],
         "hoveron": "points",
         "hovertemplate": "Country: %{text}<br>Date: %{customdata}<br>Past week daily average: %{y: .0f}<br>Percent adjusted people vaccinated: %{x: .2f}%<br><extra></extra>",
         "marker": {
          "line": {
           "color": "DarkSlateGrey",
           "width": 2
          },
          "opacity": 0.8,
          "size": 12
         },
         "mode": "markers",
         "name": "Asia",
         "text": [
          "Burma",
          "Pakistan",
          "United Arab Emirates",
          "Kuwait",
          "Afghanistan",
          "Laos",
          "Kazakhstan",
          "Iran",
          "Cambodia",
          "Philippines",
          "Thailand",
          "Jordan",
          "Oman",
          "Georgia",
          "Japan",
          "Malaysia",
          "Vietnam",
          "Taiwan*",
          "Singapore",
          "Brunei",
          "Bangladesh",
          "Azerbaijan",
          "Turkey",
          "West Bank and Gaza",
          "Lebanon",
          "Sri Lanka",
          "Bahrain",
          "Bhutan",
          "India",
          "Indonesia",
          "Israel",
          "Korea, South",
          "Iraq",
          "Nepal",
          "Maldives",
          "Qatar",
          "Mongolia",
          "Saudi Arabia",
          "China"
         ],
         "type": "scatter",
         "x": [
          0.3492018367134417,
          0.016497177532161587,
          28.65538299765429,
          4.214900939290675,
          0.0693582087148281,
          0.2799236237065593,
          0.29290279706659955,
          0.07393060701175728,
          0.8856675449703215,
          0.33715353338580284,
          0.1292815593724113,
          2.0052797472150727,
          1.4834855605133883,
          0.09804032162038516,
          0.43355815672826636,
          1.216560663446868,
          0.026882967877188024,
          0.035852881005089904,
          12.973598300133856,
          0.038858652793365686,
          1.6554297249386136,
          4.560592947651066,
          9.890474007733568,
          1.007122336229784,
          1.6705877802492497,
          2.158661109359859,
          24.018193646739537,
          30.24907596045681,
          2.866119987002795,
          2.312254414034684,
          58.395477532831286,
          0.9655839454278021,
          0.11563303258377532,
          2.745667953744281,
          22.546721623851614,
          15.807567353682325,
          5.740382491858565,
          7.173256564690156,
          4.982286559922313
         ],
         "y": [
          278.85714285714283,
          1163.5714285714287,
          2947.8571428571427,
          1388.5714285714287,
          15.571428571428571,
          0.14285714285714285,
          1072.4285714285713,
          7882.142857142857,
          44.57142857142857,
          8586,
          128.14285714285714,
          7504.571428571428,
          813.1428571428571,
          423.85714285714283,
          2104.714285714286,
          1218.4285714285713,
          4.857142857142857,
          3.7142857142857144,
          26.428571428571427,
          1,
          5208.857142857143,
          1948.857142857143,
          37991,
          1962,
          2682.1428571428573,
          208,
          993.1428571428571,
          2.857142857142857,
          73412.14285714286,
          5074.571428571428,
          383.85714285714283,
          503.14285714285717,
          5863.285714285715,
          79.28571428571429,
          187.28571428571428,
          773.2857142857143,
          415,
          602.1428571428571,
          172.71428571428572
         ]
        },
        {
         "customdata": [
          "2021-02-22",
          "2021-03-15",
          "2021-03-19",
          "2021-03-22",
          "2021-03-26",
          "2021-03-28",
          "2021-03-31",
          "2021-04-01",
          "2021-04-01",
          "2021-04-01",
          "2021-04-01",
          "2021-04-02",
          "2021-04-03",
          "2021-04-03",
          "2021-04-03",
          "2021-04-03",
          "2021-04-03",
          "2021-04-03",
          "2021-04-03",
          "2021-04-03",
          "2021-04-03",
          "2021-04-03",
          "2021-04-03",
          "2021-04-03",
          "2021-04-03",
          "2021-04-04",
          "2021-04-04",
          "2021-04-04",
          "2021-04-04",
          "2021-04-04",
          "2021-04-04",
          "2021-04-04",
          "2021-04-04",
          "2021-04-04",
          "2021-04-04",
          "2021-04-04",
          "2021-04-04",
          "2021-04-04",
          "2021-04-04",
          "2021-04-04",
          "2021-04-04",
          "2021-04-04",
          "2021-04-04",
          "2021-04-01"
         ],
         "hoveron": "points",
         "hovertemplate": "Country: %{text}<br>Date: %{customdata}<br>Past week daily average: %{y: .0f}<br>Percent adjusted people vaccinated: %{x: .2f}%<br><extra></extra>",
         "marker": {
          "line": {
           "color": "DarkSlateGrey",
           "width": 2
          },
          "opacity": 0.8,
          "size": 12
         },
         "mode": "markers",
         "name": "Europe",
         "text": [
          "Albania",
          "Andorra",
          "Monaco",
          "Portugal",
          "Belarus",
          "Netherlands",
          "Switzerland",
          "Norway",
          "Luxembourg",
          "Sweden",
          "Ireland",
          "Germany",
          "North Macedonia",
          "Romania",
          "Malta",
          "United Kingdom",
          "San Marino",
          "Spain",
          "Latvia",
          "Croatia",
          "Cyprus",
          "Iceland",
          "Denmark",
          "France",
          "Greece",
          "Poland",
          "Russia",
          "Lithuania",
          "Moldova",
          "Montenegro",
          "Ukraine",
          "Serbia",
          "Slovakia",
          "Slovenia",
          "Bulgaria",
          "Austria",
          "Belgium",
          "Czechia",
          "Hungary",
          "Kosovo",
          "Italy",
          "Estonia",
          "Finland",
          "Liechtenstein"
         ],
         "type": "scatter",
         "x": [
          0.11689485023281673,
          5.41189413058953,
          23.036642544083172,
          8.2943052104959,
          0.3525015183630654,
          6.9406758952926,
          8.874949766702587,
          9.065487207543955,
          7.936087006530602,
          8.251997421595817,
          9.046293123490724,
          8.578068268329929,
          0.21606716009561383,
          8.471137531018549,
          24.059709334849245,
          27.181416511126503,
          19.85237786551948,
          9.141950247100922,
          3.8901453820958736,
          6.27825028719197,
          6.689217226662117,
          10.93084249084249,
          10.111403208761848,
          9.454482853626752,
          8.780351942846705,
          8.79723425654692,
          4.152826549671682,
          10.375709283100154,
          0.5890485361417545,
          2.3652123516468118,
          0.3336392830993558,
          14.693735071308645,
          9.33690169851765,
          9.687474145378493,
          3.623616507002646,
          9.76316841357257,
          8.945727796330784,
          8.447959852766584,
          16.955136201069323,
          0.0690468115287185,
          9.164139066387474,
          10.998583532033358,
          9.597943804395026,
          7.997482759524871
         ],
         "y": [
          1024.4285714285713,
          32,
          10.571428571428571,
          467.57142857142856,
          1209.857142857143,
          7490.714285714285,
          1802.4285714285713,
          853.5714285714286,
          247.85714285714286,
          5557.428571428572,
          527.1428571428571,
          17387.85714285714,
          1118.5714285714287,
          5488,
          58.857142857142854,
          4116,
          32.57142857142857,
          5152.857142857143,
          496.2857142857143,
          1757.857142857143,
          415.2857142857143,
          6,
          762.8571428571429,
          39418.142857142855,
          2967.4285714285716,
          27694.14285714286,
          8647.285714285714,
          775.8571428571429,
          1247.7142857142858,
          355.7142857142857,
          14377.42857142857,
          4678.285714285715,
          1091,
          1054.2857142857142,
          3498.4285714285716,
          3175.1428571428573,
          4487.285714285715,
          5530.428571428572,
          7804.857142857143,
          986.7142857142857,
          19684.85714285714,
          885.5714285714286,
          507,
          4.857142857142857
         ]
        },
        {
         "customdata": [
          "2021-02-27",
          "2021-03-18",
          "2021-03-19",
          "2021-03-24",
          "2021-03-25",
          "2021-03-25",
          "2021-03-27",
          "2021-03-29",
          "2021-03-30",
          "2021-03-31",
          "2021-04-01",
          "2021-04-02",
          "2021-04-02",
          "2021-04-03",
          "2021-04-03",
          "2021-04-04",
          "2021-04-04",
          "2021-04-04",
          "2021-03-25",
          "2021-03-26"
         ],
         "hoveron": "points",
         "hovertemplate": "Country: %{text}<br>Date: %{customdata}<br>Past week daily average: %{y: .0f}<br>Percent adjusted people vaccinated: %{x: .2f}%<br><extra></extra>",
         "marker": {
          "line": {
           "color": "DarkSlateGrey",
           "width": 2
          },
          "opacity": 0.8,
          "size": 12
         },
         "mode": "markers",
         "name": "North America",
         "text": [
          "Trinidad and Tobago",
          "Bahamas",
          "Saint Lucia",
          "Grenada",
          "Jamaica",
          "Dominica",
          "Saint Kitts and Nevis",
          "Costa Rica",
          "Panama",
          "Belize",
          "Dominican Republic",
          "Barbados",
          "El Salvador",
          "Honduras",
          "Guatemala",
          "Mexico",
          "US",
          "Canada",
          "Antigua and Barbuda",
          "Saint Vincent and the Grenadines"
         ],
         "type": "scatter",
         "x": [
          0.03540572965456727,
          0.8900235983399788,
          5.513018096270197,
          4.3641518321350175,
          0.5572138765842182,
          11.152782986762235,
          8.058542637990675,
          3.772540229763213,
          4.218986976820075,
          2.774878590416502,
          5.0771467004132775,
          11.089845530690292,
          1.0277973192628473,
          0.26640125485026767,
          0.3195851964941997,
          3.535424665617141,
          25.439850547620374,
          8.32501402298655,
          13.491544808430683,
          4.740551795001217
         ],
         "y": [
          5.428571428571429,
          22.571428571428573,
          18.714285714285715,
          0,
          563.1428571428571,
          0.5714285714285714,
          0,
          467.85714285714283,
          410.2857142857143,
          0.7142857142857143,
          306.85714285714283,
          9.428571428571429,
          95,
          484.14285714285717,
          414.7142857142857,
          3470.1428571428573,
          64843.57142857143,
          5630.571428571428,
          12.571428571428571,
          4.428571428571429
         ]
        },
        {
         "customdata": [
          "2021-03-13",
          "2021-03-31"
         ],
         "hoveron": "points",
         "hovertemplate": "Country: %{text}<br>Date: %{customdata}<br>Past week daily average: %{y: .0f}<br>Percent adjusted people vaccinated: %{x: .2f}%<br><extra></extra>",
         "marker": {
          "line": {
           "color": "DarkSlateGrey",
           "width": 2
          },
          "opacity": 0.8,
          "size": 12
         },
         "mode": "markers",
         "name": "Oceania",
         "text": [
          "Australia",
          "New Zealand"
         ],
         "type": "scatter",
         "x": [
          0.31283557936660683,
          0.7119730631016792
         ],
         "y": [
          11.857142857142858,
          3.857142857142857
         ]
        },
        {
         "customdata": [
          "2021-04-01",
          "2021-04-01",
          "2021-04-02",
          "2021-04-02",
          "2021-04-03",
          "2021-04-03",
          "2021-04-03",
          "2021-04-03",
          "2021-04-04",
          "2021-04-04",
          "2021-04-04",
          "2021-04-04"
         ],
         "hoveron": "points",
         "hovertemplate": "Country: %{text}<br>Date: %{customdata}<br>Past week daily average: %{y: .0f}<br>Percent adjusted people vaccinated: %{x: .2f}%<br><extra></extra>",
         "marker": {
          "line": {
           "color": "DarkSlateGrey",
           "width": 2
          },
          "opacity": 0.8,
          "size": 12
         },
         "mode": "markers",
         "name": "South America",
         "text": [
          "Paraguay",
          "Ecuador",
          "Venezuela",
          "Suriname",
          "Peru",
          "Colombia",
          "Bolivia",
          "Guyana",
          "Uruguay",
          "Chile",
          "Brazil",
          "Argentina"
         ],
         "type": "scatter",
         "x": [
          0.3189190932249847,
          0.802315471352475,
          0.17231712695443227,
          2.3660408363647525,
          1.3070636081461742,
          2.3397347131503,
          1.3784211450172872,
          2.5724707237473603,
          11.30137745424439,
          28.214386021831,
          4.9562915372991085,
          4.684624627650499
         ],
         "y": [
          1977.7142857142858,
          1706.857142857143,
          1083.7142857142858,
          5.285714285714286,
          7994.428571428572,
          8673,
          748,
          62.714285714285715,
          2660.8571428571427,
          7080.714285714285,
          66176.42857142857,
          11735.42857142857
         ]
        }
       ],
       "layout": {
        "plot_bgcolor": "rgba(0, 0, 0, 0)",
        "template": {
         "data": {
          "bar": [
           {
            "error_x": {
             "color": "#2a3f5f"
            },
            "error_y": {
             "color": "#2a3f5f"
            },
            "marker": {
             "line": {
              "color": "#E5ECF6",
              "width": 0.5
             }
            },
            "type": "bar"
           }
          ],
          "barpolar": [
           {
            "marker": {
             "line": {
              "color": "#E5ECF6",
              "width": 0.5
             }
            },
            "type": "barpolar"
           }
          ],
          "carpet": [
           {
            "aaxis": {
             "endlinecolor": "#2a3f5f",
             "gridcolor": "white",
             "linecolor": "white",
             "minorgridcolor": "white",
             "startlinecolor": "#2a3f5f"
            },
            "baxis": {
             "endlinecolor": "#2a3f5f",
             "gridcolor": "white",
             "linecolor": "white",
             "minorgridcolor": "white",
             "startlinecolor": "#2a3f5f"
            },
            "type": "carpet"
           }
          ],
          "choropleth": [
           {
            "colorbar": {
             "outlinewidth": 0,
             "ticks": ""
            },
            "type": "choropleth"
           }
          ],
          "contour": [
           {
            "colorbar": {
             "outlinewidth": 0,
             "ticks": ""
            },
            "colorscale": [
             [
              0,
              "#0d0887"
             ],
             [
              0.1111111111111111,
              "#46039f"
             ],
             [
              0.2222222222222222,
              "#7201a8"
             ],
             [
              0.3333333333333333,
              "#9c179e"
             ],
             [
              0.4444444444444444,
              "#bd3786"
             ],
             [
              0.5555555555555556,
              "#d8576b"
             ],
             [
              0.6666666666666666,
              "#ed7953"
             ],
             [
              0.7777777777777778,
              "#fb9f3a"
             ],
             [
              0.8888888888888888,
              "#fdca26"
             ],
             [
              1,
              "#f0f921"
             ]
            ],
            "type": "contour"
           }
          ],
          "contourcarpet": [
           {
            "colorbar": {
             "outlinewidth": 0,
             "ticks": ""
            },
            "type": "contourcarpet"
           }
          ],
          "heatmap": [
           {
            "colorbar": {
             "outlinewidth": 0,
             "ticks": ""
            },
            "colorscale": [
             [
              0,
              "#0d0887"
             ],
             [
              0.1111111111111111,
              "#46039f"
             ],
             [
              0.2222222222222222,
              "#7201a8"
             ],
             [
              0.3333333333333333,
              "#9c179e"
             ],
             [
              0.4444444444444444,
              "#bd3786"
             ],
             [
              0.5555555555555556,
              "#d8576b"
             ],
             [
              0.6666666666666666,
              "#ed7953"
             ],
             [
              0.7777777777777778,
              "#fb9f3a"
             ],
             [
              0.8888888888888888,
              "#fdca26"
             ],
             [
              1,
              "#f0f921"
             ]
            ],
            "type": "heatmap"
           }
          ],
          "heatmapgl": [
           {
            "colorbar": {
             "outlinewidth": 0,
             "ticks": ""
            },
            "colorscale": [
             [
              0,
              "#0d0887"
             ],
             [
              0.1111111111111111,
              "#46039f"
             ],
             [
              0.2222222222222222,
              "#7201a8"
             ],
             [
              0.3333333333333333,
              "#9c179e"
             ],
             [
              0.4444444444444444,
              "#bd3786"
             ],
             [
              0.5555555555555556,
              "#d8576b"
             ],
             [
              0.6666666666666666,
              "#ed7953"
             ],
             [
              0.7777777777777778,
              "#fb9f3a"
             ],
             [
              0.8888888888888888,
              "#fdca26"
             ],
             [
              1,
              "#f0f921"
             ]
            ],
            "type": "heatmapgl"
           }
          ],
          "histogram": [
           {
            "marker": {
             "colorbar": {
              "outlinewidth": 0,
              "ticks": ""
             }
            },
            "type": "histogram"
           }
          ],
          "histogram2d": [
           {
            "colorbar": {
             "outlinewidth": 0,
             "ticks": ""
            },
            "colorscale": [
             [
              0,
              "#0d0887"
             ],
             [
              0.1111111111111111,
              "#46039f"
             ],
             [
              0.2222222222222222,
              "#7201a8"
             ],
             [
              0.3333333333333333,
              "#9c179e"
             ],
             [
              0.4444444444444444,
              "#bd3786"
             ],
             [
              0.5555555555555556,
              "#d8576b"
             ],
             [
              0.6666666666666666,
              "#ed7953"
             ],
             [
              0.7777777777777778,
              "#fb9f3a"
             ],
             [
              0.8888888888888888,
              "#fdca26"
             ],
             [
              1,
              "#f0f921"
             ]
            ],
            "type": "histogram2d"
           }
          ],
          "histogram2dcontour": [
           {
            "colorbar": {
             "outlinewidth": 0,
             "ticks": ""
            },
            "colorscale": [
             [
              0,
              "#0d0887"
             ],
             [
              0.1111111111111111,
              "#46039f"
             ],
             [
              0.2222222222222222,
              "#7201a8"
             ],
             [
              0.3333333333333333,
              "#9c179e"
             ],
             [
              0.4444444444444444,
              "#bd3786"
             ],
             [
              0.5555555555555556,
              "#d8576b"
             ],
             [
              0.6666666666666666,
              "#ed7953"
             ],
             [
              0.7777777777777778,
              "#fb9f3a"
             ],
             [
              0.8888888888888888,
              "#fdca26"
             ],
             [
              1,
              "#f0f921"
             ]
            ],
            "type": "histogram2dcontour"
           }
          ],
          "mesh3d": [
           {
            "colorbar": {
             "outlinewidth": 0,
             "ticks": ""
            },
            "type": "mesh3d"
           }
          ],
          "parcoords": [
           {
            "line": {
             "colorbar": {
              "outlinewidth": 0,
              "ticks": ""
             }
            },
            "type": "parcoords"
           }
          ],
          "pie": [
           {
            "automargin": true,
            "type": "pie"
           }
          ],
          "scatter": [
           {
            "marker": {
             "colorbar": {
              "outlinewidth": 0,
              "ticks": ""
             }
            },
            "type": "scatter"
           }
          ],
          "scatter3d": [
           {
            "line": {
             "colorbar": {
              "outlinewidth": 0,
              "ticks": ""
             }
            },
            "marker": {
             "colorbar": {
              "outlinewidth": 0,
              "ticks": ""
             }
            },
            "type": "scatter3d"
           }
          ],
          "scattercarpet": [
           {
            "marker": {
             "colorbar": {
              "outlinewidth": 0,
              "ticks": ""
             }
            },
            "type": "scattercarpet"
           }
          ],
          "scattergeo": [
           {
            "marker": {
             "colorbar": {
              "outlinewidth": 0,
              "ticks": ""
             }
            },
            "type": "scattergeo"
           }
          ],
          "scattergl": [
           {
            "marker": {
             "colorbar": {
              "outlinewidth": 0,
              "ticks": ""
             }
            },
            "type": "scattergl"
           }
          ],
          "scattermapbox": [
           {
            "marker": {
             "colorbar": {
              "outlinewidth": 0,
              "ticks": ""
             }
            },
            "type": "scattermapbox"
           }
          ],
          "scatterpolar": [
           {
            "marker": {
             "colorbar": {
              "outlinewidth": 0,
              "ticks": ""
             }
            },
            "type": "scatterpolar"
           }
          ],
          "scatterpolargl": [
           {
            "marker": {
             "colorbar": {
              "outlinewidth": 0,
              "ticks": ""
             }
            },
            "type": "scatterpolargl"
           }
          ],
          "scatterternary": [
           {
            "marker": {
             "colorbar": {
              "outlinewidth": 0,
              "ticks": ""
             }
            },
            "type": "scatterternary"
           }
          ],
          "surface": [
           {
            "colorbar": {
             "outlinewidth": 0,
             "ticks": ""
            },
            "colorscale": [
             [
              0,
              "#0d0887"
             ],
             [
              0.1111111111111111,
              "#46039f"
             ],
             [
              0.2222222222222222,
              "#7201a8"
             ],
             [
              0.3333333333333333,
              "#9c179e"
             ],
             [
              0.4444444444444444,
              "#bd3786"
             ],
             [
              0.5555555555555556,
              "#d8576b"
             ],
             [
              0.6666666666666666,
              "#ed7953"
             ],
             [
              0.7777777777777778,
              "#fb9f3a"
             ],
             [
              0.8888888888888888,
              "#fdca26"
             ],
             [
              1,
              "#f0f921"
             ]
            ],
            "type": "surface"
           }
          ],
          "table": [
           {
            "cells": {
             "fill": {
              "color": "#EBF0F8"
             },
             "line": {
              "color": "white"
             }
            },
            "header": {
             "fill": {
              "color": "#C8D4E3"
             },
             "line": {
              "color": "white"
             }
            },
            "type": "table"
           }
          ]
         },
         "layout": {
          "annotationdefaults": {
           "arrowcolor": "#2a3f5f",
           "arrowhead": 0,
           "arrowwidth": 1
          },
          "autotypenumbers": "strict",
          "coloraxis": {
           "colorbar": {
            "outlinewidth": 0,
            "ticks": ""
           }
          },
          "colorscale": {
           "diverging": [
            [
             0,
             "#8e0152"
            ],
            [
             0.1,
             "#c51b7d"
            ],
            [
             0.2,
             "#de77ae"
            ],
            [
             0.3,
             "#f1b6da"
            ],
            [
             0.4,
             "#fde0ef"
            ],
            [
             0.5,
             "#f7f7f7"
            ],
            [
             0.6,
             "#e6f5d0"
            ],
            [
             0.7,
             "#b8e186"
            ],
            [
             0.8,
             "#7fbc41"
            ],
            [
             0.9,
             "#4d9221"
            ],
            [
             1,
             "#276419"
            ]
           ],
           "sequential": [
            [
             0,
             "#0d0887"
            ],
            [
             0.1111111111111111,
             "#46039f"
            ],
            [
             0.2222222222222222,
             "#7201a8"
            ],
            [
             0.3333333333333333,
             "#9c179e"
            ],
            [
             0.4444444444444444,
             "#bd3786"
            ],
            [
             0.5555555555555556,
             "#d8576b"
            ],
            [
             0.6666666666666666,
             "#ed7953"
            ],
            [
             0.7777777777777778,
             "#fb9f3a"
            ],
            [
             0.8888888888888888,
             "#fdca26"
            ],
            [
             1,
             "#f0f921"
            ]
           ],
           "sequentialminus": [
            [
             0,
             "#0d0887"
            ],
            [
             0.1111111111111111,
             "#46039f"
            ],
            [
             0.2222222222222222,
             "#7201a8"
            ],
            [
             0.3333333333333333,
             "#9c179e"
            ],
            [
             0.4444444444444444,
             "#bd3786"
            ],
            [
             0.5555555555555556,
             "#d8576b"
            ],
            [
             0.6666666666666666,
             "#ed7953"
            ],
            [
             0.7777777777777778,
             "#fb9f3a"
            ],
            [
             0.8888888888888888,
             "#fdca26"
            ],
            [
             1,
             "#f0f921"
            ]
           ]
          },
          "colorway": [
           "#636efa",
           "#EF553B",
           "#00cc96",
           "#ab63fa",
           "#FFA15A",
           "#19d3f3",
           "#FF6692",
           "#B6E880",
           "#FF97FF",
           "#FECB52"
          ],
          "font": {
           "color": "#2a3f5f"
          },
          "geo": {
           "bgcolor": "white",
           "lakecolor": "white",
           "landcolor": "#E5ECF6",
           "showlakes": true,
           "showland": true,
           "subunitcolor": "white"
          },
          "hoverlabel": {
           "align": "left"
          },
          "hovermode": "closest",
          "mapbox": {
           "style": "light"
          },
          "paper_bgcolor": "white",
          "plot_bgcolor": "#E5ECF6",
          "polar": {
           "angularaxis": {
            "gridcolor": "white",
            "linecolor": "white",
            "ticks": ""
           },
           "bgcolor": "#E5ECF6",
           "radialaxis": {
            "gridcolor": "white",
            "linecolor": "white",
            "ticks": ""
           }
          },
          "scene": {
           "xaxis": {
            "backgroundcolor": "#E5ECF6",
            "gridcolor": "white",
            "gridwidth": 2,
            "linecolor": "white",
            "showbackground": true,
            "ticks": "",
            "zerolinecolor": "white"
           },
           "yaxis": {
            "backgroundcolor": "#E5ECF6",
            "gridcolor": "white",
            "gridwidth": 2,
            "linecolor": "white",
            "showbackground": true,
            "ticks": "",
            "zerolinecolor": "white"
           },
           "zaxis": {
            "backgroundcolor": "#E5ECF6",
            "gridcolor": "white",
            "gridwidth": 2,
            "linecolor": "white",
            "showbackground": true,
            "ticks": "",
            "zerolinecolor": "white"
           }
          },
          "shapedefaults": {
           "line": {
            "color": "#2a3f5f"
           }
          },
          "ternary": {
           "aaxis": {
            "gridcolor": "white",
            "linecolor": "white",
            "ticks": ""
           },
           "baxis": {
            "gridcolor": "white",
            "linecolor": "white",
            "ticks": ""
           },
           "bgcolor": "#E5ECF6",
           "caxis": {
            "gridcolor": "white",
            "linecolor": "white",
            "ticks": ""
           }
          },
          "title": {
           "x": 0.05
          },
          "xaxis": {
           "automargin": true,
           "gridcolor": "white",
           "linecolor": "white",
           "ticks": "",
           "title": {
            "standoff": 15
           },
           "zerolinecolor": "white",
           "zerolinewidth": 2
          },
          "yaxis": {
           "automargin": true,
           "gridcolor": "white",
           "linecolor": "white",
           "ticks": "",
           "title": {
            "standoff": 15
           },
           "zerolinecolor": "white",
           "zerolinewidth": 2
          }
         }
        },
        "xaxis": {
         "linecolor": "black",
         "linewidth": 1,
         "showline": true,
         "ticks": "inside",
         "title": {
          "text": "Adjusted people vaccinated (%)"
         }
        },
        "yaxis": {
         "linecolor": "black",
         "linewidth": 1,
         "showline": true,
         "ticks": "inside",
         "title": {
          "text": "Past week daily average cases (number of people)"
         }
        }
       }
      },
      "text/html": [
       "<div>                            <div id=\"86cf6797-2673-4a34-827a-6c464f9d4c4c\" class=\"plotly-graph-div\" style=\"height:525px; width:100%;\"></div>            <script type=\"text/javascript\">                require([\"plotly\"], function(Plotly) {                    window.PLOTLYENV=window.PLOTLYENV || {};                                    if (document.getElementById(\"86cf6797-2673-4a34-827a-6c464f9d4c4c\")) {                    Plotly.newPlot(                        \"86cf6797-2673-4a34-827a-6c464f9d4c4c\",                        [{\"customdata\": [\"2020-12-30\", \"2021-02-17\", \"2021-03-13\", \"2021-03-24\", \"2021-03-24\", \"2021-03-24\", \"2021-03-25\", \"2021-03-28\", \"2021-03-29\", \"2021-03-29\", \"2021-03-30\", \"2021-03-30\", \"2021-03-31\", \"2021-04-01\", \"2021-04-01\", \"2021-04-01\", \"2021-04-01\", \"2021-04-01\", \"2021-04-02\", \"2021-04-02\", \"2021-04-02\", \"2021-04-03\", \"2021-04-03\", \"2021-04-03\", \"2021-04-03\", \"2021-04-03\", \"2021-04-04\", \"2021-02-19\", \"2021-04-04\"], \"hoveron\": \"points\", \"hovertemplate\": \"Country: %{text}<br>Date: %{customdata}<br>Past week daily average: %{y: .0f}<br>Percent adjusted people vaccinated: %{x: .2f}%<br><extra></extra>\", \"marker\": {\"line\": {\"color\": \"DarkSlateGrey\", \"width\": 2}, \"opacity\": 0.8, \"size\": 12}, \"mode\": \"markers\", \"name\": \"Africa\", \"text\": [\"Guinea\", \"Mauritius\", \"Mozambique\", \"Togo\", \"Cabo Verde\", \"Ghana\", \"Rwanda\", \"Gambia\", \"Sao Tome and Principe\", \"Angola\", \"Uganda\", \"Sierra Leone\", \"Kenya\", \"Nigeria\", \"Mauritania\", \"Seychelles\", \"South Africa\", \"Equatorial Guinea\", \"Malawi\", \"Mali\", \"Gabon\", \"Namibia\", \"Morocco\", \"Zimbabwe\", \"Tunisia\", \"Cote d'Ivoire\", \"Senegal\", \"Algeria\", \"Egypt\"], \"type\": \"scatter\", \"x\": [9.518158819541191e-05, 0.15108899664797087, 0.07428947957371254, 0.2542175213441374, 0.19640711670036046, 0.8045584349986781, 1.3469748673759048, 0.1105863289228457, 2.218460401257523, 0.19891214907637217, 0.09859425897990862, 0.16194088367973614, 0.15042504086752598, 0.1986190551550877, 0.01468924609541343, 51.90156599552572, 0.4537311479987165, 0.5017872607333649, 0.40460367000340564, 0.0015875889358433336, 0.0546562742617247, 0.041205612464166465, 11.163296420498439, 0.4471360183630048, 0.3390413329206511, 0.09092330715332977, 0.9043784822320686, 0.0855167800683783, 0.07279419023922971], \"y\": [15.714285714285714, 1.2857142857142858, 353.57142857142856, 117.85714285714286, 57.285714285714285, 237.85714285714286, 89.42857142857143, 30.285714285714285, 9.571428571428571, 47.142857142857146, 19.0, 3.142857142857143, 1354.142857142857, 101.85714285714286, 22.428571428571427, 36.142857142857146, 1164.0, 9.0, 28.142857142857142, 78.85714285714286, 160.57142857142858, 200.28571428571428, 484.2857142857143, 14.0, 1164.142857142857, 282.42857142857144, 71.0, 195.57142857142858, 698.8571428571429]}, {\"customdata\": [\"2021-02-05\", \"2021-02-21\", \"2021-02-23\", \"2021-03-08\", \"2021-03-16\", \"2021-03-17\", \"2021-03-18\", \"2021-03-19\", \"2021-03-24\", \"2021-03-30\", \"2021-03-30\", \"2021-03-30\", \"2021-03-31\", \"2021-03-31\", \"2021-04-02\", \"2021-04-03\", \"2021-04-03\", \"2021-04-03\", \"2021-04-03\", \"2021-04-03\", \"2021-04-03\", \"2021-04-03\", \"2021-04-04\", \"2021-04-04\", \"2021-04-04\", \"2021-04-04\", \"2021-04-04\", \"2021-04-04\", \"2021-04-04\", \"2021-04-04\", \"2021-04-04\", \"2021-04-04\", \"2021-04-04\", \"2021-03-19\", \"2021-04-03\", \"2021-04-04\", \"2021-04-04\", \"2021-04-04\", \"2021-04-04\"], \"hoveron\": \"points\", \"hovertemplate\": \"Country: %{text}<br>Date: %{customdata}<br>Past week daily average: %{y: .0f}<br>Percent adjusted people vaccinated: %{x: .2f}%<br><extra></extra>\", \"marker\": {\"line\": {\"color\": \"DarkSlateGrey\", \"width\": 2}, \"opacity\": 0.8, \"size\": 12}, \"mode\": \"markers\", \"name\": \"Asia\", \"text\": [\"Burma\", \"Pakistan\", \"United Arab Emirates\", \"Kuwait\", \"Afghanistan\", \"Laos\", \"Kazakhstan\", \"Iran\", \"Cambodia\", \"Philippines\", \"Thailand\", \"Jordan\", \"Oman\", \"Georgia\", \"Japan\", \"Malaysia\", \"Vietnam\", \"Taiwan*\", \"Singapore\", \"Brunei\", \"Bangladesh\", \"Azerbaijan\", \"Turkey\", \"West Bank and Gaza\", \"Lebanon\", \"Sri Lanka\", \"Bahrain\", \"Bhutan\", \"India\", \"Indonesia\", \"Israel\", \"Korea, South\", \"Iraq\", \"Nepal\", \"Maldives\", \"Qatar\", \"Mongolia\", \"Saudi Arabia\", \"China\"], \"type\": \"scatter\", \"x\": [0.3492018367134417, 0.016497177532161587, 28.65538299765429, 4.214900939290675, 0.0693582087148281, 0.2799236237065593, 0.29290279706659955, 0.07393060701175728, 0.8856675449703215, 0.33715353338580284, 0.1292815593724113, 2.0052797472150727, 1.4834855605133883, 0.09804032162038516, 0.43355815672826636, 1.216560663446868, 0.026882967877188024, 0.035852881005089904, 12.973598300133856, 0.038858652793365686, 1.6554297249386136, 4.560592947651066, 9.890474007733568, 1.007122336229784, 1.6705877802492497, 2.158661109359859, 24.018193646739537, 30.24907596045681, 2.866119987002795, 2.312254414034684, 58.395477532831286, 0.9655839454278021, 0.11563303258377532, 2.745667953744281, 22.546721623851614, 15.807567353682325, 5.740382491858565, 7.173256564690156, 4.982286559922313], \"y\": [278.85714285714283, 1163.5714285714287, 2947.8571428571427, 1388.5714285714287, 15.571428571428571, 0.14285714285714285, 1072.4285714285713, 7882.142857142857, 44.57142857142857, 8586.0, 128.14285714285714, 7504.571428571428, 813.1428571428571, 423.85714285714283, 2104.714285714286, 1218.4285714285713, 4.857142857142857, 3.7142857142857144, 26.428571428571427, 1.0, 5208.857142857143, 1948.857142857143, 37991.0, 1962.0, 2682.1428571428573, 208.0, 993.1428571428571, 2.857142857142857, 73412.14285714286, 5074.571428571428, 383.85714285714283, 503.14285714285717, 5863.285714285715, 79.28571428571429, 187.28571428571428, 773.2857142857143, 415.0, 602.1428571428571, 172.71428571428572]}, {\"customdata\": [\"2021-02-22\", \"2021-03-15\", \"2021-03-19\", \"2021-03-22\", \"2021-03-26\", \"2021-03-28\", \"2021-03-31\", \"2021-04-01\", \"2021-04-01\", \"2021-04-01\", \"2021-04-01\", \"2021-04-02\", \"2021-04-03\", \"2021-04-03\", \"2021-04-03\", \"2021-04-03\", \"2021-04-03\", \"2021-04-03\", \"2021-04-03\", \"2021-04-03\", \"2021-04-03\", \"2021-04-03\", \"2021-04-03\", \"2021-04-03\", \"2021-04-03\", \"2021-04-04\", \"2021-04-04\", \"2021-04-04\", \"2021-04-04\", \"2021-04-04\", \"2021-04-04\", \"2021-04-04\", \"2021-04-04\", \"2021-04-04\", \"2021-04-04\", \"2021-04-04\", \"2021-04-04\", \"2021-04-04\", \"2021-04-04\", \"2021-04-04\", \"2021-04-04\", \"2021-04-04\", \"2021-04-04\", \"2021-04-01\"], \"hoveron\": \"points\", \"hovertemplate\": \"Country: %{text}<br>Date: %{customdata}<br>Past week daily average: %{y: .0f}<br>Percent adjusted people vaccinated: %{x: .2f}%<br><extra></extra>\", \"marker\": {\"line\": {\"color\": \"DarkSlateGrey\", \"width\": 2}, \"opacity\": 0.8, \"size\": 12}, \"mode\": \"markers\", \"name\": \"Europe\", \"text\": [\"Albania\", \"Andorra\", \"Monaco\", \"Portugal\", \"Belarus\", \"Netherlands\", \"Switzerland\", \"Norway\", \"Luxembourg\", \"Sweden\", \"Ireland\", \"Germany\", \"North Macedonia\", \"Romania\", \"Malta\", \"United Kingdom\", \"San Marino\", \"Spain\", \"Latvia\", \"Croatia\", \"Cyprus\", \"Iceland\", \"Denmark\", \"France\", \"Greece\", \"Poland\", \"Russia\", \"Lithuania\", \"Moldova\", \"Montenegro\", \"Ukraine\", \"Serbia\", \"Slovakia\", \"Slovenia\", \"Bulgaria\", \"Austria\", \"Belgium\", \"Czechia\", \"Hungary\", \"Kosovo\", \"Italy\", \"Estonia\", \"Finland\", \"Liechtenstein\"], \"type\": \"scatter\", \"x\": [0.11689485023281673, 5.41189413058953, 23.036642544083172, 8.2943052104959, 0.3525015183630654, 6.9406758952926, 8.874949766702587, 9.065487207543955, 7.936087006530602, 8.251997421595817, 9.046293123490724, 8.578068268329929, 0.21606716009561383, 8.471137531018549, 24.059709334849245, 27.181416511126503, 19.85237786551948, 9.141950247100922, 3.8901453820958736, 6.27825028719197, 6.689217226662117, 10.93084249084249, 10.111403208761848, 9.454482853626752, 8.780351942846705, 8.79723425654692, 4.152826549671682, 10.375709283100154, 0.5890485361417545, 2.3652123516468118, 0.3336392830993558, 14.693735071308645, 9.33690169851765, 9.687474145378493, 3.623616507002646, 9.76316841357257, 8.945727796330784, 8.447959852766584, 16.955136201069323, 0.0690468115287185, 9.164139066387474, 10.998583532033358, 9.597943804395026, 7.997482759524871], \"y\": [1024.4285714285713, 32.0, 10.571428571428571, 467.57142857142856, 1209.857142857143, 7490.714285714285, 1802.4285714285713, 853.5714285714286, 247.85714285714286, 5557.428571428572, 527.1428571428571, 17387.85714285714, 1118.5714285714287, 5488.0, 58.857142857142854, 4116.0, 32.57142857142857, 5152.857142857143, 496.2857142857143, 1757.857142857143, 415.2857142857143, 6.0, 762.8571428571429, 39418.142857142855, 2967.4285714285716, 27694.14285714286, 8647.285714285714, 775.8571428571429, 1247.7142857142858, 355.7142857142857, 14377.42857142857, 4678.285714285715, 1091.0, 1054.2857142857142, 3498.4285714285716, 3175.1428571428573, 4487.285714285715, 5530.428571428572, 7804.857142857143, 986.7142857142857, 19684.85714285714, 885.5714285714286, 507.0, 4.857142857142857]}, {\"customdata\": [\"2021-02-27\", \"2021-03-18\", \"2021-03-19\", \"2021-03-24\", \"2021-03-25\", \"2021-03-25\", \"2021-03-27\", \"2021-03-29\", \"2021-03-30\", \"2021-03-31\", \"2021-04-01\", \"2021-04-02\", \"2021-04-02\", \"2021-04-03\", \"2021-04-03\", \"2021-04-04\", \"2021-04-04\", \"2021-04-04\", \"2021-03-25\", \"2021-03-26\"], \"hoveron\": \"points\", \"hovertemplate\": \"Country: %{text}<br>Date: %{customdata}<br>Past week daily average: %{y: .0f}<br>Percent adjusted people vaccinated: %{x: .2f}%<br><extra></extra>\", \"marker\": {\"line\": {\"color\": \"DarkSlateGrey\", \"width\": 2}, \"opacity\": 0.8, \"size\": 12}, \"mode\": \"markers\", \"name\": \"North America\", \"text\": [\"Trinidad and Tobago\", \"Bahamas\", \"Saint Lucia\", \"Grenada\", \"Jamaica\", \"Dominica\", \"Saint Kitts and Nevis\", \"Costa Rica\", \"Panama\", \"Belize\", \"Dominican Republic\", \"Barbados\", \"El Salvador\", \"Honduras\", \"Guatemala\", \"Mexico\", \"US\", \"Canada\", \"Antigua and Barbuda\", \"Saint Vincent and the Grenadines\"], \"type\": \"scatter\", \"x\": [0.03540572965456727, 0.8900235983399788, 5.513018096270197, 4.3641518321350175, 0.5572138765842182, 11.152782986762235, 8.058542637990675, 3.772540229763213, 4.218986976820075, 2.774878590416502, 5.0771467004132775, 11.089845530690292, 1.0277973192628473, 0.26640125485026767, 0.3195851964941997, 3.535424665617141, 25.439850547620374, 8.32501402298655, 13.491544808430683, 4.740551795001217], \"y\": [5.428571428571429, 22.571428571428573, 18.714285714285715, 0.0, 563.1428571428571, 0.5714285714285714, 0.0, 467.85714285714283, 410.2857142857143, 0.7142857142857143, 306.85714285714283, 9.428571428571429, 95.0, 484.14285714285717, 414.7142857142857, 3470.1428571428573, 64843.57142857143, 5630.571428571428, 12.571428571428571, 4.428571428571429]}, {\"customdata\": [\"2021-03-13\", \"2021-03-31\"], \"hoveron\": \"points\", \"hovertemplate\": \"Country: %{text}<br>Date: %{customdata}<br>Past week daily average: %{y: .0f}<br>Percent adjusted people vaccinated: %{x: .2f}%<br><extra></extra>\", \"marker\": {\"line\": {\"color\": \"DarkSlateGrey\", \"width\": 2}, \"opacity\": 0.8, \"size\": 12}, \"mode\": \"markers\", \"name\": \"Oceania\", \"text\": [\"Australia\", \"New Zealand\"], \"type\": \"scatter\", \"x\": [0.31283557936660683, 0.7119730631016792], \"y\": [11.857142857142858, 3.857142857142857]}, {\"customdata\": [\"2021-04-01\", \"2021-04-01\", \"2021-04-02\", \"2021-04-02\", \"2021-04-03\", \"2021-04-03\", \"2021-04-03\", \"2021-04-03\", \"2021-04-04\", \"2021-04-04\", \"2021-04-04\", \"2021-04-04\"], \"hoveron\": \"points\", \"hovertemplate\": \"Country: %{text}<br>Date: %{customdata}<br>Past week daily average: %{y: .0f}<br>Percent adjusted people vaccinated: %{x: .2f}%<br><extra></extra>\", \"marker\": {\"line\": {\"color\": \"DarkSlateGrey\", \"width\": 2}, \"opacity\": 0.8, \"size\": 12}, \"mode\": \"markers\", \"name\": \"South America\", \"text\": [\"Paraguay\", \"Ecuador\", \"Venezuela\", \"Suriname\", \"Peru\", \"Colombia\", \"Bolivia\", \"Guyana\", \"Uruguay\", \"Chile\", \"Brazil\", \"Argentina\"], \"type\": \"scatter\", \"x\": [0.3189190932249847, 0.802315471352475, 0.17231712695443227, 2.3660408363647525, 1.3070636081461742, 2.3397347131503, 1.3784211450172872, 2.5724707237473603, 11.30137745424439, 28.214386021831, 4.9562915372991085, 4.684624627650499], \"y\": [1977.7142857142858, 1706.857142857143, 1083.7142857142858, 5.285714285714286, 7994.428571428572, 8673.0, 748.0, 62.714285714285715, 2660.8571428571427, 7080.714285714285, 66176.42857142857, 11735.42857142857]}],                        {\"plot_bgcolor\": \"rgba(0, 0, 0, 0)\", \"template\": {\"data\": {\"bar\": [{\"error_x\": {\"color\": \"#2a3f5f\"}, \"error_y\": {\"color\": \"#2a3f5f\"}, \"marker\": {\"line\": {\"color\": \"#E5ECF6\", \"width\": 0.5}}, \"type\": \"bar\"}], \"barpolar\": [{\"marker\": {\"line\": {\"color\": \"#E5ECF6\", \"width\": 0.5}}, \"type\": \"barpolar\"}], \"carpet\": [{\"aaxis\": {\"endlinecolor\": \"#2a3f5f\", \"gridcolor\": \"white\", \"linecolor\": \"white\", \"minorgridcolor\": \"white\", \"startlinecolor\": \"#2a3f5f\"}, \"baxis\": {\"endlinecolor\": \"#2a3f5f\", \"gridcolor\": \"white\", \"linecolor\": \"white\", \"minorgridcolor\": \"white\", \"startlinecolor\": \"#2a3f5f\"}, \"type\": \"carpet\"}], \"choropleth\": [{\"colorbar\": {\"outlinewidth\": 0, \"ticks\": \"\"}, \"type\": \"choropleth\"}], \"contour\": [{\"colorbar\": {\"outlinewidth\": 0, \"ticks\": \"\"}, \"colorscale\": [[0.0, \"#0d0887\"], [0.1111111111111111, \"#46039f\"], [0.2222222222222222, \"#7201a8\"], [0.3333333333333333, \"#9c179e\"], [0.4444444444444444, \"#bd3786\"], [0.5555555555555556, \"#d8576b\"], [0.6666666666666666, \"#ed7953\"], [0.7777777777777778, \"#fb9f3a\"], [0.8888888888888888, \"#fdca26\"], [1.0, \"#f0f921\"]], \"type\": \"contour\"}], \"contourcarpet\": [{\"colorbar\": {\"outlinewidth\": 0, \"ticks\": \"\"}, \"type\": \"contourcarpet\"}], \"heatmap\": [{\"colorbar\": {\"outlinewidth\": 0, \"ticks\": \"\"}, \"colorscale\": [[0.0, \"#0d0887\"], [0.1111111111111111, \"#46039f\"], [0.2222222222222222, \"#7201a8\"], [0.3333333333333333, \"#9c179e\"], [0.4444444444444444, \"#bd3786\"], [0.5555555555555556, \"#d8576b\"], [0.6666666666666666, \"#ed7953\"], [0.7777777777777778, \"#fb9f3a\"], [0.8888888888888888, \"#fdca26\"], [1.0, \"#f0f921\"]], \"type\": \"heatmap\"}], \"heatmapgl\": [{\"colorbar\": {\"outlinewidth\": 0, \"ticks\": \"\"}, \"colorscale\": [[0.0, \"#0d0887\"], [0.1111111111111111, \"#46039f\"], [0.2222222222222222, \"#7201a8\"], [0.3333333333333333, \"#9c179e\"], [0.4444444444444444, \"#bd3786\"], [0.5555555555555556, \"#d8576b\"], [0.6666666666666666, \"#ed7953\"], [0.7777777777777778, \"#fb9f3a\"], [0.8888888888888888, \"#fdca26\"], [1.0, \"#f0f921\"]], \"type\": \"heatmapgl\"}], \"histogram\": [{\"marker\": {\"colorbar\": {\"outlinewidth\": 0, \"ticks\": \"\"}}, \"type\": \"histogram\"}], \"histogram2d\": [{\"colorbar\": {\"outlinewidth\": 0, \"ticks\": \"\"}, \"colorscale\": [[0.0, \"#0d0887\"], [0.1111111111111111, \"#46039f\"], [0.2222222222222222, \"#7201a8\"], [0.3333333333333333, \"#9c179e\"], [0.4444444444444444, \"#bd3786\"], [0.5555555555555556, \"#d8576b\"], [0.6666666666666666, \"#ed7953\"], [0.7777777777777778, \"#fb9f3a\"], [0.8888888888888888, \"#fdca26\"], [1.0, \"#f0f921\"]], \"type\": \"histogram2d\"}], \"histogram2dcontour\": [{\"colorbar\": {\"outlinewidth\": 0, \"ticks\": \"\"}, \"colorscale\": [[0.0, \"#0d0887\"], [0.1111111111111111, \"#46039f\"], [0.2222222222222222, \"#7201a8\"], [0.3333333333333333, \"#9c179e\"], [0.4444444444444444, \"#bd3786\"], [0.5555555555555556, \"#d8576b\"], [0.6666666666666666, \"#ed7953\"], [0.7777777777777778, \"#fb9f3a\"], [0.8888888888888888, \"#fdca26\"], [1.0, \"#f0f921\"]], \"type\": \"histogram2dcontour\"}], \"mesh3d\": [{\"colorbar\": {\"outlinewidth\": 0, \"ticks\": \"\"}, \"type\": \"mesh3d\"}], \"parcoords\": [{\"line\": {\"colorbar\": {\"outlinewidth\": 0, \"ticks\": \"\"}}, \"type\": \"parcoords\"}], \"pie\": [{\"automargin\": true, \"type\": \"pie\"}], \"scatter\": [{\"marker\": {\"colorbar\": {\"outlinewidth\": 0, \"ticks\": \"\"}}, \"type\": \"scatter\"}], \"scatter3d\": [{\"line\": {\"colorbar\": {\"outlinewidth\": 0, \"ticks\": \"\"}}, \"marker\": {\"colorbar\": {\"outlinewidth\": 0, \"ticks\": \"\"}}, \"type\": \"scatter3d\"}], \"scattercarpet\": [{\"marker\": {\"colorbar\": {\"outlinewidth\": 0, \"ticks\": \"\"}}, \"type\": \"scattercarpet\"}], \"scattergeo\": [{\"marker\": {\"colorbar\": {\"outlinewidth\": 0, \"ticks\": \"\"}}, \"type\": \"scattergeo\"}], \"scattergl\": [{\"marker\": {\"colorbar\": {\"outlinewidth\": 0, \"ticks\": \"\"}}, \"type\": \"scattergl\"}], \"scattermapbox\": [{\"marker\": {\"colorbar\": {\"outlinewidth\": 0, \"ticks\": \"\"}}, \"type\": \"scattermapbox\"}], \"scatterpolar\": [{\"marker\": {\"colorbar\": {\"outlinewidth\": 0, \"ticks\": \"\"}}, \"type\": \"scatterpolar\"}], \"scatterpolargl\": [{\"marker\": {\"colorbar\": {\"outlinewidth\": 0, \"ticks\": \"\"}}, \"type\": \"scatterpolargl\"}], \"scatterternary\": [{\"marker\": {\"colorbar\": {\"outlinewidth\": 0, \"ticks\": \"\"}}, \"type\": \"scatterternary\"}], \"surface\": [{\"colorbar\": {\"outlinewidth\": 0, \"ticks\": \"\"}, \"colorscale\": [[0.0, \"#0d0887\"], [0.1111111111111111, \"#46039f\"], [0.2222222222222222, \"#7201a8\"], [0.3333333333333333, \"#9c179e\"], [0.4444444444444444, \"#bd3786\"], [0.5555555555555556, \"#d8576b\"], [0.6666666666666666, \"#ed7953\"], [0.7777777777777778, \"#fb9f3a\"], [0.8888888888888888, \"#fdca26\"], [1.0, \"#f0f921\"]], \"type\": \"surface\"}], \"table\": [{\"cells\": {\"fill\": {\"color\": \"#EBF0F8\"}, \"line\": {\"color\": \"white\"}}, \"header\": {\"fill\": {\"color\": \"#C8D4E3\"}, \"line\": {\"color\": \"white\"}}, \"type\": \"table\"}]}, \"layout\": {\"annotationdefaults\": {\"arrowcolor\": \"#2a3f5f\", \"arrowhead\": 0, \"arrowwidth\": 1}, \"autotypenumbers\": \"strict\", \"coloraxis\": {\"colorbar\": {\"outlinewidth\": 0, \"ticks\": \"\"}}, \"colorscale\": {\"diverging\": [[0, \"#8e0152\"], [0.1, \"#c51b7d\"], [0.2, \"#de77ae\"], [0.3, \"#f1b6da\"], [0.4, \"#fde0ef\"], [0.5, \"#f7f7f7\"], [0.6, \"#e6f5d0\"], [0.7, \"#b8e186\"], [0.8, \"#7fbc41\"], [0.9, \"#4d9221\"], [1, \"#276419\"]], \"sequential\": [[0.0, \"#0d0887\"], [0.1111111111111111, \"#46039f\"], [0.2222222222222222, \"#7201a8\"], [0.3333333333333333, \"#9c179e\"], [0.4444444444444444, \"#bd3786\"], [0.5555555555555556, \"#d8576b\"], [0.6666666666666666, \"#ed7953\"], [0.7777777777777778, \"#fb9f3a\"], [0.8888888888888888, \"#fdca26\"], [1.0, \"#f0f921\"]], \"sequentialminus\": [[0.0, \"#0d0887\"], [0.1111111111111111, \"#46039f\"], [0.2222222222222222, \"#7201a8\"], [0.3333333333333333, \"#9c179e\"], [0.4444444444444444, \"#bd3786\"], [0.5555555555555556, \"#d8576b\"], [0.6666666666666666, \"#ed7953\"], [0.7777777777777778, \"#fb9f3a\"], [0.8888888888888888, \"#fdca26\"], [1.0, \"#f0f921\"]]}, \"colorway\": [\"#636efa\", \"#EF553B\", \"#00cc96\", \"#ab63fa\", \"#FFA15A\", \"#19d3f3\", \"#FF6692\", \"#B6E880\", \"#FF97FF\", \"#FECB52\"], \"font\": {\"color\": \"#2a3f5f\"}, \"geo\": {\"bgcolor\": \"white\", \"lakecolor\": \"white\", \"landcolor\": \"#E5ECF6\", \"showlakes\": true, \"showland\": true, \"subunitcolor\": \"white\"}, \"hoverlabel\": {\"align\": \"left\"}, \"hovermode\": \"closest\", \"mapbox\": {\"style\": \"light\"}, \"paper_bgcolor\": \"white\", \"plot_bgcolor\": \"#E5ECF6\", \"polar\": {\"angularaxis\": {\"gridcolor\": \"white\", \"linecolor\": \"white\", \"ticks\": \"\"}, \"bgcolor\": \"#E5ECF6\", \"radialaxis\": {\"gridcolor\": \"white\", \"linecolor\": \"white\", \"ticks\": \"\"}}, \"scene\": {\"xaxis\": {\"backgroundcolor\": \"#E5ECF6\", \"gridcolor\": \"white\", \"gridwidth\": 2, \"linecolor\": \"white\", \"showbackground\": true, \"ticks\": \"\", \"zerolinecolor\": \"white\"}, \"yaxis\": {\"backgroundcolor\": \"#E5ECF6\", \"gridcolor\": \"white\", \"gridwidth\": 2, \"linecolor\": \"white\", \"showbackground\": true, \"ticks\": \"\", \"zerolinecolor\": \"white\"}, \"zaxis\": {\"backgroundcolor\": \"#E5ECF6\", \"gridcolor\": \"white\", \"gridwidth\": 2, \"linecolor\": \"white\", \"showbackground\": true, \"ticks\": \"\", \"zerolinecolor\": \"white\"}}, \"shapedefaults\": {\"line\": {\"color\": \"#2a3f5f\"}}, \"ternary\": {\"aaxis\": {\"gridcolor\": \"white\", \"linecolor\": \"white\", \"ticks\": \"\"}, \"baxis\": {\"gridcolor\": \"white\", \"linecolor\": \"white\", \"ticks\": \"\"}, \"bgcolor\": \"#E5ECF6\", \"caxis\": {\"gridcolor\": \"white\", \"linecolor\": \"white\", \"ticks\": \"\"}}, \"title\": {\"x\": 0.05}, \"xaxis\": {\"automargin\": true, \"gridcolor\": \"white\", \"linecolor\": \"white\", \"ticks\": \"\", \"title\": {\"standoff\": 15}, \"zerolinecolor\": \"white\", \"zerolinewidth\": 2}, \"yaxis\": {\"automargin\": true, \"gridcolor\": \"white\", \"linecolor\": \"white\", \"ticks\": \"\", \"title\": {\"standoff\": 15}, \"zerolinecolor\": \"white\", \"zerolinewidth\": 2}}}, \"xaxis\": {\"linecolor\": \"black\", \"linewidth\": 1, \"showline\": true, \"ticks\": \"inside\", \"title\": {\"text\": \"Adjusted people vaccinated (%)\"}}, \"yaxis\": {\"linecolor\": \"black\", \"linewidth\": 1, \"showline\": true, \"ticks\": \"inside\", \"title\": {\"text\": \"Past week daily average cases (number of people)\"}}},                        {\"responsive\": true}                    ).then(function(){\n",
       "                            \n",
       "var gd = document.getElementById('86cf6797-2673-4a34-827a-6c464f9d4c4c');\n",
       "var x = new MutationObserver(function (mutations, observer) {{\n",
       "        var display = window.getComputedStyle(gd).display;\n",
       "        if (!display || display === 'none') {{\n",
       "            console.log([gd, 'removed!']);\n",
       "            Plotly.purge(gd);\n",
       "            observer.disconnect();\n",
       "        }}\n",
       "}});\n",
       "\n",
       "// Listen for the removal of the full notebook cells\n",
       "var notebookContainer = gd.closest('#notebook-container');\n",
       "if (notebookContainer) {{\n",
       "    x.observe(notebookContainer, {childList: true});\n",
       "}}\n",
       "\n",
       "// Listen for the clearing of the current output cell\n",
       "var outputEl = gd.closest('.output');\n",
       "if (outputEl) {{\n",
       "    x.observe(outputEl, {childList: true});\n",
       "}}\n",
       "\n",
       "                        })                };                });            </script>        </div>"
      ]
     },
     "metadata": {},
     "output_type": "display_data"
    }
   ],
   "source": [
    "# https://plotly.com/python/hover-text-and-formatting/#advanced-hover-template\n",
    "# https://community.plotly.com/t/hover-data-on-go-scatter-and-or-shared-legends-with-plotly-express/34239\n",
    "fig_case_vac = go.Figure()\n",
    "\n",
    "if y_col == 'past_week_daily_cases_per_100k':\n",
    "    past_week_string = 'Past week daily average case per 100k'\n",
    "else:\n",
    "    past_week_string = 'Past week daily average'\n",
    "\n",
    "for continent_name, continent in df_curr_case_vac.groupby('continent'):\n",
    "    fig_case_vac.add_traces(go.Scatter(x=continent[x_col],\n",
    "                                       y=continent[y_col],\n",
    "                                       mode='markers',\n",
    "                                       hoveron='points',\n",
    "                                       text=continent['country_region'],\n",
    "                                       customdata=continent['date_string'],\n",
    "                                       hovertemplate= \n",
    "                                       \"Country: %{text}<br>\" +\n",
    "                                       \"Date: %{customdata}<br>\" +\n",
    "                                       past_week_string + \": %{y: .0f}<br>\" +\n",
    "                                       \"Percent adjusted people vaccinated: %{x: .2f}%<br>\" +\n",
    "                                       \"<extra></extra>\",\n",
    "                                       name=continent_name)\n",
    "                           )\n",
    "\n",
    "# Change marker size\n",
    "fig_case_vac.update_traces(marker=dict(size=12,\n",
    "                              opacity=0.8,\n",
    "                              line=dict(width=2,\n",
    "                                        color='DarkSlateGrey')),\n",
    "                  selector=dict(mode='markers'))\n",
    "    \n",
    "# Turn background to transparent\n",
    "fig_case_vac.update_layout({\n",
    "'plot_bgcolor': 'rgba(0, 0, 0, 0)'})\n",
    "\n",
    "# Turn on x-axis and y-axis lines\n",
    "fig_case_vac.update_xaxes(showline=True, linewidth=1, linecolor='black', ticks=\"inside\")\n",
    "# Title\n",
    "fig_case_vac.update_xaxes(title_text='Adjusted people vaccinated (%)')\n",
    "# Range\n",
    "# fig.update_xaxes(range=[df_curr_case_vac[x_col].min() - 2, df_curr_case_vac[x_col].max() + 2])\n",
    "\n",
    "\n",
    "fig_case_vac.update_yaxes(showline=True, linewidth=1, linecolor='black', ticks=\"inside\")\n",
    "if y_col == 'past_week_daily_cases_per_100k':\n",
    "    fig_case_vac.update_yaxes(title_text='Past week daily average cases (per 100K people)')\n",
    "else:\n",
    "    fig_case_vac.update_yaxes(title_text='Past week daily average cases (number of people)')\n",
    "    \n",
    "fig_case_vac.show()\n",
    "# \n",
    "# "
   ]
  },
  {
   "cell_type": "markdown",
   "id": "764626f2",
   "metadata": {},
   "source": [
    "#### Country's cases over different vaccination rate"
   ]
  },
  {
   "cell_type": "code",
   "execution_count": 195,
   "id": "f5ed35a3",
   "metadata": {},
   "outputs": [
    {
     "data": {
      "application/vnd.plotly.v1+json": {
       "config": {
        "plotlyServerURL": "https://plot.ly"
       },
       "data": [
        {
         "hoveron": "points",
         "hovertemplate": "Date: %{text}<br>Past week daily average: %{y: .0f}<br>Percent adjusted people vaccinated: %{x: .2f}%<br><extra></extra>",
         "mode": "lines+markers",
         "name": "United Kingdom",
         "text": [
          "2020-12-13",
          "2020-12-20",
          "2020-12-27",
          "2021-01-03",
          "2021-01-10",
          "2021-01-11",
          "2021-01-12",
          "2021-01-13",
          "2021-01-14",
          "2021-01-15",
          "2021-01-16",
          "2021-01-17",
          "2021-01-18",
          "2021-01-19",
          "2021-01-20",
          "2021-01-21",
          "2021-01-22",
          "2021-01-23",
          "2021-01-24",
          "2021-01-25",
          "2021-01-26",
          "2021-01-27",
          "2021-01-28",
          "2021-01-29",
          "2021-01-30",
          "2021-01-31",
          "2021-02-01",
          "2021-02-02",
          "2021-02-03",
          "2021-02-04",
          "2021-02-05",
          "2021-02-06",
          "2021-02-07",
          "2021-02-08",
          "2021-02-09",
          "2021-02-10",
          "2021-02-11",
          "2021-02-12",
          "2021-02-13",
          "2021-02-14",
          "2021-02-15",
          "2021-02-16",
          "2021-02-17",
          "2021-02-18",
          "2021-02-19",
          "2021-02-20",
          "2021-02-21",
          "2021-02-22",
          "2021-02-23",
          "2021-02-24",
          "2021-02-25",
          "2021-02-26",
          "2021-02-27",
          "2021-02-28",
          "2021-03-01",
          "2021-03-02",
          "2021-03-03",
          "2021-03-04",
          "2021-03-05",
          "2021-03-06",
          "2021-03-07",
          "2021-03-08",
          "2021-03-09",
          "2021-03-10",
          "2021-03-11",
          "2021-03-12",
          "2021-03-13",
          "2021-03-14",
          "2021-03-15",
          "2021-03-16",
          "2021-03-17",
          "2021-03-18",
          "2021-03-19",
          "2021-03-20",
          "2021-03-21",
          "2021-03-22",
          "2021-03-23",
          "2021-03-24",
          "2021-03-25",
          "2021-03-26",
          "2021-03-27",
          "2021-03-28",
          "2021-03-29",
          "2021-03-30",
          "2021-03-31",
          "2021-04-01",
          "2021-04-02",
          "2021-04-03"
         ],
         "type": "scatter",
         "x": [
          0.0636839664329042,
          0.4973676164530173,
          0.7402652540868365,
          1.032931618717755,
          1.9724028829270908,
          2.0945517724095235,
          2.2593324243978183,
          2.471959463102291,
          2.7090856607202864,
          2.9635747892894093,
          3.1836135177436575,
          3.325281894630298,
          3.478952009017941,
          3.7344700683811056,
          4.004716495023039,
          4.308619343686808,
          4.662204008944171,
          5.025322303548755,
          5.188144525342809,
          5.395643113711627,
          5.626007240019607,
          5.857798022696991,
          6.164332488917745,
          6.525183011213917,
          6.973736442050706,
          7.2110416161776145,
          7.4709884234753305,
          7.748602348136443,
          8.096252063974777,
          8.4531709953056,
          8.820129551298969,
          9.226303112494293,
          9.43242070928199,
          9.694839307377704,
          10.000478891053891,
          10.336118031045103,
          10.71083665493111,
          11.115469397786324,
          11.48977924816432,
          11.666455577500187,
          11.874518346962946,
          12.152393739363418,
          12.51863786237882,
          12.863569786785506,
          13.148753754897696,
          13.402813487151196,
          13.513952743484502,
          13.66921596976013,
          13.929217280192246,
          14.283174629044302,
          14.66693488101023,
          15.062646786515819,
          15.3829079407885,
          15.534326486502284,
          15.704796087275957,
          15.908306371958497,
          16.1641809112818,
          16.49300421335744,
          16.857022546208494,
          17.187279133413124,
          17.323083267649693,
          17.51020652209843,
          17.723964132577315,
          17.97515655804398,
          18.23616175728947,
          18.57294251698774,
          18.988538491674955,
          19.196520242964958,
          19.520630496972544,
          19.91034190199205,
          20.338894892089982,
          20.825207210605594,
          21.370720981013996,
          21.992561235449944,
          22.3016219956031,
          22.605216975210386,
          22.969655129502097,
          23.397067972950655,
          23.80902623168098,
          24.32088358006755,
          24.809321520824824,
          25.134235327800408,
          25.432558233947606,
          25.80347342288699,
          26.265282899844866,
          26.719157015045397,
          26.9799257885322,
          27.181416511126503
         ],
         "y": [
          17938.571428571428,
          24875.428571428572,
          36094.142857142855,
          49258.142857142855,
          59828.57142857143,
          59809.857142857145,
          58003,
          55797.42857142857,
          53669.71428571428,
          53100.71428571428,
          51342.57142857143,
          48675.42857142857,
          46338.857142857145,
          45101,
          43359,
          42120.42857142857,
          40573.71428571428,
          38350.28571428572,
          37239.42857142857,
          36016.71428571428,
          33821.57142857143,
          31923.428571428572,
          29977.285714285714,
          28667.85714285714,
          27071.285714285714,
          25606.714285714286,
          24332.285714285714,
          23821.428571428572,
          23355.571428571428,
          22476.428571428572,
          21322.571428571428,
          19902.428571428572,
          19182.85714285714,
          18427.714285714286,
          17780.571428571428,
          17142.714285714286,
          16265.857142857143,
          15238.57142857143,
          14666.285714285714,
          13950.857142857143,
          13249,
          12625.857142857143,
          12368,
          12322.714285714286,
          12115.857142857143,
          11673.142857142857,
          11258.57142857143,
          11093.42857142857,
          11219.57142857143,
          10917.142857142857,
          10515.285714285714,
          10219.42857142857,
          9717.857142857143,
          9289.857142857143,
          8749.857142857143,
          8007.428571428572,
          7706.285714285715,
          7202.428571428572,
          6719.571428571428,
          6353.285714285715,
          6162,
          6048.428571428572,
          5957.142857142857,
          5879.714285714285,
          5822.714285714285,
          5850,
          5944.285714285715,
          5873.285714285715,
          5791.428571428572,
          5835.285714285715,
          5763,
          5730.428571428572,
          5658.571428571428,
          5399.714285714285,
          5402.285714285715,
          5497.857142857143,
          5537.428571428572,
          5545.142857142857,
          5521.285714285715,
          5513.428571428572,
          5708.142857142857,
          5461,
          5259.714285714285,
          5170.571428571428,
          4978.285714285715,
          4762.428571428572,
          4517.857142857143,
          4116
         ]
        }
       ],
       "layout": {
        "plot_bgcolor": "rgba(0, 0, 0, 0)",
        "template": {
         "data": {
          "bar": [
           {
            "error_x": {
             "color": "#2a3f5f"
            },
            "error_y": {
             "color": "#2a3f5f"
            },
            "marker": {
             "line": {
              "color": "#E5ECF6",
              "width": 0.5
             }
            },
            "type": "bar"
           }
          ],
          "barpolar": [
           {
            "marker": {
             "line": {
              "color": "#E5ECF6",
              "width": 0.5
             }
            },
            "type": "barpolar"
           }
          ],
          "carpet": [
           {
            "aaxis": {
             "endlinecolor": "#2a3f5f",
             "gridcolor": "white",
             "linecolor": "white",
             "minorgridcolor": "white",
             "startlinecolor": "#2a3f5f"
            },
            "baxis": {
             "endlinecolor": "#2a3f5f",
             "gridcolor": "white",
             "linecolor": "white",
             "minorgridcolor": "white",
             "startlinecolor": "#2a3f5f"
            },
            "type": "carpet"
           }
          ],
          "choropleth": [
           {
            "colorbar": {
             "outlinewidth": 0,
             "ticks": ""
            },
            "type": "choropleth"
           }
          ],
          "contour": [
           {
            "colorbar": {
             "outlinewidth": 0,
             "ticks": ""
            },
            "colorscale": [
             [
              0,
              "#0d0887"
             ],
             [
              0.1111111111111111,
              "#46039f"
             ],
             [
              0.2222222222222222,
              "#7201a8"
             ],
             [
              0.3333333333333333,
              "#9c179e"
             ],
             [
              0.4444444444444444,
              "#bd3786"
             ],
             [
              0.5555555555555556,
              "#d8576b"
             ],
             [
              0.6666666666666666,
              "#ed7953"
             ],
             [
              0.7777777777777778,
              "#fb9f3a"
             ],
             [
              0.8888888888888888,
              "#fdca26"
             ],
             [
              1,
              "#f0f921"
             ]
            ],
            "type": "contour"
           }
          ],
          "contourcarpet": [
           {
            "colorbar": {
             "outlinewidth": 0,
             "ticks": ""
            },
            "type": "contourcarpet"
           }
          ],
          "heatmap": [
           {
            "colorbar": {
             "outlinewidth": 0,
             "ticks": ""
            },
            "colorscale": [
             [
              0,
              "#0d0887"
             ],
             [
              0.1111111111111111,
              "#46039f"
             ],
             [
              0.2222222222222222,
              "#7201a8"
             ],
             [
              0.3333333333333333,
              "#9c179e"
             ],
             [
              0.4444444444444444,
              "#bd3786"
             ],
             [
              0.5555555555555556,
              "#d8576b"
             ],
             [
              0.6666666666666666,
              "#ed7953"
             ],
             [
              0.7777777777777778,
              "#fb9f3a"
             ],
             [
              0.8888888888888888,
              "#fdca26"
             ],
             [
              1,
              "#f0f921"
             ]
            ],
            "type": "heatmap"
           }
          ],
          "heatmapgl": [
           {
            "colorbar": {
             "outlinewidth": 0,
             "ticks": ""
            },
            "colorscale": [
             [
              0,
              "#0d0887"
             ],
             [
              0.1111111111111111,
              "#46039f"
             ],
             [
              0.2222222222222222,
              "#7201a8"
             ],
             [
              0.3333333333333333,
              "#9c179e"
             ],
             [
              0.4444444444444444,
              "#bd3786"
             ],
             [
              0.5555555555555556,
              "#d8576b"
             ],
             [
              0.6666666666666666,
              "#ed7953"
             ],
             [
              0.7777777777777778,
              "#fb9f3a"
             ],
             [
              0.8888888888888888,
              "#fdca26"
             ],
             [
              1,
              "#f0f921"
             ]
            ],
            "type": "heatmapgl"
           }
          ],
          "histogram": [
           {
            "marker": {
             "colorbar": {
              "outlinewidth": 0,
              "ticks": ""
             }
            },
            "type": "histogram"
           }
          ],
          "histogram2d": [
           {
            "colorbar": {
             "outlinewidth": 0,
             "ticks": ""
            },
            "colorscale": [
             [
              0,
              "#0d0887"
             ],
             [
              0.1111111111111111,
              "#46039f"
             ],
             [
              0.2222222222222222,
              "#7201a8"
             ],
             [
              0.3333333333333333,
              "#9c179e"
             ],
             [
              0.4444444444444444,
              "#bd3786"
             ],
             [
              0.5555555555555556,
              "#d8576b"
             ],
             [
              0.6666666666666666,
              "#ed7953"
             ],
             [
              0.7777777777777778,
              "#fb9f3a"
             ],
             [
              0.8888888888888888,
              "#fdca26"
             ],
             [
              1,
              "#f0f921"
             ]
            ],
            "type": "histogram2d"
           }
          ],
          "histogram2dcontour": [
           {
            "colorbar": {
             "outlinewidth": 0,
             "ticks": ""
            },
            "colorscale": [
             [
              0,
              "#0d0887"
             ],
             [
              0.1111111111111111,
              "#46039f"
             ],
             [
              0.2222222222222222,
              "#7201a8"
             ],
             [
              0.3333333333333333,
              "#9c179e"
             ],
             [
              0.4444444444444444,
              "#bd3786"
             ],
             [
              0.5555555555555556,
              "#d8576b"
             ],
             [
              0.6666666666666666,
              "#ed7953"
             ],
             [
              0.7777777777777778,
              "#fb9f3a"
             ],
             [
              0.8888888888888888,
              "#fdca26"
             ],
             [
              1,
              "#f0f921"
             ]
            ],
            "type": "histogram2dcontour"
           }
          ],
          "mesh3d": [
           {
            "colorbar": {
             "outlinewidth": 0,
             "ticks": ""
            },
            "type": "mesh3d"
           }
          ],
          "parcoords": [
           {
            "line": {
             "colorbar": {
              "outlinewidth": 0,
              "ticks": ""
             }
            },
            "type": "parcoords"
           }
          ],
          "pie": [
           {
            "automargin": true,
            "type": "pie"
           }
          ],
          "scatter": [
           {
            "marker": {
             "colorbar": {
              "outlinewidth": 0,
              "ticks": ""
             }
            },
            "type": "scatter"
           }
          ],
          "scatter3d": [
           {
            "line": {
             "colorbar": {
              "outlinewidth": 0,
              "ticks": ""
             }
            },
            "marker": {
             "colorbar": {
              "outlinewidth": 0,
              "ticks": ""
             }
            },
            "type": "scatter3d"
           }
          ],
          "scattercarpet": [
           {
            "marker": {
             "colorbar": {
              "outlinewidth": 0,
              "ticks": ""
             }
            },
            "type": "scattercarpet"
           }
          ],
          "scattergeo": [
           {
            "marker": {
             "colorbar": {
              "outlinewidth": 0,
              "ticks": ""
             }
            },
            "type": "scattergeo"
           }
          ],
          "scattergl": [
           {
            "marker": {
             "colorbar": {
              "outlinewidth": 0,
              "ticks": ""
             }
            },
            "type": "scattergl"
           }
          ],
          "scattermapbox": [
           {
            "marker": {
             "colorbar": {
              "outlinewidth": 0,
              "ticks": ""
             }
            },
            "type": "scattermapbox"
           }
          ],
          "scatterpolar": [
           {
            "marker": {
             "colorbar": {
              "outlinewidth": 0,
              "ticks": ""
             }
            },
            "type": "scatterpolar"
           }
          ],
          "scatterpolargl": [
           {
            "marker": {
             "colorbar": {
              "outlinewidth": 0,
              "ticks": ""
             }
            },
            "type": "scatterpolargl"
           }
          ],
          "scatterternary": [
           {
            "marker": {
             "colorbar": {
              "outlinewidth": 0,
              "ticks": ""
             }
            },
            "type": "scatterternary"
           }
          ],
          "surface": [
           {
            "colorbar": {
             "outlinewidth": 0,
             "ticks": ""
            },
            "colorscale": [
             [
              0,
              "#0d0887"
             ],
             [
              0.1111111111111111,
              "#46039f"
             ],
             [
              0.2222222222222222,
              "#7201a8"
             ],
             [
              0.3333333333333333,
              "#9c179e"
             ],
             [
              0.4444444444444444,
              "#bd3786"
             ],
             [
              0.5555555555555556,
              "#d8576b"
             ],
             [
              0.6666666666666666,
              "#ed7953"
             ],
             [
              0.7777777777777778,
              "#fb9f3a"
             ],
             [
              0.8888888888888888,
              "#fdca26"
             ],
             [
              1,
              "#f0f921"
             ]
            ],
            "type": "surface"
           }
          ],
          "table": [
           {
            "cells": {
             "fill": {
              "color": "#EBF0F8"
             },
             "line": {
              "color": "white"
             }
            },
            "header": {
             "fill": {
              "color": "#C8D4E3"
             },
             "line": {
              "color": "white"
             }
            },
            "type": "table"
           }
          ]
         },
         "layout": {
          "annotationdefaults": {
           "arrowcolor": "#2a3f5f",
           "arrowhead": 0,
           "arrowwidth": 1
          },
          "autotypenumbers": "strict",
          "coloraxis": {
           "colorbar": {
            "outlinewidth": 0,
            "ticks": ""
           }
          },
          "colorscale": {
           "diverging": [
            [
             0,
             "#8e0152"
            ],
            [
             0.1,
             "#c51b7d"
            ],
            [
             0.2,
             "#de77ae"
            ],
            [
             0.3,
             "#f1b6da"
            ],
            [
             0.4,
             "#fde0ef"
            ],
            [
             0.5,
             "#f7f7f7"
            ],
            [
             0.6,
             "#e6f5d0"
            ],
            [
             0.7,
             "#b8e186"
            ],
            [
             0.8,
             "#7fbc41"
            ],
            [
             0.9,
             "#4d9221"
            ],
            [
             1,
             "#276419"
            ]
           ],
           "sequential": [
            [
             0,
             "#0d0887"
            ],
            [
             0.1111111111111111,
             "#46039f"
            ],
            [
             0.2222222222222222,
             "#7201a8"
            ],
            [
             0.3333333333333333,
             "#9c179e"
            ],
            [
             0.4444444444444444,
             "#bd3786"
            ],
            [
             0.5555555555555556,
             "#d8576b"
            ],
            [
             0.6666666666666666,
             "#ed7953"
            ],
            [
             0.7777777777777778,
             "#fb9f3a"
            ],
            [
             0.8888888888888888,
             "#fdca26"
            ],
            [
             1,
             "#f0f921"
            ]
           ],
           "sequentialminus": [
            [
             0,
             "#0d0887"
            ],
            [
             0.1111111111111111,
             "#46039f"
            ],
            [
             0.2222222222222222,
             "#7201a8"
            ],
            [
             0.3333333333333333,
             "#9c179e"
            ],
            [
             0.4444444444444444,
             "#bd3786"
            ],
            [
             0.5555555555555556,
             "#d8576b"
            ],
            [
             0.6666666666666666,
             "#ed7953"
            ],
            [
             0.7777777777777778,
             "#fb9f3a"
            ],
            [
             0.8888888888888888,
             "#fdca26"
            ],
            [
             1,
             "#f0f921"
            ]
           ]
          },
          "colorway": [
           "#636efa",
           "#EF553B",
           "#00cc96",
           "#ab63fa",
           "#FFA15A",
           "#19d3f3",
           "#FF6692",
           "#B6E880",
           "#FF97FF",
           "#FECB52"
          ],
          "font": {
           "color": "#2a3f5f"
          },
          "geo": {
           "bgcolor": "white",
           "lakecolor": "white",
           "landcolor": "#E5ECF6",
           "showlakes": true,
           "showland": true,
           "subunitcolor": "white"
          },
          "hoverlabel": {
           "align": "left"
          },
          "hovermode": "closest",
          "mapbox": {
           "style": "light"
          },
          "paper_bgcolor": "white",
          "plot_bgcolor": "#E5ECF6",
          "polar": {
           "angularaxis": {
            "gridcolor": "white",
            "linecolor": "white",
            "ticks": ""
           },
           "bgcolor": "#E5ECF6",
           "radialaxis": {
            "gridcolor": "white",
            "linecolor": "white",
            "ticks": ""
           }
          },
          "scene": {
           "xaxis": {
            "backgroundcolor": "#E5ECF6",
            "gridcolor": "white",
            "gridwidth": 2,
            "linecolor": "white",
            "showbackground": true,
            "ticks": "",
            "zerolinecolor": "white"
           },
           "yaxis": {
            "backgroundcolor": "#E5ECF6",
            "gridcolor": "white",
            "gridwidth": 2,
            "linecolor": "white",
            "showbackground": true,
            "ticks": "",
            "zerolinecolor": "white"
           },
           "zaxis": {
            "backgroundcolor": "#E5ECF6",
            "gridcolor": "white",
            "gridwidth": 2,
            "linecolor": "white",
            "showbackground": true,
            "ticks": "",
            "zerolinecolor": "white"
           }
          },
          "shapedefaults": {
           "line": {
            "color": "#2a3f5f"
           }
          },
          "ternary": {
           "aaxis": {
            "gridcolor": "white",
            "linecolor": "white",
            "ticks": ""
           },
           "baxis": {
            "gridcolor": "white",
            "linecolor": "white",
            "ticks": ""
           },
           "bgcolor": "#E5ECF6",
           "caxis": {
            "gridcolor": "white",
            "linecolor": "white",
            "ticks": ""
           }
          },
          "title": {
           "x": 0.05
          },
          "xaxis": {
           "automargin": true,
           "gridcolor": "white",
           "linecolor": "white",
           "ticks": "",
           "title": {
            "standoff": 15
           },
           "zerolinecolor": "white",
           "zerolinewidth": 2
          },
          "yaxis": {
           "automargin": true,
           "gridcolor": "white",
           "linecolor": "white",
           "ticks": "",
           "title": {
            "standoff": 15
           },
           "zerolinecolor": "white",
           "zerolinewidth": 2
          }
         }
        },
        "xaxis": {
         "linecolor": "black",
         "linewidth": 1,
         "showline": true,
         "ticks": "inside",
         "title": {
          "text": "Adjusted people vaccinated (%)"
         }
        },
        "yaxis": {
         "linecolor": "black",
         "linewidth": 1,
         "showline": true,
         "ticks": "inside",
         "title": {
          "text": "Past week daily average cases (number of people)"
         }
        }
       }
      },
      "text/html": [
       "<div>                            <div id=\"f0ff8053-2f23-497a-9e70-81e57c248758\" class=\"plotly-graph-div\" style=\"height:525px; width:100%;\"></div>            <script type=\"text/javascript\">                require([\"plotly\"], function(Plotly) {                    window.PLOTLYENV=window.PLOTLYENV || {};                                    if (document.getElementById(\"f0ff8053-2f23-497a-9e70-81e57c248758\")) {                    Plotly.newPlot(                        \"f0ff8053-2f23-497a-9e70-81e57c248758\",                        [{\"hoveron\": \"points\", \"hovertemplate\": \"Date: %{text}<br>Past week daily average: %{y: .0f}<br>Percent adjusted people vaccinated: %{x: .2f}%<br><extra></extra>\", \"mode\": \"lines+markers\", \"name\": \"United Kingdom\", \"text\": [\"2020-12-13\", \"2020-12-20\", \"2020-12-27\", \"2021-01-03\", \"2021-01-10\", \"2021-01-11\", \"2021-01-12\", \"2021-01-13\", \"2021-01-14\", \"2021-01-15\", \"2021-01-16\", \"2021-01-17\", \"2021-01-18\", \"2021-01-19\", \"2021-01-20\", \"2021-01-21\", \"2021-01-22\", \"2021-01-23\", \"2021-01-24\", \"2021-01-25\", \"2021-01-26\", \"2021-01-27\", \"2021-01-28\", \"2021-01-29\", \"2021-01-30\", \"2021-01-31\", \"2021-02-01\", \"2021-02-02\", \"2021-02-03\", \"2021-02-04\", \"2021-02-05\", \"2021-02-06\", \"2021-02-07\", \"2021-02-08\", \"2021-02-09\", \"2021-02-10\", \"2021-02-11\", \"2021-02-12\", \"2021-02-13\", \"2021-02-14\", \"2021-02-15\", \"2021-02-16\", \"2021-02-17\", \"2021-02-18\", \"2021-02-19\", \"2021-02-20\", \"2021-02-21\", \"2021-02-22\", \"2021-02-23\", \"2021-02-24\", \"2021-02-25\", \"2021-02-26\", \"2021-02-27\", \"2021-02-28\", \"2021-03-01\", \"2021-03-02\", \"2021-03-03\", \"2021-03-04\", \"2021-03-05\", \"2021-03-06\", \"2021-03-07\", \"2021-03-08\", \"2021-03-09\", \"2021-03-10\", \"2021-03-11\", \"2021-03-12\", \"2021-03-13\", \"2021-03-14\", \"2021-03-15\", \"2021-03-16\", \"2021-03-17\", \"2021-03-18\", \"2021-03-19\", \"2021-03-20\", \"2021-03-21\", \"2021-03-22\", \"2021-03-23\", \"2021-03-24\", \"2021-03-25\", \"2021-03-26\", \"2021-03-27\", \"2021-03-28\", \"2021-03-29\", \"2021-03-30\", \"2021-03-31\", \"2021-04-01\", \"2021-04-02\", \"2021-04-03\"], \"type\": \"scatter\", \"x\": [0.0636839664329042, 0.4973676164530173, 0.7402652540868365, 1.032931618717755, 1.9724028829270908, 2.0945517724095235, 2.2593324243978183, 2.471959463102291, 2.7090856607202864, 2.9635747892894093, 3.1836135177436575, 3.325281894630298, 3.478952009017941, 3.7344700683811056, 4.004716495023039, 4.308619343686808, 4.662204008944171, 5.025322303548755, 5.188144525342809, 5.395643113711627, 5.626007240019607, 5.857798022696991, 6.164332488917745, 6.525183011213917, 6.973736442050706, 7.2110416161776145, 7.4709884234753305, 7.748602348136443, 8.096252063974777, 8.4531709953056, 8.820129551298969, 9.226303112494293, 9.43242070928199, 9.694839307377704, 10.000478891053891, 10.336118031045103, 10.71083665493111, 11.115469397786324, 11.48977924816432, 11.666455577500187, 11.874518346962946, 12.152393739363418, 12.51863786237882, 12.863569786785506, 13.148753754897696, 13.402813487151196, 13.513952743484502, 13.66921596976013, 13.929217280192246, 14.283174629044302, 14.66693488101023, 15.062646786515819, 15.3829079407885, 15.534326486502284, 15.704796087275957, 15.908306371958497, 16.1641809112818, 16.49300421335744, 16.857022546208494, 17.187279133413124, 17.323083267649693, 17.51020652209843, 17.723964132577315, 17.97515655804398, 18.23616175728947, 18.57294251698774, 18.988538491674955, 19.196520242964958, 19.520630496972544, 19.91034190199205, 20.338894892089982, 20.825207210605594, 21.370720981013996, 21.992561235449944, 22.3016219956031, 22.605216975210386, 22.969655129502097, 23.397067972950655, 23.80902623168098, 24.32088358006755, 24.809321520824824, 25.134235327800408, 25.432558233947606, 25.80347342288699, 26.265282899844866, 26.719157015045397, 26.9799257885322, 27.181416511126503], \"y\": [17938.571428571428, 24875.428571428572, 36094.142857142855, 49258.142857142855, 59828.57142857143, 59809.857142857145, 58003.0, 55797.42857142857, 53669.71428571428, 53100.71428571428, 51342.57142857143, 48675.42857142857, 46338.857142857145, 45101.0, 43359.0, 42120.42857142857, 40573.71428571428, 38350.28571428572, 37239.42857142857, 36016.71428571428, 33821.57142857143, 31923.428571428572, 29977.285714285714, 28667.85714285714, 27071.285714285714, 25606.714285714286, 24332.285714285714, 23821.428571428572, 23355.571428571428, 22476.428571428572, 21322.571428571428, 19902.428571428572, 19182.85714285714, 18427.714285714286, 17780.571428571428, 17142.714285714286, 16265.857142857143, 15238.57142857143, 14666.285714285714, 13950.857142857143, 13249.0, 12625.857142857143, 12368.0, 12322.714285714286, 12115.857142857143, 11673.142857142857, 11258.57142857143, 11093.42857142857, 11219.57142857143, 10917.142857142857, 10515.285714285714, 10219.42857142857, 9717.857142857143, 9289.857142857143, 8749.857142857143, 8007.428571428572, 7706.285714285715, 7202.428571428572, 6719.571428571428, 6353.285714285715, 6162.0, 6048.428571428572, 5957.142857142857, 5879.714285714285, 5822.714285714285, 5850.0, 5944.285714285715, 5873.285714285715, 5791.428571428572, 5835.285714285715, 5763.0, 5730.428571428572, 5658.571428571428, 5399.714285714285, 5402.285714285715, 5497.857142857143, 5537.428571428572, 5545.142857142857, 5521.285714285715, 5513.428571428572, 5708.142857142857, 5461.0, 5259.714285714285, 5170.571428571428, 4978.285714285715, 4762.428571428572, 4517.857142857143, 4116.0]}],                        {\"plot_bgcolor\": \"rgba(0, 0, 0, 0)\", \"template\": {\"data\": {\"bar\": [{\"error_x\": {\"color\": \"#2a3f5f\"}, \"error_y\": {\"color\": \"#2a3f5f\"}, \"marker\": {\"line\": {\"color\": \"#E5ECF6\", \"width\": 0.5}}, \"type\": \"bar\"}], \"barpolar\": [{\"marker\": {\"line\": {\"color\": \"#E5ECF6\", \"width\": 0.5}}, \"type\": \"barpolar\"}], \"carpet\": [{\"aaxis\": {\"endlinecolor\": \"#2a3f5f\", \"gridcolor\": \"white\", \"linecolor\": \"white\", \"minorgridcolor\": \"white\", \"startlinecolor\": \"#2a3f5f\"}, \"baxis\": {\"endlinecolor\": \"#2a3f5f\", \"gridcolor\": \"white\", \"linecolor\": \"white\", \"minorgridcolor\": \"white\", \"startlinecolor\": \"#2a3f5f\"}, \"type\": \"carpet\"}], \"choropleth\": [{\"colorbar\": {\"outlinewidth\": 0, \"ticks\": \"\"}, \"type\": \"choropleth\"}], \"contour\": [{\"colorbar\": {\"outlinewidth\": 0, \"ticks\": \"\"}, \"colorscale\": [[0.0, \"#0d0887\"], [0.1111111111111111, \"#46039f\"], [0.2222222222222222, \"#7201a8\"], [0.3333333333333333, \"#9c179e\"], [0.4444444444444444, \"#bd3786\"], [0.5555555555555556, \"#d8576b\"], [0.6666666666666666, \"#ed7953\"], [0.7777777777777778, \"#fb9f3a\"], [0.8888888888888888, \"#fdca26\"], [1.0, \"#f0f921\"]], \"type\": \"contour\"}], \"contourcarpet\": [{\"colorbar\": {\"outlinewidth\": 0, \"ticks\": \"\"}, \"type\": \"contourcarpet\"}], \"heatmap\": [{\"colorbar\": {\"outlinewidth\": 0, \"ticks\": \"\"}, \"colorscale\": [[0.0, \"#0d0887\"], [0.1111111111111111, \"#46039f\"], [0.2222222222222222, \"#7201a8\"], [0.3333333333333333, \"#9c179e\"], [0.4444444444444444, \"#bd3786\"], [0.5555555555555556, \"#d8576b\"], [0.6666666666666666, \"#ed7953\"], [0.7777777777777778, \"#fb9f3a\"], [0.8888888888888888, \"#fdca26\"], [1.0, \"#f0f921\"]], \"type\": \"heatmap\"}], \"heatmapgl\": [{\"colorbar\": {\"outlinewidth\": 0, \"ticks\": \"\"}, \"colorscale\": [[0.0, \"#0d0887\"], [0.1111111111111111, \"#46039f\"], [0.2222222222222222, \"#7201a8\"], [0.3333333333333333, \"#9c179e\"], [0.4444444444444444, \"#bd3786\"], [0.5555555555555556, \"#d8576b\"], [0.6666666666666666, \"#ed7953\"], [0.7777777777777778, \"#fb9f3a\"], [0.8888888888888888, \"#fdca26\"], [1.0, \"#f0f921\"]], \"type\": \"heatmapgl\"}], \"histogram\": [{\"marker\": {\"colorbar\": {\"outlinewidth\": 0, \"ticks\": \"\"}}, \"type\": \"histogram\"}], \"histogram2d\": [{\"colorbar\": {\"outlinewidth\": 0, \"ticks\": \"\"}, \"colorscale\": [[0.0, \"#0d0887\"], [0.1111111111111111, \"#46039f\"], [0.2222222222222222, \"#7201a8\"], [0.3333333333333333, \"#9c179e\"], [0.4444444444444444, \"#bd3786\"], [0.5555555555555556, \"#d8576b\"], [0.6666666666666666, \"#ed7953\"], [0.7777777777777778, \"#fb9f3a\"], [0.8888888888888888, \"#fdca26\"], [1.0, \"#f0f921\"]], \"type\": \"histogram2d\"}], \"histogram2dcontour\": [{\"colorbar\": {\"outlinewidth\": 0, \"ticks\": \"\"}, \"colorscale\": [[0.0, \"#0d0887\"], [0.1111111111111111, \"#46039f\"], [0.2222222222222222, \"#7201a8\"], [0.3333333333333333, \"#9c179e\"], [0.4444444444444444, \"#bd3786\"], [0.5555555555555556, \"#d8576b\"], [0.6666666666666666, \"#ed7953\"], [0.7777777777777778, \"#fb9f3a\"], [0.8888888888888888, \"#fdca26\"], [1.0, \"#f0f921\"]], \"type\": \"histogram2dcontour\"}], \"mesh3d\": [{\"colorbar\": {\"outlinewidth\": 0, \"ticks\": \"\"}, \"type\": \"mesh3d\"}], \"parcoords\": [{\"line\": {\"colorbar\": {\"outlinewidth\": 0, \"ticks\": \"\"}}, \"type\": \"parcoords\"}], \"pie\": [{\"automargin\": true, \"type\": \"pie\"}], \"scatter\": [{\"marker\": {\"colorbar\": {\"outlinewidth\": 0, \"ticks\": \"\"}}, \"type\": \"scatter\"}], \"scatter3d\": [{\"line\": {\"colorbar\": {\"outlinewidth\": 0, \"ticks\": \"\"}}, \"marker\": {\"colorbar\": {\"outlinewidth\": 0, \"ticks\": \"\"}}, \"type\": \"scatter3d\"}], \"scattercarpet\": [{\"marker\": {\"colorbar\": {\"outlinewidth\": 0, \"ticks\": \"\"}}, \"type\": \"scattercarpet\"}], \"scattergeo\": [{\"marker\": {\"colorbar\": {\"outlinewidth\": 0, \"ticks\": \"\"}}, \"type\": \"scattergeo\"}], \"scattergl\": [{\"marker\": {\"colorbar\": {\"outlinewidth\": 0, \"ticks\": \"\"}}, \"type\": \"scattergl\"}], \"scattermapbox\": [{\"marker\": {\"colorbar\": {\"outlinewidth\": 0, \"ticks\": \"\"}}, \"type\": \"scattermapbox\"}], \"scatterpolar\": [{\"marker\": {\"colorbar\": {\"outlinewidth\": 0, \"ticks\": \"\"}}, \"type\": \"scatterpolar\"}], \"scatterpolargl\": [{\"marker\": {\"colorbar\": {\"outlinewidth\": 0, \"ticks\": \"\"}}, \"type\": \"scatterpolargl\"}], \"scatterternary\": [{\"marker\": {\"colorbar\": {\"outlinewidth\": 0, \"ticks\": \"\"}}, \"type\": \"scatterternary\"}], \"surface\": [{\"colorbar\": {\"outlinewidth\": 0, \"ticks\": \"\"}, \"colorscale\": [[0.0, \"#0d0887\"], [0.1111111111111111, \"#46039f\"], [0.2222222222222222, \"#7201a8\"], [0.3333333333333333, \"#9c179e\"], [0.4444444444444444, \"#bd3786\"], [0.5555555555555556, \"#d8576b\"], [0.6666666666666666, \"#ed7953\"], [0.7777777777777778, \"#fb9f3a\"], [0.8888888888888888, \"#fdca26\"], [1.0, \"#f0f921\"]], \"type\": \"surface\"}], \"table\": [{\"cells\": {\"fill\": {\"color\": \"#EBF0F8\"}, \"line\": {\"color\": \"white\"}}, \"header\": {\"fill\": {\"color\": \"#C8D4E3\"}, \"line\": {\"color\": \"white\"}}, \"type\": \"table\"}]}, \"layout\": {\"annotationdefaults\": {\"arrowcolor\": \"#2a3f5f\", \"arrowhead\": 0, \"arrowwidth\": 1}, \"autotypenumbers\": \"strict\", \"coloraxis\": {\"colorbar\": {\"outlinewidth\": 0, \"ticks\": \"\"}}, \"colorscale\": {\"diverging\": [[0, \"#8e0152\"], [0.1, \"#c51b7d\"], [0.2, \"#de77ae\"], [0.3, \"#f1b6da\"], [0.4, \"#fde0ef\"], [0.5, \"#f7f7f7\"], [0.6, \"#e6f5d0\"], [0.7, \"#b8e186\"], [0.8, \"#7fbc41\"], [0.9, \"#4d9221\"], [1, \"#276419\"]], \"sequential\": [[0.0, \"#0d0887\"], [0.1111111111111111, \"#46039f\"], [0.2222222222222222, \"#7201a8\"], [0.3333333333333333, \"#9c179e\"], [0.4444444444444444, \"#bd3786\"], [0.5555555555555556, \"#d8576b\"], [0.6666666666666666, \"#ed7953\"], [0.7777777777777778, \"#fb9f3a\"], [0.8888888888888888, \"#fdca26\"], [1.0, \"#f0f921\"]], \"sequentialminus\": [[0.0, \"#0d0887\"], [0.1111111111111111, \"#46039f\"], [0.2222222222222222, \"#7201a8\"], [0.3333333333333333, \"#9c179e\"], [0.4444444444444444, \"#bd3786\"], [0.5555555555555556, \"#d8576b\"], [0.6666666666666666, \"#ed7953\"], [0.7777777777777778, \"#fb9f3a\"], [0.8888888888888888, \"#fdca26\"], [1.0, \"#f0f921\"]]}, \"colorway\": [\"#636efa\", \"#EF553B\", \"#00cc96\", \"#ab63fa\", \"#FFA15A\", \"#19d3f3\", \"#FF6692\", \"#B6E880\", \"#FF97FF\", \"#FECB52\"], \"font\": {\"color\": \"#2a3f5f\"}, \"geo\": {\"bgcolor\": \"white\", \"lakecolor\": \"white\", \"landcolor\": \"#E5ECF6\", \"showlakes\": true, \"showland\": true, \"subunitcolor\": \"white\"}, \"hoverlabel\": {\"align\": \"left\"}, \"hovermode\": \"closest\", \"mapbox\": {\"style\": \"light\"}, \"paper_bgcolor\": \"white\", \"plot_bgcolor\": \"#E5ECF6\", \"polar\": {\"angularaxis\": {\"gridcolor\": \"white\", \"linecolor\": \"white\", \"ticks\": \"\"}, \"bgcolor\": \"#E5ECF6\", \"radialaxis\": {\"gridcolor\": \"white\", \"linecolor\": \"white\", \"ticks\": \"\"}}, \"scene\": {\"xaxis\": {\"backgroundcolor\": \"#E5ECF6\", \"gridcolor\": \"white\", \"gridwidth\": 2, \"linecolor\": \"white\", \"showbackground\": true, \"ticks\": \"\", \"zerolinecolor\": \"white\"}, \"yaxis\": {\"backgroundcolor\": \"#E5ECF6\", \"gridcolor\": \"white\", \"gridwidth\": 2, \"linecolor\": \"white\", \"showbackground\": true, \"ticks\": \"\", \"zerolinecolor\": \"white\"}, \"zaxis\": {\"backgroundcolor\": \"#E5ECF6\", \"gridcolor\": \"white\", \"gridwidth\": 2, \"linecolor\": \"white\", \"showbackground\": true, \"ticks\": \"\", \"zerolinecolor\": \"white\"}}, \"shapedefaults\": {\"line\": {\"color\": \"#2a3f5f\"}}, \"ternary\": {\"aaxis\": {\"gridcolor\": \"white\", \"linecolor\": \"white\", \"ticks\": \"\"}, \"baxis\": {\"gridcolor\": \"white\", \"linecolor\": \"white\", \"ticks\": \"\"}, \"bgcolor\": \"#E5ECF6\", \"caxis\": {\"gridcolor\": \"white\", \"linecolor\": \"white\", \"ticks\": \"\"}}, \"title\": {\"x\": 0.05}, \"xaxis\": {\"automargin\": true, \"gridcolor\": \"white\", \"linecolor\": \"white\", \"ticks\": \"\", \"title\": {\"standoff\": 15}, \"zerolinecolor\": \"white\", \"zerolinewidth\": 2}, \"yaxis\": {\"automargin\": true, \"gridcolor\": \"white\", \"linecolor\": \"white\", \"ticks\": \"\", \"title\": {\"standoff\": 15}, \"zerolinecolor\": \"white\", \"zerolinewidth\": 2}}}, \"xaxis\": {\"linecolor\": \"black\", \"linewidth\": 1, \"showline\": true, \"ticks\": \"inside\", \"title\": {\"text\": \"Adjusted people vaccinated (%)\"}}, \"yaxis\": {\"linecolor\": \"black\", \"linewidth\": 1, \"showline\": true, \"ticks\": \"inside\", \"title\": {\"text\": \"Past week daily average cases (number of people)\"}}},                        {\"responsive\": true}                    ).then(function(){\n",
       "                            \n",
       "var gd = document.getElementById('f0ff8053-2f23-497a-9e70-81e57c248758');\n",
       "var x = new MutationObserver(function (mutations, observer) {{\n",
       "        var display = window.getComputedStyle(gd).display;\n",
       "        if (!display || display === 'none') {{\n",
       "            console.log([gd, 'removed!']);\n",
       "            Plotly.purge(gd);\n",
       "            observer.disconnect();\n",
       "        }}\n",
       "}});\n",
       "\n",
       "// Listen for the removal of the full notebook cells\n",
       "var notebookContainer = gd.closest('#notebook-container');\n",
       "if (notebookContainer) {{\n",
       "    x.observe(notebookContainer, {childList: true});\n",
       "}}\n",
       "\n",
       "// Listen for the clearing of the current output cell\n",
       "var outputEl = gd.closest('.output');\n",
       "if (outputEl) {{\n",
       "    x.observe(outputEl, {childList: true});\n",
       "}}\n",
       "\n",
       "                        })                };                });            </script>        </div>"
      ]
     },
     "metadata": {},
     "output_type": "display_data"
    }
   ],
   "source": [
    "# https://plotly.com/python/hover-text-and-formatting/#advanced-hover-template\n",
    "# https://community.plotly.com/t/hover-data-on-go-scatter-and-or-shared-legends-with-plotly-express/34239\n",
    "fig_case_vac_ts = go.Figure()\n",
    "\n",
    "# list_country = ['United Kingdom', 'Israel', 'US', 'Australia', 'China']\n",
    "list_country = ['United Kingdom']\n",
    "\n",
    "x_col = 'percent_adjusted_people_vaccinated'\n",
    "y_col = 'past_week_daily_cases'\n",
    "\n",
    "\n",
    "\n",
    "\n",
    "if y_col == 'past_week_daily_cases_per_100k':\n",
    "    past_week_string = 'Past week daily average case per 100k'\n",
    "else:\n",
    "    past_week_string = 'Past week daily average'\n",
    "\n",
    "for country in list_country:\n",
    "    mat_country = df_case_vac['country_region'] == country\n",
    "    df_case_vac_ts = df_case_vac[mat_country]\n",
    "    fig_case_vac_ts.add_traces(go.Scatter(x=df_case_vac_ts[x_col],\n",
    "                                       y=df_case_vac_ts[y_col],\n",
    "                                       mode='lines+markers',\n",
    "                                       hoveron='points',\n",
    "                                       text=df_case_vac_ts['date_string'],\n",
    "                                       hovertemplate= \n",
    "                                       \"Date: %{text}<br>\" +\n",
    "                                       past_week_string + \": %{y: .0f}<br>\" +\n",
    "                                       \"Percent adjusted people vaccinated: %{x: .2f}%<br>\" +\n",
    "                                       \"<extra></extra>\",\n",
    "                                       name=country)\n",
    "                           )\n",
    "\n",
    "# # Change marker size\n",
    "# fig_case_vac_one_country.update_traces(marker=dict(size=12,\n",
    "#                               opacity=0.8,\n",
    "#                               line=dict(width=2,\n",
    "#                                         color='DarkSlateGrey')),\n",
    "#                   selector=dict(mode='markers'))\n",
    "    \n",
    "# # Turn background to transparent\n",
    "fig_case_vac_ts.update_layout({\n",
    "'plot_bgcolor': 'rgba(0, 0, 0, 0)'})\n",
    "\n",
    "# Turn on x-axis and y-axis lines\n",
    "fig_case_vac_ts.update_xaxes(showline=True, linewidth=1, linecolor='black', ticks=\"inside\")\n",
    "# Title\n",
    "fig_case_vac_ts.update_xaxes(title_text='Adjusted people vaccinated (%)')\n",
    "# # Range\n",
    "# # fig.update_xaxes(range=[df_curr_case_vac[x_col].min() - 2, df_curr_case_vac[x_col].max() + 2])\n",
    "\n",
    "\n",
    "fig_case_vac_ts.update_yaxes(showline=True, linewidth=1, linecolor='black', ticks=\"inside\")\n",
    "if y_col == 'past_week_daily_cases_per_100k':\n",
    "    fig_case_vac_ts.update_yaxes(title_text='Past week daily average cases (per 100K people)')\n",
    "else:\n",
    "    fig_case_vac_ts.update_yaxes(title_text='Past week daily average cases (number of people)')\n",
    "    \n",
    "fig_case_vac_ts.show()\n",
    "# \n",
    "# "
   ]
  },
  {
   "cell_type": "code",
   "execution_count": 72,
   "id": "182ebd3f",
   "metadata": {},
   "outputs": [
    {
     "data": {
      "text/plain": [
       "array([nan, 'Sinopharm/Beijing, Sinopharm/Wuhan, Sinovac',\n",
       "       'Pfizer/BioNTech', 'Sinopharm/Beijing', 'Oxford/AstraZeneca',\n",
       "       'Sputnik V', 'Moderna, Pfizer/BioNTech',\n",
       "       'Oxford/AstraZeneca, Pfizer/BioNTech',\n",
       "       'Oxford/AstraZeneca, Sinopharm/Beijing'], dtype=object)"
      ]
     },
     "execution_count": 72,
     "metadata": {},
     "output_type": "execute_result"
    }
   ],
   "source": [
    "# Vaccine information\n",
    "# https://www.bbc.com/news/world-asia-china-55212787\n",
    "# Sinovac requires 2 doses\n",
    "# Sputnik V requires 2 doses\n",
    "\n",
    "df_temp['vaccine'].unique()"
   ]
  },
  {
   "cell_type": "code",
   "execution_count": 76,
   "id": "84c61c3d",
   "metadata": {},
   "outputs": [
    {
     "data": {
      "text/html": [
       "<div>\n",
       "<style scoped>\n",
       "    .dataframe tbody tr th:only-of-type {\n",
       "        vertical-align: middle;\n",
       "    }\n",
       "\n",
       "    .dataframe tbody tr th {\n",
       "        vertical-align: top;\n",
       "    }\n",
       "\n",
       "    .dataframe thead th {\n",
       "        text-align: right;\n",
       "    }\n",
       "</style>\n",
       "<table border=\"1\" class=\"dataframe\">\n",
       "  <thead>\n",
       "    <tr style=\"text-align: right;\">\n",
       "      <th></th>\n",
       "      <th>date_string</th>\n",
       "      <th>country_region</th>\n",
       "      <th>country_confirmed</th>\n",
       "      <th>location</th>\n",
       "      <th>population</th>\n",
       "      <th>continent</th>\n",
       "      <th>date_org</th>\n",
       "      <th>vaccine</th>\n",
       "      <th>total_vaccinations</th>\n",
       "      <th>people_vaccinated</th>\n",
       "      <th>people_fully_vaccinated</th>\n",
       "    </tr>\n",
       "  </thead>\n",
       "  <tbody>\n",
       "    <tr>\n",
       "      <th>61311</th>\n",
       "      <td>2021-01-30</td>\n",
       "      <td>Egypt</td>\n",
       "      <td>164871.0</td>\n",
       "      <td>Egypt</td>\n",
       "      <td>1.023344e+08</td>\n",
       "      <td>Africa</td>\n",
       "      <td>2021-01-30</td>\n",
       "      <td>Sinopharm/Beijing</td>\n",
       "      <td>1315.0</td>\n",
       "      <td>NaN</td>\n",
       "      <td>NaN</td>\n",
       "    </tr>\n",
       "    <tr>\n",
       "      <th>64711</th>\n",
       "      <td>2021-02-16</td>\n",
       "      <td>Saudi Arabia</td>\n",
       "      <td>373046.0</td>\n",
       "      <td>Saudi Arabia</td>\n",
       "      <td>3.481387e+07</td>\n",
       "      <td>Asia</td>\n",
       "      <td>2021-02-16</td>\n",
       "      <td>Pfizer/BioNTech</td>\n",
       "      <td>462812.0</td>\n",
       "      <td>NaN</td>\n",
       "      <td>NaN</td>\n",
       "    </tr>\n",
       "    <tr>\n",
       "      <th>65147</th>\n",
       "      <td>2021-02-19</td>\n",
       "      <td>Algeria</td>\n",
       "      <td>111418.0</td>\n",
       "      <td>Algeria</td>\n",
       "      <td>4.385104e+07</td>\n",
       "      <td>Africa</td>\n",
       "      <td>2021-02-19</td>\n",
       "      <td>Sputnik V</td>\n",
       "      <td>75000.0</td>\n",
       "      <td>NaN</td>\n",
       "      <td>NaN</td>\n",
       "    </tr>\n",
       "    <tr>\n",
       "      <th>70722</th>\n",
       "      <td>2021-03-19</td>\n",
       "      <td>Nepal</td>\n",
       "      <td>275625.0</td>\n",
       "      <td>Nepal</td>\n",
       "      <td>2.913681e+07</td>\n",
       "      <td>Asia</td>\n",
       "      <td>2021-03-19</td>\n",
       "      <td>Oxford/AstraZeneca</td>\n",
       "      <td>1600000.0</td>\n",
       "      <td>NaN</td>\n",
       "      <td>NaN</td>\n",
       "    </tr>\n",
       "    <tr>\n",
       "      <th>71756</th>\n",
       "      <td>2021-03-25</td>\n",
       "      <td>Antigua and Barbuda</td>\n",
       "      <td>1080.0</td>\n",
       "      <td>Antigua and Barbuda</td>\n",
       "      <td>9.792800e+04</td>\n",
       "      <td>North America</td>\n",
       "      <td>2021-03-25</td>\n",
       "      <td>Oxford/AstraZeneca</td>\n",
       "      <td>26424.0</td>\n",
       "      <td>NaN</td>\n",
       "      <td>NaN</td>\n",
       "    </tr>\n",
       "    <tr>\n",
       "      <th>72089</th>\n",
       "      <td>2021-03-26</td>\n",
       "      <td>Saint Vincent and the Grenadines</td>\n",
       "      <td>1715.0</td>\n",
       "      <td>Saint Vincent and the Grenadines</td>\n",
       "      <td>1.109470e+05</td>\n",
       "      <td>North America</td>\n",
       "      <td>2021-03-26</td>\n",
       "      <td>Oxford/AstraZeneca</td>\n",
       "      <td>10519.0</td>\n",
       "      <td>NaN</td>\n",
       "      <td>NaN</td>\n",
       "    </tr>\n",
       "    <tr>\n",
       "      <th>73196</th>\n",
       "      <td>2021-04-01</td>\n",
       "      <td>Liechtenstein</td>\n",
       "      <td>2670.0</td>\n",
       "      <td>Liechtenstein</td>\n",
       "      <td>3.813700e+04</td>\n",
       "      <td>Europe</td>\n",
       "      <td>2021-04-01</td>\n",
       "      <td>Moderna, Pfizer/BioNTech</td>\n",
       "      <td>6100.0</td>\n",
       "      <td>NaN</td>\n",
       "      <td>NaN</td>\n",
       "    </tr>\n",
       "    <tr>\n",
       "      <th>73586</th>\n",
       "      <td>2021-04-03</td>\n",
       "      <td>Maldives</td>\n",
       "      <td>24548.0</td>\n",
       "      <td>Maldives</td>\n",
       "      <td>5.405420e+05</td>\n",
       "      <td>Asia</td>\n",
       "      <td>2021-04-03</td>\n",
       "      <td>Oxford/AstraZeneca</td>\n",
       "      <td>243749.0</td>\n",
       "      <td>NaN</td>\n",
       "      <td>NaN</td>\n",
       "    </tr>\n",
       "    <tr>\n",
       "      <th>73707</th>\n",
       "      <td>2021-04-04</td>\n",
       "      <td>China</td>\n",
       "      <td>102872.0</td>\n",
       "      <td>China</td>\n",
       "      <td>1.404676e+09</td>\n",
       "      <td>Asia</td>\n",
       "      <td>2021-04-04</td>\n",
       "      <td>Sinopharm/Beijing, Sinopharm/Wuhan, Sinovac</td>\n",
       "      <td>139970000.0</td>\n",
       "      <td>NaN</td>\n",
       "      <td>NaN</td>\n",
       "    </tr>\n",
       "    <tr>\n",
       "      <th>73724</th>\n",
       "      <td>2021-04-04</td>\n",
       "      <td>Egypt</td>\n",
       "      <td>204256.0</td>\n",
       "      <td>Egypt</td>\n",
       "      <td>1.023344e+08</td>\n",
       "      <td>Africa</td>\n",
       "      <td>2021-04-04</td>\n",
       "      <td>Oxford/AstraZeneca, Sinopharm/Beijing</td>\n",
       "      <td>148987.0</td>\n",
       "      <td>NaN</td>\n",
       "      <td>NaN</td>\n",
       "    </tr>\n",
       "    <tr>\n",
       "      <th>73788</th>\n",
       "      <td>2021-04-04</td>\n",
       "      <td>Mongolia</td>\n",
       "      <td>9598.0</td>\n",
       "      <td>Mongolia</td>\n",
       "      <td>3.278292e+06</td>\n",
       "      <td>Asia</td>\n",
       "      <td>2021-04-04</td>\n",
       "      <td>Oxford/AstraZeneca</td>\n",
       "      <td>376373.0</td>\n",
       "      <td>NaN</td>\n",
       "      <td>NaN</td>\n",
       "    </tr>\n",
       "    <tr>\n",
       "      <th>73821</th>\n",
       "      <td>2021-04-04</td>\n",
       "      <td>Saudi Arabia</td>\n",
       "      <td>392009.0</td>\n",
       "      <td>Saudi Arabia</td>\n",
       "      <td>3.481387e+07</td>\n",
       "      <td>Asia</td>\n",
       "      <td>2021-04-04</td>\n",
       "      <td>Oxford/AstraZeneca, Pfizer/BioNTech</td>\n",
       "      <td>4994576.0</td>\n",
       "      <td>NaN</td>\n",
       "      <td>NaN</td>\n",
       "    </tr>\n",
       "    <tr>\n",
       "      <th>73865</th>\n",
       "      <td>2021-04-05</td>\n",
       "      <td>Algeria</td>\n",
       "      <td>117622.0</td>\n",
       "      <td>Algeria</td>\n",
       "      <td>4.385104e+07</td>\n",
       "      <td>Africa</td>\n",
       "      <td>NaN</td>\n",
       "      <td>NaN</td>\n",
       "      <td>NaN</td>\n",
       "      <td>NaN</td>\n",
       "      <td>NaN</td>\n",
       "    </tr>\n",
       "    <tr>\n",
       "      <th>73868</th>\n",
       "      <td>2021-04-05</td>\n",
       "      <td>Antigua and Barbuda</td>\n",
       "      <td>1170.0</td>\n",
       "      <td>Antigua and Barbuda</td>\n",
       "      <td>9.792800e+04</td>\n",
       "      <td>North America</td>\n",
       "      <td>NaN</td>\n",
       "      <td>NaN</td>\n",
       "      <td>NaN</td>\n",
       "      <td>NaN</td>\n",
       "      <td>NaN</td>\n",
       "    </tr>\n",
       "    <tr>\n",
       "      <th>73899</th>\n",
       "      <td>2021-04-05</td>\n",
       "      <td>China</td>\n",
       "      <td>101861.0</td>\n",
       "      <td>China</td>\n",
       "      <td>1.404676e+09</td>\n",
       "      <td>Asia</td>\n",
       "      <td>NaN</td>\n",
       "      <td>NaN</td>\n",
       "      <td>NaN</td>\n",
       "      <td>NaN</td>\n",
       "      <td>NaN</td>\n",
       "    </tr>\n",
       "    <tr>\n",
       "      <th>73916</th>\n",
       "      <td>2021-04-05</td>\n",
       "      <td>Egypt</td>\n",
       "      <td>204965.0</td>\n",
       "      <td>Egypt</td>\n",
       "      <td>1.023344e+08</td>\n",
       "      <td>Africa</td>\n",
       "      <td>NaN</td>\n",
       "      <td>NaN</td>\n",
       "      <td>NaN</td>\n",
       "      <td>NaN</td>\n",
       "      <td>NaN</td>\n",
       "    </tr>\n",
       "    <tr>\n",
       "      <th>73964</th>\n",
       "      <td>2021-04-05</td>\n",
       "      <td>Liechtenstein</td>\n",
       "      <td>2685.0</td>\n",
       "      <td>Liechtenstein</td>\n",
       "      <td>3.813700e+04</td>\n",
       "      <td>Europe</td>\n",
       "      <td>NaN</td>\n",
       "      <td>NaN</td>\n",
       "      <td>NaN</td>\n",
       "      <td>NaN</td>\n",
       "      <td>NaN</td>\n",
       "    </tr>\n",
       "    <tr>\n",
       "      <th>73970</th>\n",
       "      <td>2021-04-05</td>\n",
       "      <td>Maldives</td>\n",
       "      <td>24783.0</td>\n",
       "      <td>Maldives</td>\n",
       "      <td>5.405420e+05</td>\n",
       "      <td>Asia</td>\n",
       "      <td>NaN</td>\n",
       "      <td>NaN</td>\n",
       "      <td>NaN</td>\n",
       "      <td>NaN</td>\n",
       "      <td>NaN</td>\n",
       "    </tr>\n",
       "    <tr>\n",
       "      <th>73980</th>\n",
       "      <td>2021-04-05</td>\n",
       "      <td>Mongolia</td>\n",
       "      <td>10820.0</td>\n",
       "      <td>Mongolia</td>\n",
       "      <td>3.278292e+06</td>\n",
       "      <td>Asia</td>\n",
       "      <td>NaN</td>\n",
       "      <td>NaN</td>\n",
       "      <td>NaN</td>\n",
       "      <td>NaN</td>\n",
       "      <td>NaN</td>\n",
       "    </tr>\n",
       "    <tr>\n",
       "      <th>73986</th>\n",
       "      <td>2021-04-05</td>\n",
       "      <td>Nepal</td>\n",
       "      <td>277944.0</td>\n",
       "      <td>Nepal</td>\n",
       "      <td>2.913681e+07</td>\n",
       "      <td>Asia</td>\n",
       "      <td>NaN</td>\n",
       "      <td>NaN</td>\n",
       "      <td>NaN</td>\n",
       "      <td>NaN</td>\n",
       "      <td>NaN</td>\n",
       "    </tr>\n",
       "    <tr>\n",
       "      <th>74009</th>\n",
       "      <td>2021-04-05</td>\n",
       "      <td>Saint Vincent and the Grenadines</td>\n",
       "      <td>1758.0</td>\n",
       "      <td>Saint Vincent and the Grenadines</td>\n",
       "      <td>1.109470e+05</td>\n",
       "      <td>North America</td>\n",
       "      <td>NaN</td>\n",
       "      <td>NaN</td>\n",
       "      <td>NaN</td>\n",
       "      <td>NaN</td>\n",
       "      <td>NaN</td>\n",
       "    </tr>\n",
       "    <tr>\n",
       "      <th>74013</th>\n",
       "      <td>2021-04-05</td>\n",
       "      <td>Saudi Arabia</td>\n",
       "      <td>392682.0</td>\n",
       "      <td>Saudi Arabia</td>\n",
       "      <td>3.481387e+07</td>\n",
       "      <td>Asia</td>\n",
       "      <td>NaN</td>\n",
       "      <td>NaN</td>\n",
       "      <td>NaN</td>\n",
       "      <td>NaN</td>\n",
       "      <td>NaN</td>\n",
       "    </tr>\n",
       "  </tbody>\n",
       "</table>\n",
       "</div>"
      ],
      "text/plain": [
       "      date_string                    country_region  country_confirmed  \\\n",
       "61311  2021-01-30                             Egypt           164871.0   \n",
       "64711  2021-02-16                      Saudi Arabia           373046.0   \n",
       "65147  2021-02-19                           Algeria           111418.0   \n",
       "70722  2021-03-19                             Nepal           275625.0   \n",
       "71756  2021-03-25               Antigua and Barbuda             1080.0   \n",
       "72089  2021-03-26  Saint Vincent and the Grenadines             1715.0   \n",
       "73196  2021-04-01                     Liechtenstein             2670.0   \n",
       "73586  2021-04-03                          Maldives            24548.0   \n",
       "73707  2021-04-04                             China           102872.0   \n",
       "73724  2021-04-04                             Egypt           204256.0   \n",
       "73788  2021-04-04                          Mongolia             9598.0   \n",
       "73821  2021-04-04                      Saudi Arabia           392009.0   \n",
       "73865  2021-04-05                           Algeria           117622.0   \n",
       "73868  2021-04-05               Antigua and Barbuda             1170.0   \n",
       "73899  2021-04-05                             China           101861.0   \n",
       "73916  2021-04-05                             Egypt           204965.0   \n",
       "73964  2021-04-05                     Liechtenstein             2685.0   \n",
       "73970  2021-04-05                          Maldives            24783.0   \n",
       "73980  2021-04-05                          Mongolia            10820.0   \n",
       "73986  2021-04-05                             Nepal           277944.0   \n",
       "74009  2021-04-05  Saint Vincent and the Grenadines             1758.0   \n",
       "74013  2021-04-05                      Saudi Arabia           392682.0   \n",
       "\n",
       "                               location    population      continent  \\\n",
       "61311                             Egypt  1.023344e+08         Africa   \n",
       "64711                      Saudi Arabia  3.481387e+07           Asia   \n",
       "65147                           Algeria  4.385104e+07         Africa   \n",
       "70722                             Nepal  2.913681e+07           Asia   \n",
       "71756               Antigua and Barbuda  9.792800e+04  North America   \n",
       "72089  Saint Vincent and the Grenadines  1.109470e+05  North America   \n",
       "73196                     Liechtenstein  3.813700e+04         Europe   \n",
       "73586                          Maldives  5.405420e+05           Asia   \n",
       "73707                             China  1.404676e+09           Asia   \n",
       "73724                             Egypt  1.023344e+08         Africa   \n",
       "73788                          Mongolia  3.278292e+06           Asia   \n",
       "73821                      Saudi Arabia  3.481387e+07           Asia   \n",
       "73865                           Algeria  4.385104e+07         Africa   \n",
       "73868               Antigua and Barbuda  9.792800e+04  North America   \n",
       "73899                             China  1.404676e+09           Asia   \n",
       "73916                             Egypt  1.023344e+08         Africa   \n",
       "73964                     Liechtenstein  3.813700e+04         Europe   \n",
       "73970                          Maldives  5.405420e+05           Asia   \n",
       "73980                          Mongolia  3.278292e+06           Asia   \n",
       "73986                             Nepal  2.913681e+07           Asia   \n",
       "74009  Saint Vincent and the Grenadines  1.109470e+05  North America   \n",
       "74013                      Saudi Arabia  3.481387e+07           Asia   \n",
       "\n",
       "         date_org                                      vaccine  \\\n",
       "61311  2021-01-30                            Sinopharm/Beijing   \n",
       "64711  2021-02-16                              Pfizer/BioNTech   \n",
       "65147  2021-02-19                                    Sputnik V   \n",
       "70722  2021-03-19                           Oxford/AstraZeneca   \n",
       "71756  2021-03-25                           Oxford/AstraZeneca   \n",
       "72089  2021-03-26                           Oxford/AstraZeneca   \n",
       "73196  2021-04-01                     Moderna, Pfizer/BioNTech   \n",
       "73586  2021-04-03                           Oxford/AstraZeneca   \n",
       "73707  2021-04-04  Sinopharm/Beijing, Sinopharm/Wuhan, Sinovac   \n",
       "73724  2021-04-04        Oxford/AstraZeneca, Sinopharm/Beijing   \n",
       "73788  2021-04-04                           Oxford/AstraZeneca   \n",
       "73821  2021-04-04          Oxford/AstraZeneca, Pfizer/BioNTech   \n",
       "73865         NaN                                          NaN   \n",
       "73868         NaN                                          NaN   \n",
       "73899         NaN                                          NaN   \n",
       "73916         NaN                                          NaN   \n",
       "73964         NaN                                          NaN   \n",
       "73970         NaN                                          NaN   \n",
       "73980         NaN                                          NaN   \n",
       "73986         NaN                                          NaN   \n",
       "74009         NaN                                          NaN   \n",
       "74013         NaN                                          NaN   \n",
       "\n",
       "       total_vaccinations  people_vaccinated  people_fully_vaccinated  \n",
       "61311              1315.0                NaN                      NaN  \n",
       "64711            462812.0                NaN                      NaN  \n",
       "65147             75000.0                NaN                      NaN  \n",
       "70722           1600000.0                NaN                      NaN  \n",
       "71756             26424.0                NaN                      NaN  \n",
       "72089             10519.0                NaN                      NaN  \n",
       "73196              6100.0                NaN                      NaN  \n",
       "73586            243749.0                NaN                      NaN  \n",
       "73707         139970000.0                NaN                      NaN  \n",
       "73724            148987.0                NaN                      NaN  \n",
       "73788            376373.0                NaN                      NaN  \n",
       "73821           4994576.0                NaN                      NaN  \n",
       "73865                 NaN                NaN                      NaN  \n",
       "73868                 NaN                NaN                      NaN  \n",
       "73899                 NaN                NaN                      NaN  \n",
       "73916                 NaN                NaN                      NaN  \n",
       "73964                 NaN                NaN                      NaN  \n",
       "73970                 NaN                NaN                      NaN  \n",
       "73980                 NaN                NaN                      NaN  \n",
       "73986                 NaN                NaN                      NaN  \n",
       "74009                 NaN                NaN                      NaN  \n",
       "74013                 NaN                NaN                      NaN  "
      ]
     },
     "execution_count": 76,
     "metadata": {},
     "output_type": "execute_result"
    }
   ],
   "source": [
    "df_temp.drop_duplicates(subset=['country_region', 'vaccine'], keep='last')"
   ]
  },
  {
   "cell_type": "markdown",
   "id": "b057c186",
   "metadata": {},
   "source": [
    "#### Plotly express plot"
   ]
  },
  {
   "cell_type": "code",
   "execution_count": null,
   "id": "c70f6b9b",
   "metadata": {},
   "outputs": [],
   "source": [
    "# https://stackoverflow.com/questions/62825101/plotly-graph-objects-add-df-column-to-hovertemplate\n",
    "# if y_col == 'past_week_daily_cases_per_100k':\n",
    "#     logy=False\n",
    "# else:\n",
    "#     logy=True\n",
    "logy=False\n",
    "\n",
    "fig = px.scatter(df_curr_case_vac,\n",
    "                 x=x_col,\n",
    "                 y=y_col,\n",
    "                 color='continent',\n",
    "                 hover_name=\"country_region\",\n",
    "                 hover_data={x_col:True, y_col:True, 'date_string':True},\n",
    "                 log_y=logy)\n",
    "\n",
    "# text='country_region',\n",
    "# log_x=True\n",
    "# log_y=True\n",
    "\n",
    "# size='country_confirmed',\n",
    "# size='country_confirmed_log',\n",
    "\n",
    "# Change marker size\n",
    "fig.update_traces(marker=dict(size=12,\n",
    "                              opacity=0.8,\n",
    "                              line=dict(width=2,\n",
    "                                        color='DarkSlateGrey')),\n",
    "                  selector=dict(mode='markers'))\n",
    "\n",
    "scatter = fig.data[0]\n",
    "\n",
    "# Change the location of country label\n",
    "pos_y = 'middle'\n",
    "pos_x = 'right'\n",
    "fig.update_traces(textposition='{} {}'.format(pos_y, pos_x))\n",
    "\n",
    "# marker = dict(size=8, color=list(map(SetColor, df_curr_case_vac['continent']))),\n",
    "\n",
    "# Turn background to transparent\n",
    "fig.update_layout({\n",
    "'plot_bgcolor': 'rgba(0, 0, 0, 0)'})\n",
    "\n",
    "# Turn on x-axis and y-axis lines\n",
    "fig.update_xaxes(showline=True, linewidth=1, linecolor='black', ticks=\"inside\")\n",
    "# Title\n",
    "fig.update_xaxes(title_text='Adjusted people vaccinated (%)')\n",
    "# Range\n",
    "# fig.update_xaxes(range=[df_curr_case_vac[x_col].min() - 2, df_curr_case_vac[x_col].max() + 2])\n",
    "\n",
    "\n",
    "fig.update_yaxes(showline=True, linewidth=1, linecolor='black', ticks=\"inside\")\n",
    "if y_col == 'past_week_daily_cases_per_100k':\n",
    "    fig.update_yaxes(title_text='Past week daily average cases (per 100K people)')\n",
    "else:\n",
    "    fig.update_yaxes(title_text='Past week daily average cases (number of people; log scale)')\n",
    "# fig.update_yaxes(range=[df_curr_case_vac[y_col].min() - 2, df_curr_case_vac[y_col].max() + 2])\n",
    "\n",
    "fig.show()"
   ]
  },
  {
   "cell_type": "code",
   "execution_count": 372,
   "id": "73096dbb",
   "metadata": {},
   "outputs": [],
   "source": [
    "# fig_case_vac.add_traces(go.Scatter(x=x,\n",
    "#                                    y=y,\n",
    "#                                    mode='markers',\n",
    "#                                    hoveron='points',\n",
    "#                                    hovertemplate= \n",
    "#                                    \"Country: {}<br>\".format(country_region) +\n",
    "#                                    \"Date: {}<br>\".format(date_used) +\n",
    "#                                    \"Past week daily average case per 100k: %{y}<br>\" +\n",
    "#                                    \"Percent adjusted people vaccinated: %{x}<br>\" +\n",
    "#                                    \"<extra></extra>\",\n",
    "#                                    name='country_region')\n",
    "#                        )"
   ]
  },
  {
   "cell_type": "code",
   "execution_count": null,
   "id": "8a26adc6",
   "metadata": {},
   "outputs": [],
   "source": [
    "# fig_case_vac.add_traces(go.Scatter(x=x,\n",
    "#                                        y=y,\n",
    "#                                        mode='markers',\n",
    "#                                        hoveron='points',\n",
    "#                                        hovertemplate= \n",
    "#                                        \"Country: {}<br>\".format(country) +\n",
    "#                                        \"Date: {}<br>\".format(group['date_string']) +\n",
    "#                                        \"Past week daily average case per 100k: %{y}<br>\" +\n",
    "#                                        \"Percent adjusted people vaccinated: %{x}<br>\" +\n",
    "#                                        \"<extra></extra>\",\n",
    "#                                        name='country_region')\n",
    "#                            )\n"
   ]
  }
 ],
 "metadata": {
  "kernelspec": {
   "display_name": "Python 3",
   "language": "python",
   "name": "python3"
  },
  "language_info": {
   "codemirror_mode": {
    "name": "ipython",
    "version": 3
   },
   "file_extension": ".py",
   "mimetype": "text/x-python",
   "name": "python",
   "nbconvert_exporter": "python",
   "pygments_lexer": "ipython3",
   "version": "3.8.8"
  }
 },
 "nbformat": 4,
 "nbformat_minor": 5
}
