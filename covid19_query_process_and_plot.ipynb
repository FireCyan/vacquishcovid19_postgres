{
 "cells": [
  {
   "cell_type": "code",
   "execution_count": 1,
   "id": "be3358a9",
   "metadata": {},
   "outputs": [],
   "source": [
    "# This notebook import query_processing.py, which organises the code in covid19_plot.ipynb into functions"
   ]
  },
  {
   "cell_type": "code",
   "execution_count": 1,
   "id": "bd44230c",
   "metadata": {},
   "outputs": [],
   "source": [
    "import os, sys, re \n",
    "from pathlib import Path\n",
    "\n",
    "current_wd = Path(r'C:\\John_folder\\github_projects\\vacquishcovid19_postgres')\n",
    "\n",
    "modules=[current_wd]\n",
    "\n",
    "for module in modules: \n",
    "    for fld in module.glob('**'): \n",
    "        if re.search('__pycache__', str(fld)) is None and re.search('\\.git', str(fld)) is None and str(fld) not in sys.path: \n",
    "            sys.path.append(str(fld))"
   ]
  },
  {
   "cell_type": "code",
   "execution_count": 2,
   "id": "c620748e",
   "metadata": {
    "scrolled": true
   },
   "outputs": [],
   "source": [
    "import query_processing as qp"
   ]
  },
  {
   "cell_type": "code",
   "execution_count": 3,
   "id": "74121d02",
   "metadata": {},
   "outputs": [],
   "source": [
    "df_case_loc_vac = qp.combine_case_vac_lookup()"
   ]
  },
  {
   "cell_type": "code",
   "execution_count": 33,
   "id": "811d0ec3",
   "metadata": {},
   "outputs": [],
   "source": [
    "df_case_vac_drop_null_total = df_case_loc_vac.dropna(subset=['total_vaccinations'])\n",
    "list_countries_after_drop_null_total_vac = list(df_case_vac_drop_null_total['country_region'].unique())\n",
    "\n",
    "df_case_vac_latest_with_ppl_vac = df_case_vac_drop_null_total.groupby('country_region').tail(1).dropna(subset=['people_vaccinated'])\n",
    "list_countries_with_ppl_vac = list(df_case_vac_latest_with_ppl_vac['country_region'].unique())\n",
    "\n",
    "list_country_with_total_vac_no_ppl_vac = [x for x in list_countries_after_drop_total_vac if x not in list_countries_with_ppl_vac]"
   ]
  },
  {
   "cell_type": "code",
   "execution_count": 34,
   "id": "0108d6a0",
   "metadata": {},
   "outputs": [
    {
     "data": {
      "text/plain": [
       "['China',\n",
       " 'Qatar',\n",
       " 'Kuwait',\n",
       " 'United Arab Emirates',\n",
       " 'Saudi Arabia',\n",
       " 'Albania',\n",
       " 'Netherlands',\n",
       " 'Algeria',\n",
       " 'Pakistan',\n",
       " 'Bosnia and Herzegovina',\n",
       " 'Australia',\n",
       " 'Saint Lucia',\n",
       " 'Mongolia',\n",
       " 'Saint Vincent and the Grenadines',\n",
       " 'Ethiopia']"
      ]
     },
     "execution_count": 34,
     "metadata": {},
     "output_type": "execute_result"
    }
   ],
   "source": [
    "list_country_with_total_vac_no_ppl_vac"
   ]
  },
  {
   "cell_type": "code",
   "execution_count": 4,
   "id": "960a497e",
   "metadata": {},
   "outputs": [],
   "source": [
    "df_case_vac, df_curr_case_vac = qp.get_adjusted_people_vaccinated(df_case_loc_vac)"
   ]
  },
  {
   "cell_type": "code",
   "execution_count": 55,
   "id": "96e141ff",
   "metadata": {},
   "outputs": [],
   "source": [
    "# import numpy as np\n",
    "# mat_neg = (df_case_vac['daily_country_confirmed'] < 0)\n",
    "# df_case_vac.loc[mat_neg, 'daily_country_confirmed'] = np.nan"
   ]
  },
  {
   "cell_type": "code",
   "execution_count": 61,
   "id": "db723719",
   "metadata": {},
   "outputs": [],
   "source": [
    "# df_case_vac[mat_neg]"
   ]
  },
  {
   "cell_type": "code",
   "execution_count": 8,
   "id": "a58072de",
   "metadata": {},
   "outputs": [
    {
     "data": {
      "text/plain": [
       "country_region\n",
       " Azerbaijan                         0.000000\n",
       "Afghanistan                       156.400452\n",
       "Albania                           297.265169\n",
       "Algeria                           284.882222\n",
       "Andorra                            30.977376\n",
       "                                     ...    \n",
       "West Bank and Gaza                716.748252\n",
       "Yemen                              16.236715\n",
       "Zambia                            217.075862\n",
       "Zimbabwe                           89.464368\n",
       "occupied Palestinian territory    -12.500000\n",
       "Name: daily_country_confirmed, Length: 243, dtype: float64"
      ]
     },
     "execution_count": 8,
     "metadata": {},
     "output_type": "execute_result"
    }
   ],
   "source": [
    "overall_case_avg"
   ]
  },
  {
   "cell_type": "code",
   "execution_count": 7,
   "id": "6afb64d9",
   "metadata": {},
   "outputs": [],
   "source": [
    "# df_case_vac\n",
    "# df_curr_case_vac"
   ]
  },
  {
   "cell_type": "code",
   "execution_count": 15,
   "id": "d3196bdc",
   "metadata": {},
   "outputs": [
    {
     "data": {
      "text/plain": [
       "[nan,\n",
       " 'Asia',\n",
       " 'North America',\n",
       " 'Oceania',\n",
       " 'South America',\n",
       " 'Europe',\n",
       " 'Africa',\n",
       " None]"
      ]
     },
     "execution_count": 15,
     "metadata": {},
     "output_type": "execute_result"
    }
   ],
   "source": [
    "list(df_case_loc_vac['continent'].unique())"
   ]
  },
  {
   "cell_type": "markdown",
   "id": "24f4a7aa",
   "metadata": {},
   "source": [
    "### Plotting"
   ]
  },
  {
   "cell_type": "code",
   "execution_count": 5,
   "id": "3c2e8557",
   "metadata": {},
   "outputs": [],
   "source": [
    "x_col = 'percent_adjusted_people_vaccinated'\n",
    "y_col = 'past_week_daily_cases'"
   ]
  },
  {
   "cell_type": "code",
   "execution_count": 6,
   "id": "1d5c2554",
   "metadata": {},
   "outputs": [],
   "source": [
    "import covid_plot as cp"
   ]
  },
  {
   "cell_type": "code",
   "execution_count": null,
   "id": "d3dff088",
   "metadata": {},
   "outputs": [],
   "source": [
    "cp.plot_latest_case_vac(df_curr_case_vac)\n",
    "# , continents=['Asia', 'North America']"
   ]
  },
  {
   "cell_type": "code",
   "execution_count": null,
   "id": "66fd31f4",
   "metadata": {},
   "outputs": [],
   "source": [
    "cp.plot_case_vac_ts(df_case_vac, ['France'])\n",
    "\n",
    "# ['United Kingdom', 'US']"
   ]
  },
  {
   "cell_type": "code",
   "execution_count": null,
   "id": "14083ef8",
   "metadata": {},
   "outputs": [],
   "source": [
    "mat_france = df_case_vac['country_region'] == 'France'\n",
    "df_case_vac[mat_france].tail(20)"
   ]
  },
  {
   "cell_type": "code",
   "execution_count": null,
   "id": "c4a438ea",
   "metadata": {},
   "outputs": [],
   "source": []
  }
 ],
 "metadata": {
  "kernelspec": {
   "display_name": "Python 3",
   "language": "python",
   "name": "python3"
  },
  "language_info": {
   "codemirror_mode": {
    "name": "ipython",
    "version": 3
   },
   "file_extension": ".py",
   "mimetype": "text/x-python",
   "name": "python",
   "nbconvert_exporter": "python",
   "pygments_lexer": "ipython3",
   "version": "3.8.8"
  }
 },
 "nbformat": 4,
 "nbformat_minor": 5
}
